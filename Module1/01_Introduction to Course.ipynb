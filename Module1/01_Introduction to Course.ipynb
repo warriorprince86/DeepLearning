{
 "cells": [
  {
   "cell_type": "markdown",
   "metadata": {},
   "source": [
    "# SCS 3546 Week 1 - Introduction to Course "
   ]
  },
  {
   "cell_type": "markdown",
   "metadata": {},
   "source": [
    "## Agenda \n",
    " \n",
    "- Discussing the course outline and university logistics \n",
    "- Class Introductions\n",
    "- Talking about Deep Learning use cases and moral issues of AI\n",
    "- Reviewing Deep Learning Concepts "
   ]
  },
  {
   "cell_type": "markdown",
   "metadata": {},
   "source": [
    "## Introduction to the course\n",
    "Welcome to SCS 3546 Deep Learning, the second course in the Certificate in AI."
   ]
  },
  {
   "cell_type": "markdown",
   "metadata": {},
   "source": [
    "### Certificates in Data Science\n",
    "The University of Toronto School of Continuing Studies offers three Data Science-related certificates:\n",
    "- Management of Enterprise Analytics: This certificate is for people who will be managing or working with Data Science teams and need an understanding of the key management issues such as privacy and security and a survey of the core data science techniques.\n",
    "- Data Science: This certificate covers the key statistical methods of Data Science, the technologies for analyzing small and massive distributed datasets, and the inner workings of machine learning algorithms, all using hands-on tools and exercises in Python.  The certificate includes four courses: Foundations of Data Science, Statistics for Data Science, Big Data Tools and Machine Learning.\n",
    "- Artificial Intelligence: This certificate shares the Machine Learning course from the Data Science certificate and adds two additional courses, Deep Learning (this course), which extends the introduction to Deep Learning and TensorFlow from the Machine Learning course into specific Deep Learning architectures and their applications; and Intelligent Agents & Reinforcement Learning which covers search and learning techniques for problems (such as game-playing) where there isn't a single best strategy but some moves are likely better than others and there is occasional feedback that the strategy seems to be working well or not."
   ]
  },
  {
   "cell_type": "markdown",
   "metadata": {},
   "source": [
    "### Course outline\n",
    "The course outline is provided in a separate document."
   ]
  },
  {
   "cell_type": "markdown",
   "metadata": {},
   "source": [
    "### Introductions\n",
    "One of the objectives of courses in our certificate programs is to provide an opportunity for you to widen your network of industry contacts.  Please introduce yourself to the class and tell us a little about yourself:\n",
    "- Who you work for\n",
    "- Your role\n",
    "- Previous experience with Python, TensorFlow and Deep Learning\n",
    "- Why you're taking the course and what you'd like to get out of it"
   ]
  },
  {
   "cell_type": "markdown",
   "metadata": {},
   "source": [
    "### News of the Week\n",
    "The instructor may ask for volunteers (one per week) to prepare a 5 minute presentation on current events in the world of neural nets at the beginning of each class.  Learners who are in class on time will catch the latest news."
   ]
  },
  {
   "cell_type": "markdown",
   "metadata": {},
   "source": [
    "### How to get the most out of the course\n",
    "- Do the readings\n",
    "- Be on time\n",
    "- Work/share with/help other attendees\n",
    "- Do the assignments\n",
    "- If you get stuck\n",
    "  1. Try googling the error message: you'll probably find something useful\n",
    "  2. Post a question on the portal: the instructors and another learners will help\n",
    "  3. If those don't work, email the instructors"
   ]
  },
  {
   "cell_type": "code",
   "execution_count": null,
   "metadata": {
    "collapsed": true,
    "jupyter": {
     "outputs_hidden": true
    }
   },
   "outputs": [],
   "source": []
  }
 ],
 "metadata": {
  "kernelspec": {
   "display_name": "Python 3 (ipykernel)",
   "language": "python",
   "name": "python3"
  },
  "language_info": {
   "codemirror_mode": {
    "name": "ipython",
    "version": 3
   },
   "file_extension": ".py",
   "mimetype": "text/x-python",
   "name": "python",
   "nbconvert_exporter": "python",
   "pygments_lexer": "ipython3",
   "version": "3.9.5"
  }
 },
 "nbformat": 4,
 "nbformat_minor": 4
}
