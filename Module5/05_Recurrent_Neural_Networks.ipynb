{
  "nbformat": 4,
  "nbformat_minor": 0,
  "metadata": {
    "kernelspec": {
      "display_name": "Python 3",
      "language": "python",
      "name": "python3"
    },
    "language_info": {
      "codemirror_mode": {
        "name": "ipython",
        "version": 3
      },
      "file_extension": ".py",
      "mimetype": "text/x-python",
      "name": "python",
      "nbconvert_exporter": "python",
      "pygments_lexer": "ipython3",
      "version": "3.7.2"
    },
    "nav_menu": {},
    "toc": {
      "navigate_menu": true,
      "number_sections": true,
      "sideBar": true,
      "threshold": 6,
      "toc_cell": false,
      "toc_section_display": "block",
      "toc_window_display": false
    },
    "colab": {
      "name": "05 - Recurrent Neural Networks.ipynb",
      "provenance": [],
      "toc_visible": true
    },
    "accelerator": "GPU"
  },
  "cells": [
    {
      "cell_type": "markdown",
      "metadata": {
        "id": "y0uj9GvTq6hH"
      },
      "source": [
        "# Week 5 – Recurrent Neural Networks"
      ]
    },
    {
      "cell_type": "code",
      "metadata": {
        "id": "zCOnSNi6q6hJ"
      },
      "source": [
        "import tensorflow \n",
        "import tensorflow.keras as keras\n",
        "import numpy as np"
      ],
      "execution_count": 1,
      "outputs": []
    },
    {
      "cell_type": "code",
      "metadata": {
        "id": "t4PAbae9q6hJ"
      },
      "source": [
        "from IPython.display import Image"
      ],
      "execution_count": 2,
      "outputs": []
    },
    {
      "cell_type": "markdown",
      "metadata": {
        "id": "dem9XAMmq6hJ"
      },
      "source": [
        "## Outline\n",
        "\n",
        "\n",
        "- Recurrent Neurons \n",
        "- Basic RNNs in TensorFlow \n",
        "- Training RNNs \n",
        "- Deep RNNs \n",
        "- LSTM Cell \n",
        "- GRU Cell \n",
        "\n",
        "    \n",
        "## Learning Outcomes\n",
        "\n",
        "- Understanding of fundamental concepts underlying RNNs\n",
        "- Main problems RNNs face and solutions to fight them\n",
        "- Comprenhension of the different types of cells: LSTMs and GRUs. \n",
        "- Familiarity with the implementation of RNNs using TensorFlow and Keras. \n",
        "- Exposure to applications where RNNs have shown remarkable performance\n",
        "- Grasp of practical considerations: training time, parameters, vanishing/exploding gradients,\n",
        "- Become familiar with the typical architectures\n",
        "- Practical training and deployment considerations"
      ]
    },
    {
      "cell_type": "markdown",
      "metadata": {
        "id": "8CpKWd0Tq6hK"
      },
      "source": [
        "## Introduction\n",
        "\n",
        "- Today, we are going to discuss recurrent neural networks (RNN):\n",
        "    - A class of nets that can predict the future :)\n",
        "- They can analyze time series data such as stock prices, \n",
        "- In autonomous driving systems, they can anticipate car trajectories,\n",
        "- They can work on sequences of arbitrary lengths,\n",
        "- They can take sentences, documents, or audio samples as input, making them extremely useful for natural language processing (NLP) systems.\n",
        "- RNNs can generate sentences, image captions, and much more. \n",
        "- We could ask RNNs to predict which are the most likely next notes in a melody, then randomly pick one of these notes and play it. Then ask the net for the next most likely notes, play it, and repeat the process again and again. (Melody composition) see the Magenta project by Google.\n",
        "\n",
        "\n",
        "We will look at the fundamental concepts underlying RNNs, problem and solutions during training."
      ]
    },
    {
      "cell_type": "markdown",
      "metadata": {
        "id": "MtW39NTyq6hK"
      },
      "source": [
        "## Setup\n",
        "\n",
        "First, let's make sure this notebook has all the required libraries, import a few common modules, ensure MatplotLib plots figures inline and prepare a function to save the figures:"
      ]
    },
    {
      "cell_type": "code",
      "metadata": {
        "id": "XNMMvM_6q6hK"
      },
      "source": [
        "import warnings\n",
        "warnings.filterwarnings(\"ignore\")\n",
        "#File containing all definitions and utility functions.\n",
        "from tensorflow import keras\n",
        "%matplotlib inline\n",
        "# Where to save the figures\n",
        "PROJECT_ROOT_DIR = \".\"\n",
        "CHAPTER_ID = \"rnn\"\n",
        "\n",
        "# Common imports\n",
        "import numpy as np\n",
        "import os\n",
        "\n",
        "# to make this notebook's output stable across runs\n",
        "def reset_graph(seed=42):\n",
        "    tf.reset_default_graph()\n",
        "    tf.set_random_seed(seed)\n",
        "    np.random.seed(seed)\n",
        "\n",
        "# To plot pretty figures\n",
        "import matplotlib\n",
        "import matplotlib.pyplot as plt\n",
        "plt.rcParams['axes.labelsize'] = 14\n",
        "plt.rcParams['xtick.labelsize'] = 12\n",
        "plt.rcParams['ytick.labelsize'] = 12\n",
        "\n",
        "#Import tensorflow\n",
        "import tensorflow as tf\n",
        "from tensorflow import keras\n",
        "\n",
        "# Common imports\n",
        "import numpy as np\n",
        "import os\n",
        "\n",
        "# To plot pretty figures\n",
        "import matplotlib\n",
        "import matplotlib.pyplot as plt\n",
        "plt.rcParams['axes.labelsize'] = 14\n",
        "plt.rcParams['xtick.labelsize'] = 12\n",
        "plt.rcParams['ytick.labelsize'] = 12\n",
        "\n",
        "\n",
        "def save_fig(fig_id, tight_layout=True):\n",
        "    path = os.path.join(PROJECT_ROOT_DIR, \"images\", CHAPTER_ID, fig_id + \".png\")\n",
        "    print(\"Saving figure\", fig_id)\n",
        "    if tight_layout:\n",
        "        plt.tight_layout()\n",
        "    plt.savefig(path, format='png', dpi=300)\n",
        "    \n",
        "def plot_image(image):\n",
        "    plt.imshow(image, cmap=\"gray\", interpolation=\"nearest\")\n",
        "    plt.axis(\"off\")\n",
        "\n",
        "def plot_color_image(image):\n",
        "    plt.imshow(image.astype(np.uint8),interpolation=\"nearest\")\n",
        "    plt.axis(\"off\")\n",
        "\n"
      ],
      "execution_count": 3,
      "outputs": []
    },
    {
      "cell_type": "markdown",
      "metadata": {
        "id": "dzEqjKISq6hL"
      },
      "source": [
        "# Recurrent Neurons\n",
        "\n",
        "- A recurrent neural network looks very much like a feedforward neural network, except it also has connections pointing backwards. \n",
        "\n",
        "- Let’s look at the simplest possible RNN, one cell with feedback: \n",
        "    - At each time step t, this recurrent neuron receives the inputs $x(t)$ as well as its own output from the previous time step, $y(t–1)$. \n",
        "    - We can represent this tiny network against the time axis. This is called unrolling the network through time.\n",
        "\n",
        "\n",
        "<center><img src=\"https://drive.google.com/uc?id=1APTz3hmUynG8GJspgaKnjh_4tZfaUzsd\" ></center>\n"
      ]
    },
    {
      "cell_type": "markdown",
      "metadata": {
        "id": "ZrkuHJsnq6hL"
      },
      "source": [
        "\n",
        "Now, to create a layer:\n",
        "- Every neuron receives both the input vector $x(t)$ and the output vector from the previous time step $y(t–1)$. \n",
        "- Note that both the inputs and outputs are vectors now \n",
        "\n",
        "<center><img src=\"https://drive.google.com/uc?id=1IAWzmhjpz8IM9xKmKmbdMmtGFCALOGxL\" ></center>\n",
        "\n",
        "Each recurrent neuron has two sets of weights: \n",
        "- for the inputs $x(t)$: $w_x$\n",
        "- for the outputs of the previous time step, $y(t–1)$: $w_y$\n",
        "- We can place all the weight vectors for all neurons in two weight matrices, $W_x$ and $W_y$. \n",
        "- The output vector of the whole recurrent layer can then be computed as:  \n",
        "($b$ is the bias vector and $\\phi(.)$ is the activation function).\n"
      ]
    },
    {
      "cell_type": "markdown",
      "metadata": {
        "id": "REyQkhahq6hL"
      },
      "source": [
        "$$\n",
        "\\mathbf{y}_{(t)}=\\phi\\left(\\mathbf{W}_{x}{ }^{T} \\mathbf{x}_{(t)}+\\mathbf{W}_{y}{ }^{T} \\mathbf{y}_{(t-1)}+\\mathbf{b}\\right)\n",
        "$$\n",
        "\n",
        "We can compute a recurrent layer’s output in one shot for a whole mini-batch :\n",
        "\n",
        "\n",
        "$$\n",
        "\\begin{aligned} \\mathbf{Y}_{(t)} &=\\phi\\left(\\mathbf{X}_{(t)} \\mathbf{W}_{x}+\\mathbf{Y}_{(t-1)} \\mathbf{W}_{y}+\\mathbf{b}\\right) \\\\ &=\\phi\\left(\\left[\\begin{array}{ll}\\mathbf{X}_{(t)} & \\mathbf{Y}_{(t-1)}\\end{array}\\right] \\mathbf{W}+\\mathbf{b}\\right) \\text { with } \\mathbf{W}=\\left[\\begin{array}{l}\\mathbf{W}_{x} \\\\ \\mathbf{W}_{y}\\end{array}\\right] \\end{aligned}\n",
        "$$\n",
        "\n",
        "- $Y(t)$ is an $m \\times n_{neurons}$ matrix containing the layer’s outputs at time step $t$ for each instance in the mini-batch (m is the number of instances in the mini-batch).\n",
        "\n",
        "- $X(t)$ is an $m \\times n_{inputs}$ matrix containing the inputs for all instances \n",
        "\n",
        "- $W_x$ is an $n_{inputs} \\times n_{neurons}$ matrix containing the connection weights of the current step.\n",
        "\n",
        "- $W_y$ is an $n_{neurons} × n_{neurons}$ matrix containing the connection weights for the outputs of the previous time step.\n",
        "\n",
        "- $b$ is a vector of size $n_{neurons}$ containing each neuron’s bias term.\n",
        "\n",
        "The weight matrices $W_x$ and $W_y$ are often concatenated vertically into a single weight matrix $W$\n",
        "\n",
        "The notation $[X(t) Y(t–1)]$ represents the horizontal concatenation of the matrices $X(t)$ and $Y(t–1)$.\n",
        "\n",
        "Notice that Y(t) is a function of X(t) and Y(t–1), which is a function of X(t–1) and Y(t–2), which is a function of X(t–2) and Y(t–3), and so on. \n",
        "\n"
      ]
    },
    {
      "cell_type": "markdown",
      "metadata": {
        "id": "kMuTp0W6q6hM"
      },
      "source": [
        "# Memory Cells\n",
        "\n",
        "- The output of a recurrent neuron at time $t$ is a function of all the inputs from previous times:\n",
        "    - You could say it has a form of memory. \n",
        "    \n",
        "    \n",
        "- A single recurrent neuron, is a very form of memory cell.\n",
        "\n",
        "- In general, a cell’s state $h(t)$ is a function of some inputs $x(t)$ and its state at the previous time step: \n",
        "    - $h(t) = f(h(t–1), x(t))$\n",
        "    \n",
        "    \n",
        "- The network's output $y(t)$, is also a function of the previous $y(t-1)$ and $x(t)$. \n",
        "\n",
        "- We will look at more complex memory cells later today\n",
        "\n",
        "<center><img src=\"https://drive.google.com/uc?id=1p1KtbVG3rxs1jL15ZJIkHlX8mkdPLzRM\" ></center>\n"
      ]
    },
    {
      "cell_type": "markdown",
      "metadata": {
        "id": "NEbk_BjSq6hM"
      },
      "source": [
        "# Input and Output Sequences\n",
        "\n",
        "- An RNN can simultaneously take a sequence of inputs and produce a sequence of outputs:\n",
        "    - Useful for predicting time series\n",
        "\n",
        "\n",
        "- RNNs can also take a sequence of inputs, and ignore all outputs except for the last one:\n",
        "    - Sequence-to-vector network. i.e. feed the network a sequence of words corresponding to a movie review, and the network would output a sentiment score (e.g., from –1 [hate] to +1 [love]).\n",
        "\n",
        "\n",
        "- Single input at the first time step (and zeros for all other time steps), and let it output a sequence \n",
        "    - Vector-to-sequence network. i.e. the input could be an image, and the output could be a caption for that image.\n",
        "\n",
        "\n",
        "- Sequence-to-vector network (encoder), followed by a vector-to-sequence network (decoder).  \n",
        "    - translating a sentence from one language to another. This two-step model, called an Encoder–Decoder. \n",
        "    - This model works better because the last words of a sentence can affect the first words of the translation.\n",
        "\n",
        "\n",
        "<center><img src=\"https://drive.google.com/uc?id=1ut-l3DRwhvds8WtqcNQw2DcnBtcX6wFx\" ></center>\n",
        "\n"
      ]
    },
    {
      "cell_type": "markdown",
      "metadata": {
        "id": "tCtWOWeyq6hM"
      },
      "source": [
        "\n",
        "\n",
        "Below you can see the computational graph to compute the training loss of a recurrent network\n",
        "\n",
        "<center><img src=\"https://drive.google.com/uc?id=1cwiS24E1J6HKVh7rTU7IX7KB0RaXhoNN\" ></center>\n",
        "\n",
        "$$\n",
        "\\begin{array}{l}{\\boldsymbol{a}^{(t)}=\\boldsymbol{b}+\\boldsymbol{W} \\boldsymbol{h}^{(t-1)}+\\boldsymbol{U} \\boldsymbol{x}^{(t)}} \\\\ {\\boldsymbol{h}^{(t)}=\\tanh \\left(\\boldsymbol{a}^{(t)}\\right)} \\\\ {\\boldsymbol{o}^{(t)}=\\boldsymbol{c}+\\boldsymbol{V} \\boldsymbol{h}^{(t)}} \\\\ {\\hat{\\boldsymbol{y}}^{(t)}=\\operatorname{softmax}\\left(\\boldsymbol{o}^{(t)}\\right)}\\end{array}\n",
        "$$"
      ]
    },
    {
      "cell_type": "markdown",
      "metadata": {
        "id": "TjhFZBRHq6hN"
      },
      "source": [
        "Following is another RNN whose only recurrence is the feedback connection from the output to the hidden layer\n",
        "<center><img src=\"https://drive.google.com/uc?id=1fA8SalfBnRwPmEz7tI6DfXIwvGrCxqC2\" ></center>"
      ]
    },
    {
      "cell_type": "markdown",
      "metadata": {
        "id": "cr_4JNQEq6hN"
      },
      "source": [
        "### Teacher Forcing and Networks with Output Recurrence\n",
        "<center><img src=\"https://drive.google.com/uc?id=11RVNyTbbIsX7WIg_Xt_ZXijBPJdWQPIV\" ></center>"
      ]
    },
    {
      "cell_type": "markdown",
      "metadata": {
        "id": "6HHymZQJq6hN"
      },
      "source": [
        "### Time-unfolded recurrent neural network with a single output\n",
        "<center><img src=\"https://drive.google.com/uc?id=1oZKbBMwYID6Zr5EUOjqeNgDccV2gG0b3\" ></center>\n"
      ]
    },
    {
      "cell_type": "markdown",
      "metadata": {
        "id": "rnioUvkHq6hN"
      },
      "source": [
        "### Bidirectional RNNs\n",
        "\n",
        "<center><img src=\"https://drive.google.com/uc?id=1aMhWHHOlYP74vcejp5RGC-aqSY5lcWLl\" ></center>\n",
        "\n",
        "$$\n",
        "\\begin{array}{l}{\\bar{h}_{t}^{(f)}=\\tanh \\left(W_{x h}^{(f)} \\bar{x}_{t}+W_{h h}^{(f)} \\bar{h}_{t-1}^{(f)}\\right)} \\\\ {\\bar{g}_{t}^{(b)}=\\tanh \\left(W_{x g}^{(b)} \\bar{x}_{t}+W_{g g}^{(b)} \\bar{g}_{t+1}^{(b)}\\right)} \\\\ {\\bar{o}_{t}=W_{h y}^{(f)} \\bar{h}_{t}^{(f)}+W_{g y}^{(b)} \\bar{g}_{t}^{(b)}}\\end{array}\n",
        "$$"
      ]
    },
    {
      "cell_type": "markdown",
      "metadata": {
        "id": "O0l6SzYJq6hN"
      },
      "source": [
        "### Modeling Sequences Conditioned on Context \n",
        "\n",
        "An RNN that maps a ﬁxed-length vector $x$ into a distribution over sequences $Y$. \n",
        "\n",
        "<center><img src=\"https://drive.google.com/uc?id=1n6Rikao4cgIgh6ogFMtRN_CfvE_5b95X\" ></center>\n"
      ]
    },
    {
      "cell_type": "markdown",
      "metadata": {
        "id": "g8kcziEEq6hN"
      },
      "source": [
        "A conditional recurrent neural network mapping a variable-length sequence of $x$ values into a distribution over sequences of $y$ values of the same length.\n",
        "\n",
        "<center><img src=\"https://drive.google.com/uc?id=1_YZwZyca0B6negcRT7glwi6UbLINSwS-\" ></center>"
      ]
    },
    {
      "cell_type": "markdown",
      "metadata": {
        "id": "UYi_eqYnq6hN"
      },
      "source": [
        "### Encoder-Decoder Sequence-to-Sequence Architecture\n",
        "\n",
        "<center><img src=\"https://drive.google.com/uc?id=1k87zptKYoNpDoNmWzb5Q3enUEMeV75D6\" ></center>"
      ]
    },
    {
      "cell_type": "markdown",
      "metadata": {
        "id": "4ZZB8xgtq6hN"
      },
      "source": [
        "# Training RNNs\n",
        "\n",
        "The approach is to unroll the RNN through time and then use regular backpropagation  --backpropagation through time (BPTT).\n",
        "\n",
        "\n",
        "\n",
        "\n",
        "<center><img src=\"https://drive.google.com/uc?id=1ixYssb7qufxQ_0Tw95haM-wVEbs645rh\" ></center>\n",
        "\n",
        "- There is a first forward pass through the unrolled network ; \n",
        "- then the output sequence is evaluated using a cost function \n",
        "- and the gradients of that cost function are propagated backward through the unrolled network \n",
        "- finally the model parameters are updated using the gradients computed during BPTT. \n",
        "\n",
        "Note that the gradients flow backward through all the outputs used by the cost function, not just through the final output. \n",
        "\n",
        "Since the same parameters W and b are used at each time step, backpropagation will do the right thing and sum over all time steps.\n",
        "\n"
      ]
    },
    {
      "cell_type": "markdown",
      "metadata": {
        "id": "4UJQQOrPq6hO"
      },
      "source": [
        "# Forecasting a Time Series\n"
      ]
    },
    {
      "cell_type": "markdown",
      "metadata": {
        "id": "hmBFC5Ekq6hO"
      },
      "source": [
        "## Generate the Dataset"
      ]
    },
    {
      "cell_type": "code",
      "metadata": {
        "id": "ol20ccB2q6hO"
      },
      "source": [
        "def generate_time_series(batch_size, n_steps):\n",
        "    freq1, freq2, offsets1, offsets2 = np.random.rand(4, batch_size, 1)\n",
        "    time = np.linspace(0, 1, n_steps)\n",
        "    series = 0.5 * np.sin((time - offsets1) * (freq1 * 10 + 10))  #   wave 1\n",
        "    series += 0.2 * np.sin((time - offsets2) * (freq2 * 20 + 20)) # + wave 2\n",
        "    series += 0.1 * (np.random.rand(batch_size, n_steps) - 0.5)   # + noise\n",
        "    return series[..., np.newaxis].astype(np.float32)"
      ],
      "execution_count": 4,
      "outputs": []
    },
    {
      "cell_type": "code",
      "metadata": {
        "id": "o4q-cl95q6hO"
      },
      "source": [
        "n_steps = 50\n",
        "series = generate_time_series(10000, n_steps + 1)\n",
        "X_train, y_train = series[:7000, :n_steps], series[:7000, -1]\n",
        "X_valid, y_valid = series[7000:9000, :n_steps], series[7000:9000, -1]\n",
        "X_test, y_test = series[9000:, :n_steps], series[9000:, -1]"
      ],
      "execution_count": 5,
      "outputs": []
    },
    {
      "cell_type": "code",
      "metadata": {
        "id": "v39Gayjbq6hO"
      },
      "source": [
        "# series[1:40]"
      ],
      "execution_count": 6,
      "outputs": []
    },
    {
      "cell_type": "code",
      "metadata": {
        "colab": {
          "base_uri": "https://localhost:8080/"
        },
        "id": "Ur7k7fBrq6hO",
        "outputId": "a2a80a8b-0aa5-4fae-bfbb-0cd6d4d02915"
      },
      "source": [
        "X_train.shape, y_train[0].shape\n"
      ],
      "execution_count": 7,
      "outputs": [
        {
          "output_type": "execute_result",
          "data": {
            "text/plain": [
              "((7000, 50, 1), (1,))"
            ]
          },
          "metadata": {
            "tags": []
          },
          "execution_count": 7
        }
      ]
    },
    {
      "cell_type": "code",
      "metadata": {
        "colab": {
          "base_uri": "https://localhost:8080/",
          "height": 293
        },
        "id": "JFG9rInLq6hP",
        "outputId": "7910d84d-ae87-4a2a-da1e-f168724c7c00"
      },
      "source": [
        "def plot_series(series, y=None, y_pred=None, x_label=\"$t$\", y_label=\"$x(t)$\"):\n",
        "    plt.plot(series, \".-\")\n",
        "    if y is not None:\n",
        "        plt.plot(n_steps, y, \"bx\", markersize=10)\n",
        "    if y_pred is not None:\n",
        "        plt.plot(n_steps, y_pred, \"ro\")\n",
        "    plt.grid(True)\n",
        "    if x_label:\n",
        "        plt.xlabel(x_label, fontsize=16)\n",
        "    if y_label:\n",
        "        plt.ylabel(y_label, fontsize=16, rotation=0)\n",
        "    plt.hlines(0, 0, 100, linewidth=1)\n",
        "    plt.axis([0, n_steps + 1, -1, 1])\n",
        "\n",
        "fig, axes = plt.subplots(nrows=1, ncols=3, sharey=True, figsize=(12, 4))\n",
        "for col in range(3):\n",
        "    plt.sca(axes[col])\n",
        "    plot_series(X_valid[col, :, 0], y_valid[col, 0],\n",
        "                y_label=(\"$x(t)$\" if col==0 else None))\n",
        "plt.show()"
      ],
      "execution_count": 8,
      "outputs": [
        {
          "output_type": "display_data",
          "data": {
            "image/png": "[encoded data removed]",
            "text/plain": [
              "<Figure size 864x288 with 3 Axes>"
            ]
          },
          "metadata": {
            "tags": [],
            "needs_background": "light"
          }
        }
      ]
    },
    {
      "cell_type": "code",
      "metadata": {
        "colab": {
          "base_uri": "https://localhost:8080/"
        },
        "id": "zrhxWzScq6hP",
        "outputId": "cc9e1d99-ccb0-4acd-bcb2-d404bfcc16d6"
      },
      "source": [
        "model = keras.models.Sequential([\n",
        "    keras.layers.SimpleRNN(1, input_shape=[None, 1]),\n",
        "])\n",
        "\n",
        "\n",
        "optimizer = keras.optimizers.Adam(lr=0.005)\n",
        "model.compile(loss=\"mse\", optimizer=optimizer)\n",
        "history = model.fit(X_train, y_train, epochs=2,\n",
        "                    validation_data=(X_valid, y_valid))"
      ],
      "execution_count": 9,
      "outputs": [
        {
          "output_type": "stream",
          "text": [
            "Epoch 1/2\n",
            "219/219 [==============================] - 11s 34ms/step - loss: 0.1746 - val_loss: 0.0437\n",
            "Epoch 2/2\n",
            "219/219 [==============================] - 7s 31ms/step - loss: 0.0401 - val_loss: 0.0274\n"
          ],
          "name": "stdout"
        }
      ]
    },
    {
      "cell_type": "code",
      "metadata": {
        "colab": {
          "base_uri": "https://localhost:8080/"
        },
        "id": "SM20O-Njq6hP",
        "outputId": "c3185125-79cb-4616-9ab3-a5b7a43cae54"
      },
      "source": [
        "model.weights"
      ],
      "execution_count": 10,
      "outputs": [
        {
          "output_type": "execute_result",
          "data": {
            "text/plain": [
              "[<tf.Variable 'simple_rnn/simple_rnn_cell/kernel:0' shape=(1, 1) dtype=float32, numpy=array([[0.7853095]], dtype=float32)>,\n",
              " <tf.Variable 'simple_rnn/simple_rnn_cell/recurrent_kernel:0' shape=(1, 1) dtype=float32, numpy=array([[0.20730714]], dtype=float32)>,\n",
              " <tf.Variable 'simple_rnn/simple_rnn_cell/bias:0' shape=(1,) dtype=float32, numpy=array([0.01509596], dtype=float32)>]"
            ]
          },
          "metadata": {
            "tags": []
          },
          "execution_count": 10
        }
      ]
    },
    {
      "cell_type": "code",
      "metadata": {
        "colab": {
          "base_uri": "https://localhost:8080/"
        },
        "id": "uzx8W_3Iq6hQ",
        "outputId": "e1bc4bc8-625e-4655-fa2d-cd631c9d3a75"
      },
      "source": [
        "model.summary()"
      ],
      "execution_count": 11,
      "outputs": [
        {
          "output_type": "stream",
          "text": [
            "Model: \"sequential\"\n",
            "_________________________________________________________________\n",
            "Layer (type)                 Output Shape              Param #   \n",
            "=================================================================\n",
            "simple_rnn (SimpleRNN)       (None, 1)                 3         \n",
            "=================================================================\n",
            "Total params: 3\n",
            "Trainable params: 3\n",
            "Non-trainable params: 0\n",
            "_________________________________________________________________\n"
          ],
          "name": "stdout"
        }
      ]
    },
    {
      "cell_type": "code",
      "metadata": {
        "colab": {
          "base_uri": "https://localhost:8080/"
        },
        "id": "beceu3gLq6hQ",
        "outputId": "3e7a455b-1804-4ceb-de56-b5677f6c6deb"
      },
      "source": [
        "model.predict(np.array([[[0.1],[0.22],[0.4],[0.5],[0.5],[0.42974597],[0.3838964]]]))\n"
      ],
      "execution_count": 12,
      "outputs": [
        {
          "output_type": "execute_result",
          "data": {
            "text/plain": [
              "array([[0.38317314]], dtype=float32)"
            ]
          },
          "metadata": {
            "tags": []
          },
          "execution_count": 12
        }
      ]
    },
    {
      "cell_type": "markdown",
      "metadata": {
        "id": "_IsTG6NDq6hQ"
      },
      "source": [
        "### Adding more parameters "
      ]
    },
    {
      "cell_type": "code",
      "metadata": {
        "colab": {
          "base_uri": "https://localhost:8080/"
        },
        "id": "GWlsLdG0q6hQ",
        "outputId": "dde80353-e32a-49a5-bcfe-7030540df8df"
      },
      "source": [
        "model = keras.models.Sequential([\n",
        "    keras.layers.SimpleRNN(10, input_shape=[None, 1], activation='tanh'),\n",
        "    keras.layers.Dense(1, activation='sigmoid')\n",
        "])\n",
        "\n",
        "optimizer = keras.optimizers.Adam(lr=0.005)\n",
        "model.compile(loss=\"mse\", optimizer=optimizer)\n",
        "history = model.fit(X_train, y_train, epochs=2, validation_data=(X_valid, y_valid))"
      ],
      "execution_count": 13,
      "outputs": [
        {
          "output_type": "stream",
          "text": [
            "Epoch 1/2\n",
            "219/219 [==============================] - 8s 33ms/step - loss: 0.1636 - val_loss: 0.0765\n",
            "Epoch 2/2\n",
            "219/219 [==============================] - 7s 32ms/step - loss: 0.0800 - val_loss: 0.0726\n"
          ],
          "name": "stdout"
        }
      ]
    },
    {
      "cell_type": "code",
      "metadata": {
        "colab": {
          "base_uri": "https://localhost:8080/"
        },
        "id": "exkNZec3q6hQ",
        "outputId": "d2a464a4-8309-40a6-9a59-0f9fa3e355e9"
      },
      "source": [
        "model.weights"
      ],
      "execution_count": 14,
      "outputs": [
        {
          "output_type": "execute_result",
          "data": {
            "text/plain": [
              "[<tf.Variable 'simple_rnn_1/simple_rnn_cell_1/kernel:0' shape=(1, 10) dtype=float32, numpy=\n",
              " array([[-0.3168748 ,  0.03958143, -0.46731558,  0.00094421,  0.2761865 ,\n",
              "         -0.45402592,  0.01700242, -0.5008809 ,  0.91210324, -0.7115722 ]],\n",
              "       dtype=float32)>,\n",
              " <tf.Variable 'simple_rnn_1/simple_rnn_cell_1/recurrent_kernel:0' shape=(10, 10) dtype=float32, numpy=\n",
              " array([[-2.23443195e-01, -6.23044252e-01,  5.80470860e-01,\n",
              "          1.03458717e-01, -6.87687248e-02, -1.95521295e-01,\n",
              "          2.05395684e-01,  2.39316970e-01, -3.26844126e-01,\n",
              "         -3.65907401e-01],\n",
              "        [-2.38076016e-01,  1.04118362e-01, -2.70153075e-01,\n",
              "         -1.05217166e-01,  2.81666130e-01, -5.45922875e-01,\n",
              "         -5.11551678e-01, -6.07089221e-01, -3.37536246e-01,\n",
              "          2.96073454e-03],\n",
              "        [-2.24488840e-01, -4.81579900e-02,  5.53007662e-01,\n",
              "         -1.13569140e-01,  5.12627602e-01,  6.78842664e-02,\n",
              "          6.10012293e-01,  2.52142668e-01,  3.12917903e-02,\n",
              "          2.50542164e-01],\n",
              "        [ 2.78052062e-01,  3.70303690e-01, -1.66438162e-01,\n",
              "         -2.31568947e-01,  1.87821332e-02, -4.24389452e-01,\n",
              "          6.00858390e-01,  2.86436193e-02, -3.08095127e-01,\n",
              "         -4.08745557e-01],\n",
              "        [ 2.03007400e-01, -7.82147720e-02, -6.10689782e-02,\n",
              "          2.60016710e-01, -5.29982507e-01, -5.07138968e-01,\n",
              "         -2.23730877e-02,  3.81653570e-02,  2.50209272e-01,\n",
              "          2.39408478e-01],\n",
              "        [ 5.59710264e-02,  3.91543776e-01,  6.37857765e-02,\n",
              "          1.22460492e-01, -2.79077470e-01, -5.35204599e-04,\n",
              "          1.63577944e-01, -2.50388794e-02, -7.11146057e-01,\n",
              "          4.83561158e-01],\n",
              "        [ 2.99436212e-01,  4.14712012e-01,  6.62860274e-01,\n",
              "          1.93664700e-01,  2.47468259e-02,  1.54767871e-01,\n",
              "          1.41853997e-02, -4.34040427e-01, -1.82788018e-02,\n",
              "         -5.45749128e-01],\n",
              "        [-9.51875508e-01,  4.68753517e-01,  1.81416780e-01,\n",
              "          5.44293284e-01, -1.95970297e-01,  2.52481282e-01,\n",
              "          4.25363690e-01,  2.89731622e-02, -1.79848686e-01,\n",
              "         -6.63007349e-02],\n",
              "        [ 3.13828081e-01,  8.54807999e-03, -1.22254655e-01,\n",
              "          5.50557911e-01,  3.65787834e-01,  5.11967875e-02,\n",
              "         -1.25077143e-01,  5.23719251e-01, -2.25331694e-01,\n",
              "          1.45790251e-02],\n",
              "        [-4.10922825e-01,  4.77990150e-01,  1.76830173e-01,\n",
              "         -4.11164552e-01, -7.95507655e-02, -8.86964425e-02,\n",
              "         -3.89201909e-01,  5.98836184e-01, -1.17574997e-01,\n",
              "         -1.10513300e-01]], dtype=float32)>,\n",
              " <tf.Variable 'simple_rnn_1/simple_rnn_cell_1/bias:0' shape=(10,) dtype=float32, numpy=\n",
              " array([-0.04645298, -0.11555494,  0.24588902,  0.09357971, -0.2211897 ,\n",
              "         0.29493898,  0.12390436,  0.40699536, -0.05230332,  0.08688027],\n",
              "       dtype=float32)>,\n",
              " <tf.Variable 'dense/kernel:0' shape=(10, 1) dtype=float32, numpy=\n",
              " array([[ 0.6164834 ],\n",
              "        [-0.36144277],\n",
              "        [-1.2045474 ],\n",
              "        [-0.21926111],\n",
              "        [ 0.34431478],\n",
              "        [-1.1733283 ],\n",
              "        [-1.0050424 ],\n",
              "        [-1.3180073 ],\n",
              "        [ 1.275782  ],\n",
              "        [-0.5373851 ]], dtype=float32)>,\n",
              " <tf.Variable 'dense/bias:0' shape=(1,) dtype=float32, numpy=array([-0.26142755], dtype=float32)>]"
            ]
          },
          "metadata": {
            "tags": []
          },
          "execution_count": 14
        }
      ]
    },
    {
      "cell_type": "markdown",
      "metadata": {
        "id": "P3XNOlQXq6hQ"
      },
      "source": [
        "### Training RNN with multiple output"
      ]
    },
    {
      "cell_type": "code",
      "metadata": {
        "id": "J1feDVhfq6hQ"
      },
      "source": [
        "n_steps = 50\n",
        "series = generate_time_series(10000, n_steps + 1)\n",
        "X_train, y_train = series[:7000, :n_steps], series[:7000, -50:]\n",
        "X_valid, y_valid = series[7000:9000, :n_steps], series[7000:9000, -50:]\n",
        "X_test, y_test = series[9000:, :n_steps], series[9000:, -50:]"
      ],
      "execution_count": 15,
      "outputs": []
    },
    {
      "cell_type": "code",
      "metadata": {
        "colab": {
          "base_uri": "https://localhost:8080/"
        },
        "id": "G0oHmK7Rq6hQ",
        "outputId": "76074432-957a-44c8-9835-43ffc2578aee"
      },
      "source": [
        "X_train[0].shape, y_train[0].shape"
      ],
      "execution_count": 16,
      "outputs": [
        {
          "output_type": "execute_result",
          "data": {
            "text/plain": [
              "((50, 1), (50, 1))"
            ]
          },
          "metadata": {
            "tags": []
          },
          "execution_count": 16
        }
      ]
    },
    {
      "cell_type": "code",
      "metadata": {
        "colab": {
          "base_uri": "https://localhost:8080/"
        },
        "id": "r3wbOvRVq6hR",
        "outputId": "5a63307e-be10-4ceb-a599-32d051302f67"
      },
      "source": [
        "X_train[0,:5], y_train[0,:5]"
      ],
      "execution_count": 17,
      "outputs": [
        {
          "output_type": "execute_result",
          "data": {
            "text/plain": [
              "(array([[-0.41397974],\n",
              "        [-0.20531386],\n",
              "        [ 0.00141438],\n",
              "        [ 0.2194839 ],\n",
              "        [ 0.39464447]], dtype=float32), array([[-0.20531386],\n",
              "        [ 0.00141438],\n",
              "        [ 0.2194839 ],\n",
              "        [ 0.39464447],\n",
              "        [ 0.593618  ]], dtype=float32))"
            ]
          },
          "metadata": {
            "tags": []
          },
          "execution_count": 17
        }
      ]
    },
    {
      "cell_type": "code",
      "metadata": {
        "colab": {
          "base_uri": "https://localhost:8080/"
        },
        "id": "g1ti2O_Pq6hR",
        "outputId": "afa3f840-f7a5-418a-99d9-a53306a19739"
      },
      "source": [
        "model = keras.models.Sequential([\n",
        "    keras.layers.SimpleRNN(1, input_shape=[None, 1], activation='tanh', return_sequences= True),\n",
        "])\n",
        "\n",
        "optimizer = keras.optimizers.Adam(lr=0.005)\n",
        "model.compile(loss=\"mse\", optimizer=optimizer)\n",
        "history = model.fit(X_train, y_train, epochs=2, validation_data=(X_valid, y_valid))"
      ],
      "execution_count": 18,
      "outputs": [
        {
          "output_type": "stream",
          "text": [
            "Epoch 1/2\n",
            "219/219 [==============================] - 8s 31ms/step - loss: 0.4126 - val_loss: 0.2399\n",
            "Epoch 2/2\n",
            "219/219 [==============================] - 7s 31ms/step - loss: 0.1965 - val_loss: 0.0954\n"
          ],
          "name": "stdout"
        }
      ]
    },
    {
      "cell_type": "code",
      "metadata": {
        "colab": {
          "base_uri": "https://localhost:8080/"
        },
        "id": "Gl8Zm9mHq6hR",
        "outputId": "ebe6bbe8-e598-4cb7-9cae-1b25988fb44e"
      },
      "source": [
        "model.predict(np.array([[[0.1],[0.22],[0.4],[0.5],[0.5]]]))"
      ],
      "execution_count": 19,
      "outputs": [
        {
          "output_type": "execute_result",
          "data": {
            "text/plain": [
              "array([[[0.02750286],\n",
              "        [0.04795764],\n",
              "        [0.09280445],\n",
              "        [0.09472869],\n",
              "        [0.09341279]]], dtype=float32)"
            ]
          },
          "metadata": {
            "tags": []
          },
          "execution_count": 19
        }
      ]
    },
    {
      "cell_type": "code",
      "metadata": {
        "colab": {
          "base_uri": "https://localhost:8080/"
        },
        "id": "6pHmyAFsq6hR",
        "outputId": "435b361a-f58c-46e1-8d3e-bb64a910c671"
      },
      "source": [
        "model = keras.models.Sequential([\n",
        "    keras.layers.SimpleRNN(10, input_shape=[None, 1], activation='tanh', return_sequences=True, use_bias=True),\n",
        "    keras.layers.TimeDistributed(keras.layers.Dense(1, activation='sigmoid',use_bias=True))\n",
        "])\n",
        "\n",
        "optimizer = keras.optimizers.Adam(lr=0.005)\n",
        "model.compile(loss=\"mse\", optimizer=optimizer)\n",
        "history = model.fit(X_train, y_train, epochs=2, validation_data=(X_valid, y_valid))"
      ],
      "execution_count": 20,
      "outputs": [
        {
          "output_type": "stream",
          "text": [
            "Epoch 1/2\n",
            "219/219 [==============================] - 8s 33ms/step - loss: 0.1981 - val_loss: 0.0833\n",
            "Epoch 2/2\n",
            "219/219 [==============================] - 7s 32ms/step - loss: 0.0825 - val_loss: 0.0796\n"
          ],
          "name": "stdout"
        }
      ]
    },
    {
      "cell_type": "markdown",
      "metadata": {
        "id": "YZKN_qmmq6hR"
      },
      "source": [
        "## Deep RNNs\n",
        "\n",
        "It is quite common to stack multiple layers of cells:\n",
        "\n",
        "<center><img src=\"https://drive.google.com/uc?id=17Jyn1BBQ9zxCi1BBTMcBZAlILjVykYht\" ></center>\n",
        "\n"
      ]
    },
    {
      "cell_type": "code",
      "metadata": {
        "colab": {
          "base_uri": "https://localhost:8080/"
        },
        "id": "_1o2_X7cxULo",
        "scrolled": true,
        "outputId": "1d4bdc7a-1b32-4535-fa41-4d3d5ea4c011"
      },
      "source": [
        "(X_train, y_train), (X_test, y_test) = tf.keras.datasets.mnist.load_data()\n",
        "X_train = X_train / np.float64(255.0)\n",
        "X_test = X_test / np.float64(255.0)\n",
        "\n",
        "model = keras.models.Sequential([\n",
        "    keras.layers.SimpleRNN(units =150, input_shape=(None,28), return_sequences=True),  \n",
        "    keras.layers.SimpleRNN(units =150, return_sequences=True),  \n",
        "    keras.layers.SimpleRNN(units =150, return_sequences=True),  \n",
        "    keras.layers.SimpleRNN(units =150, return_sequences=True),  \n",
        "    keras.layers.SimpleRNN(units =150, return_sequences=True),  \n",
        "    keras.layers.SimpleRNN(15),  \n",
        "    keras.layers.Dense(10, activation='softmax'),\n",
        "])\n",
        "\n",
        "model.compile(loss=\"sparse_categorical_crossentropy\", optimizer=\"adam\", metrics=['accuracy'])\n",
        "history = model.fit(X_train, y_train, epochs=2, validation_data=(X_test, y_test))"
      ],
      "execution_count": 21,
      "outputs": [
        {
          "output_type": "stream",
          "text": [
            "Downloading data from https://storage.googleapis.com/tensorflow/tf-keras-datasets/mnist.npz\n",
            "11493376/11490434 [==============================] - 0s 0us/step\n",
            "Epoch 1/2\n",
            "1875/1875 [==============================] - 113s 59ms/step - loss: 0.7469 - accuracy: 0.7887 - val_loss: 0.3433 - val_accuracy: 0.9124\n",
            "Epoch 2/2\n",
            "1875/1875 [==============================] - 111s 59ms/step - loss: 0.3556 - accuracy: 0.9032 - val_loss: 0.2102 - val_accuracy: 0.9411\n"
          ],
          "name": "stdout"
        }
      ]
    },
    {
      "cell_type": "code",
      "metadata": {
        "colab": {
          "base_uri": "https://localhost:8080/"
        },
        "id": "ajUciReSHJZ8",
        "scrolled": true,
        "outputId": "ef5d1b58-a9f8-41cf-87e9-ff2133350795"
      },
      "source": [
        "model.summary()"
      ],
      "execution_count": 22,
      "outputs": [
        {
          "output_type": "stream",
          "text": [
            "Model: \"sequential_4\"\n",
            "_________________________________________________________________\n",
            "Layer (type)                 Output Shape              Param #   \n",
            "=================================================================\n",
            "simple_rnn_4 (SimpleRNN)     (None, None, 150)         26850     \n",
            "_________________________________________________________________\n",
            "simple_rnn_5 (SimpleRNN)     (None, None, 150)         45150     \n",
            "_________________________________________________________________\n",
            "simple_rnn_6 (SimpleRNN)     (None, None, 150)         45150     \n",
            "_________________________________________________________________\n",
            "simple_rnn_7 (SimpleRNN)     (None, None, 150)         45150     \n",
            "_________________________________________________________________\n",
            "simple_rnn_8 (SimpleRNN)     (None, None, 150)         45150     \n",
            "_________________________________________________________________\n",
            "simple_rnn_9 (SimpleRNN)     (None, 15)                2490      \n",
            "_________________________________________________________________\n",
            "dense_2 (Dense)              (None, 10)                160       \n",
            "=================================================================\n",
            "Total params: 210,100\n",
            "Trainable params: 210,100\n",
            "Non-trainable params: 0\n",
            "_________________________________________________________________\n"
          ],
          "name": "stdout"
        }
      ]
    },
    {
      "cell_type": "markdown",
      "metadata": {
        "id": "gZxSRwpyq6hS"
      },
      "source": [
        "### Exercise \n",
        "\n",
        "Following we downloaded Fashion Mnist dataset. Try to build a same set of network with deep RNN."
      ]
    },
    {
      "cell_type": "code",
      "metadata": {
        "colab": {
          "base_uri": "https://localhost:8080/"
        },
        "id": "SUf_ri7fq6hS",
        "outputId": "84cc2ac2-588e-4557-f76a-5d037ae88fab"
      },
      "source": [
        "(X_train, y_train), (X_test, y_test) = tf.keras.datasets.fashion_mnist.load_data()\n",
        "X_train = X_train / np.float64(255.0)\n",
        "X_test = X_test / np.float64(255.0)"
      ],
      "execution_count": 23,
      "outputs": [
        {
          "output_type": "stream",
          "text": [
            "Downloading data from https://storage.googleapis.com/tensorflow/tf-keras-datasets/train-labels-idx1-ubyte.gz\n",
            "32768/29515 [=================================] - 0s 0us/step\n",
            "Downloading data from https://storage.googleapis.com/tensorflow/tf-keras-datasets/train-images-idx3-ubyte.gz\n",
            "26427392/26421880 [==============================] - 0s 0us/step\n",
            "Downloading data from https://storage.googleapis.com/tensorflow/tf-keras-datasets/t10k-labels-idx1-ubyte.gz\n",
            "8192/5148 [===============================================] - 0s 0us/step\n",
            "Downloading data from https://storage.googleapis.com/tensorflow/tf-keras-datasets/t10k-images-idx3-ubyte.gz\n",
            "4423680/4422102 [==============================] - 0s 0us/step\n"
          ],
          "name": "stdout"
        }
      ]
    },
    {
      "cell_type": "code",
      "metadata": {
        "id": "_3EvjApQq6hS"
      },
      "source": [
        "# Your Response here ...."
      ],
      "execution_count": 24,
      "outputs": []
    },
    {
      "cell_type": "code",
      "metadata": {
        "id": "YSlGnEBsq6hS"
      },
      "source": [
        "# Your Response here ...."
      ],
      "execution_count": 25,
      "outputs": []
    },
    {
      "cell_type": "code",
      "metadata": {
        "id": "VKKst7D8q6hS"
      },
      "source": [
        "# Your Response here ...."
      ],
      "execution_count": 26,
      "outputs": []
    },
    {
      "cell_type": "markdown",
      "metadata": {
        "id": "NFlxGTgwq6hS"
      },
      "source": [
        "# Applying Dropout\n",
        "\n",
        "- If you build a very deep RNN, it may end up overfitting the training set. \n",
        "    - To prevent that, a common technique is to apply dropout\n",
        "- There are two arguments in Keras RNN layers that you can use \n",
        "    - **dropout**: Float between 0 and 1. Fraction of the units to drop for the linear transformation of the inputs.\n",
        "    - **recurrent_dropout**: Float between 0 and 1. Fraction of the units to drop for the linear transformation of the recurrent state."
      ]
    },
    {
      "cell_type": "code",
      "metadata": {
        "colab": {
          "base_uri": "https://localhost:8080/"
        },
        "id": "QBKx5lL4q6hS",
        "outputId": "2e2f3846-a120-4bab-8800-f1ae7b7303ee"
      },
      "source": [
        "(X_train, y_train), (X_test, y_test) = tf.keras.datasets.mnist.load_data()\n",
        "X_train = X_train / np.float64(255.0)\n",
        "X_test = X_test / np.float64(255.0)\n",
        "\n",
        "model = keras.models.Sequential([\n",
        "    keras.layers.SimpleRNN(150, input_shape=(None,28), return_sequences=True , dropout=0.5, recurrent_dropout=0.5),  \n",
        "    keras.layers.SimpleRNN(15),  \n",
        "    keras.layers.Dense(10, activation='softmax'),\n",
        "])\n",
        "\n",
        "model.compile(loss=\"sparse_categorical_crossentropy\", optimizer=\"adam\", metrics=['accuracy'])\n",
        "history = model.fit(X_train, y_train, epochs=2, validation_data=(X_test, y_test))"
      ],
      "execution_count": 27,
      "outputs": [
        {
          "output_type": "stream",
          "text": [
            "Epoch 1/2\n",
            "1875/1875 [==============================] - 50s 26ms/step - loss: 2.0919 - accuracy: 0.2347 - val_loss: 1.2994 - val_accuracy: 0.5518\n",
            "Epoch 2/2\n",
            "1875/1875 [==============================] - 48s 26ms/step - loss: 1.3966 - accuracy: 0.5021 - val_loss: 1.1112 - val_accuracy: 0.6115\n"
          ],
          "name": "stdout"
        }
      ]
    },
    {
      "cell_type": "markdown",
      "metadata": {
        "id": "z-rcDv_iq6hS"
      },
      "source": [
        "# Handling Long Sequences\n",
        "\n",
        "- To train an RNN on long sequences, you will need to run it over many time steps, making the unrolled RNN a very deep network. \n",
        "    - Just like any deep neural network it may suffer from the vanishing/exploding gradients problem and take long to train. \n",
        "\n",
        "\n",
        "- You could then do:\n",
        "    - Good parameter initialization, \n",
        "    - nonsaturating activation functions (e.g., ReLU), \n",
        "    - Batch Normalization, \n",
        "    - Gradient Clipping, and \n",
        "    - faster optimizers. \n",
        "    - Event after all. The training will still be very slow."
      ]
    },
    {
      "cell_type": "markdown",
      "metadata": {
        "id": "jWkm1aJ6q6hS"
      },
      "source": [
        "- One solution is to unroll the RNN only over a limited number of time steps during training (truncated backpropagation through time). \n",
        "    - It can be implemented by truncating the input sequences:\n",
        "        - Reduce `n_steps` during training. In this case, the model will not be able to learn long-term patterns. \n",
        "        - One workaround could be to make sure that these shortened sequences contain both old and recent data, so that the model can learn to use both.\n",
        "            - what if fine-grained data from last year is actually useful? What if there was a brief but significant event that absolutely must be taken into account, even years later?\n",
        "\n",
        "\n",
        "- For RNNs, the memory of the first inputs gradually fades away. Some information is lost after each time step. \n",
        "- After a while, the RNN’s state contains virtually no trace of the first inputs.\n",
        "    - For example, say you want to perform sentiment analysis on a long review that starts with the four words “I loved this movie,” but the rest of the review lists the many things that could have made the movie even better. \n",
        "    - If the RNN gradually forgets the first four words, it will completely misinterpret the review. \n",
        "    - To solve this problem, various types of cells with long-term memory have been introduced. "
      ]
    },
    {
      "cell_type": "markdown",
      "metadata": {
        "id": "qFD0iBrbq6hS"
      },
      "source": [
        "# LSTM Cell\n",
        "\n",
        "- The Long Short-Term Memory (LSTM) cell was proposed in 1973 by Sepp Hochreiter and Jürgen Schmidhuber.\n",
        "\n",
        "- An LSTM cell will:\n",
        "    - Converge faster while training\n",
        "    - Detect long-term dependencies in the data. \n",
        "    - In TensorFlow, replace `BasicRNNCell` with `BasicLSTMCell`\n",
        "        - `lstm_cell = tf.contrib.rnn.BasicLSTMCell(num_units=n_neurons)`\n",
        "\n",
        "\n",
        "\n",
        "- LSTM cells manage two state vectors, and for performance reasons they are kept separate by default. You can change this default behavior by setting `state_is_tuple=False`.\n",
        "\n",
        "\n",
        "- Architecture:\n",
        "\n",
        "<center><img src=\"https://drive.google.com/uc?id=1grOa1piS0PLeZS4Z1ZskQKXzXe8nhjLk\" ></center>"
      ]
    },
    {
      "cell_type": "markdown",
      "metadata": {
        "id": "lrPxvIRvq6hT"
      },
      "source": [
        "- The key idea is that the network can learn what to store in the long-term state, what to throw away, and what to read from it\n",
        "\n",
        "\n",
        "- The LSTM cell looks exactly like a regular cell, except that its state is split in two vectors: \n",
        "    - $h_{(t)}$ the short-term state and \n",
        "    - $c_{(t)}$ as the long-term state.\n",
        "\n",
        "\n",
        "- As the long-term state $c_{(t–1)}$ traverses the network:\n",
        "    - it first goes through a forget gate, dropping some memories, then \n",
        "    - adds some new memories via the addition operation.\n",
        "    - At each time step, some memories are dropped and some memories are added. \n",
        "    \n",
        "    \n",
        "- The long-term state is then copied and passed through the `tanh` function, the result is filtered by the output gate. This produces the short-term state $h_{(t)}$. "
      ]
    },
    {
      "cell_type": "markdown",
      "metadata": {
        "id": "pCWmnQBbq6hT"
      },
      "source": [
        "- Here is how it works. The current input vector $x_{(t)}$ and the previous short-term state $h_{(t-1)}$ are fed to four different fully connected layers. They all serve a different purpose:\n",
        "    - The main layer is the one that outputs $g_{(t)}$. It has the usual role of analyzing the current inputs $x_{(t)}$ and the previous $h_{(t-1)}$. \n",
        "        - In a basic cell, there is nothing else than this layer\n",
        "        - In an LSTM cell this layer’s output is partially stored in the long-term state.\n",
        "    - The three other layers are gate controllers. Their outputs range from 0 to 1. \n",
        "        - Their outputs are fed to element-wise multiplication operations, so if they output 0s, they close the gate, and if they output 1s, they open it. Specifically:\n",
        "            - The forget gate controls which parts of the long-term state should be erased.\n",
        "            - The input gate controls which parts of $g_{(t)}$ should be added to the long-term state \n",
        "            - The output gate controls which parts of the long-term state should be read and output at this time step.\n",
        "\n",
        "\n",
        "\n",
        "- An LSTM cell can learn to recognize an important input, store it in the long-term state, learn to preserve it for as long as it is needed, and learn to extract it whenever it is needed. \n",
        "\n",
        "- They have been amazingly successful at capturing long-term patterns in time series, long texts, audio recordings, and more.\n"
      ]
    },
    {
      "cell_type": "markdown",
      "metadata": {
        "id": "zGMRiraGq6hT"
      },
      "source": [
        "$$\n",
        "\\begin{aligned} \\mathbf{i}_{(t)} &=\\sigma\\left(\\mathbf{W}_{x i}^{T} \\mathbf{x}_{(t)}+\\mathbf{W}_{h i}^{T} \\mathbf{h}_{(t-1)}+\\mathbf{b}_{i}\\right) \\\\ \\mathbf{f}_{(t)} &=\\sigma\\left(\\mathbf{W}_{x f}^{T} \\mathbf{x}_{(t)}+\\mathbf{W}_{h f}^{T} \\mathbf{h}_{(t-1)}+\\mathbf{b}_{f}\\right) \\\\ \\mathbf{o}_{(t)} &=\\sigma\\left(\\mathbf{W}_{x o}{ }^{T} \\mathbf{x}_{(t)}+\\mathbf{W}_{h o}{ }^{T} \\mathbf{h}_{(t-1)}+\\mathbf{b}_{o}\\right) \\\\ \\mathbf{g}_{(t)} &=\\tanh \\left(\\mathbf{W}_{x g}{ }^{T} \\mathbf{x}_{(t)}+\\mathbf{W}_{h g}{ }^{T} \\mathbf{h}_{(t-1)}+\\mathbf{b}_{g}\\right) \\\\ \\mathbf{c}_{(t)} &=\\mathbf{f}_{(t)} \\otimes \\mathbf{c}_{(t-1)}+\\mathbf{i}_{(t)} \\otimes \\mathbf{g}_{(t)} \\\\ \\mathbf{y}_{(t)} &=\\mathbf{h}_{(t)}=\\mathbf{o}_{(t)} \\otimes \\tanh \\left(\\mathbf{c}_{(t)}\\right) \\end{aligned}\n",
        "$$\n",
        "\n",
        "$W_{xi}$, $W_{xf}$, $W_{xo}$, $W_{xg}$ are the weight matrices of each of the four layers for their connection to the input vector $x_{(t)}$.\n",
        "\n",
        "$W_{hi}$, $W_{hf}$, $W_{ho}$, and $W_{hg}$ are the weight matrices of each of the four layers for their connection to the previous short-term state $h_{(t–1)}$.\n",
        "\n",
        "$b_i$, $b_f$, $b_o$, and $b_g$ are the bias terms for each of the four layers."
      ]
    },
    {
      "cell_type": "markdown",
      "metadata": {
        "id": "j6UcYFZFq6hT"
      },
      "source": [
        "# Peephole Connections\n",
        "\n",
        "- It may be a good idea to give an RNN a bit more context by letting them peek at the long-term state. \n",
        "    - An LSTM variant with peephole connections was proposed by Felix Gers and Jürgen Schmidhuber in 2006.\n",
        "        - The previous long-term state $c_{(t–1)}$ is added as an input to the controllers of the forget gate and the input gate, and the current long-term state $c_{(t)}$ is added as input to the controller of the output gate.\n",
        "\n",
        "$$\n",
        "\\begin{aligned} f_{t} &=\\sigma\\left(W_{f} \\cdot\\left[\\boldsymbol{C}_{t-1}, h_{t-1}, x_{t}\\right]+b_{f}\\right) \\\\ i_{t} &=\\sigma\\left(W_{i} \\cdot\\left[\\boldsymbol{C}_{t-1}, h_{t-1}, x_{t}\\right]+b_{i}\\right) \\\\ o_{t} &=\\sigma\\left(W_{o} \\cdot\\left[\\boldsymbol{C}_{t}, h_{t-1}, x_{t}\\right]+b_{o}\\right) \\end{aligned}\n",
        "$$\n",
        "\n",
        "In Keras, the LSTM layer is based on the keras.layers.LSTMCell cell, which does not support peepholes. However, the experimental tf.keras.experimental.PeepholeLSTMCell does, so you can create a keras.layers.RNN layer, passing a PeepholeLSTMCell to its constructor."
      ]
    },
    {
      "cell_type": "markdown",
      "metadata": {
        "id": "eFNUdEl-q6hT"
      },
      "source": [
        "### Practice with LSTM"
      ]
    },
    {
      "cell_type": "code",
      "metadata": {
        "id": "J58Id0Vkq6hT"
      },
      "source": [
        "n_steps = 50\n",
        "series = generate_time_series(10000, n_steps + 1)\n",
        "X_train, y_train = series[:7000, :n_steps], series[:7000, -50:]\n",
        "X_valid, y_valid = series[7000:9000, :n_steps], series[7000:9000, -50:]\n",
        "X_test, y_test = series[9000:, :n_steps], series[9000:, -50:]"
      ],
      "execution_count": 28,
      "outputs": []
    },
    {
      "cell_type": "code",
      "metadata": {
        "colab": {
          "base_uri": "https://localhost:8080/"
        },
        "id": "AvPzxyaFq6hT",
        "outputId": "0fad0ccb-34ab-403d-e47d-cd3bd8a2f4a7"
      },
      "source": [
        "X_train[0].shape, y_train[0].shape"
      ],
      "execution_count": 29,
      "outputs": [
        {
          "output_type": "execute_result",
          "data": {
            "text/plain": [
              "((50, 1), (50, 1))"
            ]
          },
          "metadata": {
            "tags": []
          },
          "execution_count": 29
        }
      ]
    },
    {
      "cell_type": "code",
      "metadata": {
        "colab": {
          "base_uri": "https://localhost:8080/"
        },
        "id": "pjKjTkAJq6hT",
        "outputId": "59a6bb35-8090-47f2-e7d3-303710f99bc5"
      },
      "source": [
        "X_train[0,:5], y_train[0,:5]"
      ],
      "execution_count": 30,
      "outputs": [
        {
          "output_type": "execute_result",
          "data": {
            "text/plain": [
              "(array([[ 0.09141807],\n",
              "        [-0.01813334],\n",
              "        [-0.23529634],\n",
              "        [-0.42152375],\n",
              "        [-0.5849967 ]], dtype=float32), array([[-0.01813334],\n",
              "        [-0.23529634],\n",
              "        [-0.42152375],\n",
              "        [-0.5849967 ],\n",
              "        [-0.7383598 ]], dtype=float32))"
            ]
          },
          "metadata": {
            "tags": []
          },
          "execution_count": 30
        }
      ]
    },
    {
      "cell_type": "code",
      "metadata": {
        "colab": {
          "base_uri": "https://localhost:8080/"
        },
        "id": "CxArNCevq6hT",
        "outputId": "f9ef8aac-e67e-485b-880c-3b7f47001fd0"
      },
      "source": [
        "model = keras.models.Sequential([\n",
        "    keras.layers.LSTM(1, input_shape=[None, 1], activation='tanh', return_sequences= True),\n",
        "])\n",
        "\n",
        "optimizer = keras.optimizers.Adam(lr=0.005)\n",
        "model.compile(loss=\"mse\", optimizer=optimizer)\n",
        "history = model.fit(X_train, y_train, epochs=2, validation_data=(X_valid, y_valid))"
      ],
      "execution_count": 31,
      "outputs": [
        {
          "output_type": "stream",
          "text": [
            "Epoch 1/2\n",
            "219/219 [==============================] - 31s 6ms/step - loss: 0.0953 - val_loss: 0.0367\n",
            "Epoch 2/2\n",
            "219/219 [==============================] - 1s 4ms/step - loss: 0.0285 - val_loss: 0.0164\n"
          ],
          "name": "stdout"
        }
      ]
    },
    {
      "cell_type": "code",
      "metadata": {
        "colab": {
          "base_uri": "https://localhost:8080/"
        },
        "id": "MpX7iKY8q6hU",
        "outputId": "5dd5ebf9-653e-4440-d3a9-cf52db056102"
      },
      "source": [
        "model = keras.models.Sequential([\n",
        "    keras.layers.LSTM(10, input_shape=[None, 1], activation='tanh', return_sequences=True, use_bias=True),\n",
        "    keras.layers.TimeDistributed(keras.layers.Dense(1, activation='sigmoid',use_bias=True))\n",
        "])\n",
        "\n",
        "optimizer = keras.optimizers.Adam(lr=0.005)\n",
        "model.compile(loss=\"mse\", optimizer=optimizer)\n",
        "history = model.fit(X_train, y_train, epochs=2, validation_data=(X_valid, y_valid))"
      ],
      "execution_count": 32,
      "outputs": [
        {
          "output_type": "stream",
          "text": [
            "Epoch 1/2\n",
            "219/219 [==============================] - 3s 8ms/step - loss: 0.1955 - val_loss: 0.0879\n",
            "Epoch 2/2\n",
            "219/219 [==============================] - 1s 5ms/step - loss: 0.0846 - val_loss: 0.0792\n"
          ],
          "name": "stdout"
        }
      ]
    },
    {
      "cell_type": "markdown",
      "metadata": {
        "id": "-mcHmseeq6hU"
      },
      "source": [
        "# GRU Cell\n",
        "\n",
        "\n",
        "- The Gated Recurrent Unit (GRU) cell was proposed by Kyunghyun Cho et al. in a 2014\n",
        "\n",
        "<center><img src=\"https://drive.google.com/uc?id=1CDtY4r0HKSOTzAsqeNlXbNqOsGetOtqW\" ></center>\n"
      ]
    },
    {
      "cell_type": "markdown",
      "metadata": {
        "id": "8IyjEL_hq6hU"
      },
      "source": [
        "- The GRU cell is a simplified version of the LSTM cell, and it seems to perform just as well:\n",
        "    - Both state vectors are merged into a single vector $h_{(t)}$.\n",
        "    - A single gate controller controls both the forget gate and the input gate:\n",
        "        - If the gate controller outputs a 1, the forget gate is open and the input gate is closed. \n",
        "        - If it outputs a 0, the opposite happens. \n",
        "        - Whenever a memory must be stored, the location is erased first. \n",
        "        \n",
        "    - There is no output gate; \n",
        "    - The full state vector is output at every time step. \n",
        "    - There is a new gate controller that controls which part of the previous state will be shown to the main layer."
      ]
    },
    {
      "cell_type": "markdown",
      "metadata": {
        "id": "9WWig-bDq6hU"
      },
      "source": [
        "### Equations\n",
        "\n",
        "$$\n",
        "\\begin{aligned} \\mathbf{z}_{(t)} &=\\sigma\\left(\\mathbf{W}_{x z} \\mathbf{x}_{(t)}+\\mathbf{W}_{h z}^{T} \\mathbf{h}_{(t-1)}+\\mathbf{b}_{z}\\right) \\\\ \\mathbf{r}_{(t)} &=\\sigma\\left(\\mathbf{W}_{x r}{ }^{T} \\mathbf{x}_{(t)}+\\mathbf{W}_{h r}{ }^{T} \\mathbf{h}_{(t-1)}+\\mathbf{b}_{r}\\right) \\\\ \\mathbf{g}_{(t)} &=\\tanh \\left(\\mathbf{W}_{x g}{\\mathbf{x}} \\mathbf{x}_{(t)}+\\mathbf{W}_{h g}{ }^{T}\\left(\\mathbf{r}_{(t)} \\otimes \\mathbf{h}_{(t-1)}\\right)+\\mathbf{b}_{g}\\right) \\\\ \\mathbf{h}_{(t)} &=\\mathbf{z}_{(t)} \\otimes \\mathbf{h}_{(t-1)}+\\left(1-\\mathbf{z}_{(t)}\\right) \\otimes \\mathbf{g}_{(t)} \\end{aligned}\n",
        "$$\n",
        "\n",
        "- In Tensorflow:\n",
        "    `gru_cell = tf.contrib.rnn.GRUCell(num_units=n_neurons)`\n",
        "- LSTM or GRU cells are one of the main reasons behind the success of RNNs in recent years, in particular for applications in natural language processing (NLP)."
      ]
    },
    {
      "cell_type": "markdown",
      "metadata": {
        "id": "rnB4zIsBgXxh"
      },
      "source": [
        "# Stock Prediction Example"
      ]
    },
    {
      "cell_type": "code",
      "metadata": {
        "id": "EEFjt3t69EDE"
      },
      "source": [
        "import warnings\n",
        "warnings.filterwarnings(\"ignore\")\n",
        "import tensorflow as tf\n",
        "import numpy as np\n",
        "import pandas as pd"
      ],
      "execution_count": 33,
      "outputs": []
    },
    {
      "cell_type": "markdown",
      "metadata": {
        "id": "N5OLQWpvhYqQ"
      },
      "source": [
        "Following we download AABA stock prices (aaba.us.txt)"
      ]
    },
    {
      "cell_type": "code",
      "metadata": {
        "colab": {
          "base_uri": "https://localhost:8080/",
          "height": 285
        },
        "id": "_hXdf-aK7sIB",
        "outputId": "d79726ca-c606-44c7-8070-817462b861f9"
      },
      "source": [
        "pdf = pd.read_csv(\"https://drive.google.com/uc?id=1X4-nW8phAY6H5FrPhEembOyJ8zmIG1Cz\")\n",
        "pdf['Close'].plot()"
      ],
      "execution_count": 34,
      "outputs": [
        {
          "output_type": "execute_result",
          "data": {
            "text/plain": [
              "<matplotlib.axes._subplots.AxesSubplot at 0x7fe5bc42d8d0>"
            ]
          },
          "metadata": {
            "tags": []
          },
          "execution_count": 34
        },
        {
          "output_type": "display_data",
          "data": {
            "image/png": "[encoded data removed]",
            "text/plain": [
              "<Figure size 432x288 with 1 Axes>"
            ]
          },
          "metadata": {
            "tags": [],
            "needs_background": "light"
          }
        }
      ]
    },
    {
      "cell_type": "markdown",
      "metadata": {
        "id": "qEksJLFRyn5P"
      },
      "source": [
        "Following funcitons are used for building the series"
      ]
    },
    {
      "cell_type": "code",
      "metadata": {
        "id": "uBB5IoHS8hSq"
      },
      "source": [
        "def windowed_dataset(series, window_size, batch_size, shuffle_buffer):\n",
        "    dataset = tf.data.Dataset.from_tensor_slices(series)\n",
        "    dataset = dataset.window(window_size + 1, shift=1, drop_remainder=True)\n",
        "    dataset = dataset.flat_map(lambda window: window.batch(window_size + 1))\n",
        "    dataset = dataset.shuffle(shuffle_buffer).map(lambda window: (window[:-1], window[-1]))\n",
        "    dataset = dataset.batch(batch_size).prefetch(1)\n",
        "    return dataset"
      ],
      "execution_count": 35,
      "outputs": []
    },
    {
      "cell_type": "code",
      "metadata": {
        "id": "7Mpi1r7_UN4R"
      },
      "source": [
        "def windowed_dataset_test(series, window_size):\n",
        "    dataset = tf.data.Dataset.from_tensor_slices(series)\n",
        "    dataset = dataset.window(window_size + 1, shift=1, drop_remainder=True)\n",
        "    dataset = dataset.flat_map(lambda window: window.batch(window_size + 1))\n",
        "    dataset = dataset.map(lambda window: (window[:-1][np.newaxis], window[-1][np.newaxis]))\n",
        "    return dataset"
      ],
      "execution_count": 36,
      "outputs": []
    },
    {
      "cell_type": "code",
      "metadata": {
        "id": "Kj7zHzWdNJ52"
      },
      "source": [
        "series = pdf['Close']\n",
        "split_time = 4000\n",
        "x_train = series[:split_time]\n",
        "x_valid = series[split_time:]"
      ],
      "execution_count": 37,
      "outputs": []
    },
    {
      "cell_type": "code",
      "metadata": {
        "colab": {
          "base_uri": "https://localhost:8080/"
        },
        "id": "-_ibtOJe8oUA",
        "outputId": "844b37fb-02fa-4fe8-aa4f-dca6f2f3f865"
      },
      "source": [
        "train_set = windowed_dataset(x_train, window_size=100, batch_size=128, shuffle_buffer=128)\n",
        "\n",
        "model = tf.keras.models.Sequential([\n",
        "  tf.keras.layers.Lambda(lambda x: tf.expand_dims(x, axis=-1),\n",
        "                      input_shape=[None]),\n",
        "  tf.keras.layers.SimpleRNN(40),\n",
        "  tf.keras.layers.Dense(1),\n",
        "])\n",
        "\n",
        "optimizer = tf.keras.optimizers.Adam(lr=1e-2)\n",
        "model.compile(loss=tf.keras.losses.MAE,\n",
        "              optimizer=optimizer,\n",
        "              metrics=[\"mae\"])\n",
        "history = model.fit(train_set, epochs=20)"
      ],
      "execution_count": 38,
      "outputs": [
        {
          "output_type": "stream",
          "text": [
            "Epoch 1/20\n",
            "31/31 [==============================] - 3s 77ms/step - loss: 17.0276 - mae: 17.0276\n",
            "Epoch 2/20\n",
            "31/31 [==============================] - 2s 75ms/step - loss: 11.6604 - mae: 11.6604\n",
            "Epoch 3/20\n",
            "31/31 [==============================] - 2s 76ms/step - loss: 10.1335 - mae: 10.1335\n",
            "Epoch 4/20\n",
            "31/31 [==============================] - 2s 75ms/step - loss: 8.0623 - mae: 8.0623\n",
            "Epoch 5/20\n",
            "31/31 [==============================] - 2s 74ms/step - loss: 7.6967 - mae: 7.6967\n",
            "Epoch 6/20\n",
            "31/31 [==============================] - 2s 73ms/step - loss: 4.9309 - mae: 4.9309\n",
            "Epoch 7/20\n",
            "31/31 [==============================] - 2s 77ms/step - loss: 4.3378 - mae: 4.3378\n",
            "Epoch 8/20\n",
            "31/31 [==============================] - 2s 76ms/step - loss: 4.3099 - mae: 4.3099\n",
            "Epoch 9/20\n",
            "31/31 [==============================] - 2s 74ms/step - loss: 3.8923 - mae: 3.8923\n",
            "Epoch 10/20\n",
            "31/31 [==============================] - 2s 76ms/step - loss: 4.1403 - mae: 4.1403\n",
            "Epoch 11/20\n",
            "31/31 [==============================] - 2s 76ms/step - loss: 3.9506 - mae: 3.9506\n",
            "Epoch 12/20\n",
            "31/31 [==============================] - 2s 77ms/step - loss: 3.6223 - mae: 3.6223\n",
            "Epoch 13/20\n",
            "31/31 [==============================] - 2s 76ms/step - loss: 4.0506 - mae: 4.0506\n",
            "Epoch 14/20\n",
            "31/31 [==============================] - 2s 75ms/step - loss: 3.4525 - mae: 3.4525\n",
            "Epoch 15/20\n",
            "31/31 [==============================] - 2s 76ms/step - loss: 3.5402 - mae: 3.5402\n",
            "Epoch 16/20\n",
            "31/31 [==============================] - 2s 76ms/step - loss: 3.2115 - mae: 3.2115\n",
            "Epoch 17/20\n",
            "31/31 [==============================] - 2s 76ms/step - loss: 3.3027 - mae: 3.3027\n",
            "Epoch 18/20\n",
            "31/31 [==============================] - 2s 75ms/step - loss: 3.2843 - mae: 3.2843\n",
            "Epoch 19/20\n",
            "31/31 [==============================] - 2s 76ms/step - loss: 3.0989 - mae: 3.0989\n",
            "Epoch 20/20\n",
            "31/31 [==============================] - 2s 73ms/step - loss: 2.9829 - mae: 2.9829\n"
          ],
          "name": "stdout"
        }
      ]
    },
    {
      "cell_type": "code",
      "metadata": {
        "id": "JRBe8cRtPQZz"
      },
      "source": [
        "test_set = windowed_dataset_test(x_valid, window_size=100)\n",
        "y_test = model.predict(test_set)"
      ],
      "execution_count": 39,
      "outputs": []
    },
    {
      "cell_type": "code",
      "metadata": {
        "id": "P01uraVZP_XZ"
      },
      "source": [
        "actual_y = []\n",
        "for x,y in test_set:\n",
        "    actual_y.append(y.numpy())\n",
        "actual_y = np.array(actual_y)"
      ],
      "execution_count": 40,
      "outputs": []
    },
    {
      "cell_type": "code",
      "metadata": {
        "colab": {
          "base_uri": "https://localhost:8080/",
          "height": 285
        },
        "id": "SFPNbuC6RkKE",
        "outputId": "7247633f-f530-4924-ab9f-2a6df8a22465"
      },
      "source": [
        "import matplotlib.pyplot as plt\n",
        "\n",
        "plt.plot(y_test[:,0], 'g')\n",
        "plt.plot(np.array(actual_y), 'r')\n"
      ],
      "execution_count": 41,
      "outputs": [
        {
          "output_type": "execute_result",
          "data": {
            "text/plain": [
              "[<matplotlib.lines.Line2D at 0x7fe5ca173f50>]"
            ]
          },
          "metadata": {
            "tags": []
          },
          "execution_count": 41
        },
        {
          "output_type": "display_data",
          "data": {
            "image/png": "[encoded data removed]",
            "text/plain": [
              "<Figure size 432x288 with 1 Axes>"
            ]
          },
          "metadata": {
            "tags": [],
            "needs_background": "light"
          }
        }
      ]
    },
    {
      "cell_type": "code",
      "metadata": {
        "id": "Jq-dQluy-W98"
      },
      "source": [
        ""
      ],
      "execution_count": 41,
      "outputs": []
    },
    {
      "cell_type": "markdown",
      "metadata": {
        "id": "x91yoDLZYLq7"
      },
      "source": [
        "### Exercise 1\n",
        "\n",
        "Please do the similar experiment with `aard.us.txt`"
      ]
    },
    {
      "cell_type": "code",
      "metadata": {
        "colab": {
          "base_uri": "https://localhost:8080/",
          "height": 285
        },
        "id": "TJpqlKsDhql7",
        "outputId": "8e59f46f-55a5-4dc9-bcf0-9bd4227c2c27"
      },
      "source": [
        "pdf_aard = pd.read_csv(\"https://drive.google.com/uc?id=1hTc4qW8aCTCNY35ksGbXTdSMe7djB2FD\")\n",
        "pdf_aard['Close'].plot()\n"
      ],
      "execution_count": 42,
      "outputs": [
        {
          "output_type": "execute_result",
          "data": {
            "text/plain": [
              "<matplotlib.axes._subplots.AxesSubplot at 0x7fe5ca0cedd0>"
            ]
          },
          "metadata": {
            "tags": []
          },
          "execution_count": 42
        },
        {
          "output_type": "display_data",
          "data": {
            "image/png": "[encoded data removed]",
            "text/plain": [
              "<Figure size 432x288 with 1 Axes>"
            ]
          },
          "metadata": {
            "tags": [],
            "needs_background": "light"
          }
        }
      ]
    },
    {
      "cell_type": "code",
      "metadata": {
        "id": "YlmnpiHPf5VP"
      },
      "source": [
        "### Your Response here "
      ],
      "execution_count": 43,
      "outputs": []
    },
    {
      "cell_type": "code",
      "metadata": {
        "id": "x1a-J6e5f5VP"
      },
      "source": [
        "### Your Response here "
      ],
      "execution_count": 44,
      "outputs": []
    },
    {
      "cell_type": "code",
      "metadata": {
        "id": "0XwyCxNjf5VP"
      },
      "source": [
        "### Your Response here "
      ],
      "execution_count": 45,
      "outputs": []
    },
    {
      "cell_type": "code",
      "metadata": {
        "id": "OG1wIGN0f5VP"
      },
      "source": [
        "### Your Response here "
      ],
      "execution_count": 46,
      "outputs": []
    },
    {
      "cell_type": "code",
      "metadata": {
        "id": "Iwtgz8h2f5VP"
      },
      "source": [
        "### Your Response here "
      ],
      "execution_count": 47,
      "outputs": []
    },
    {
      "cell_type": "code",
      "metadata": {
        "id": "d3F-5s8ef5VQ"
      },
      "source": [
        "### Your Response here "
      ],
      "execution_count": 48,
      "outputs": []
    },
    {
      "cell_type": "code",
      "metadata": {
        "id": "UssTftZ5f5VQ"
      },
      "source": [
        "### Your Response here "
      ],
      "execution_count": 49,
      "outputs": []
    },
    {
      "cell_type": "code",
      "metadata": {
        "id": "Hj-NnoClf5VQ"
      },
      "source": [
        "### Your Response here "
      ],
      "execution_count": 50,
      "outputs": []
    },
    {
      "cell_type": "code",
      "metadata": {
        "id": "p3ACKjAGf5VQ"
      },
      "source": [
        "### Your Response here "
      ],
      "execution_count": 51,
      "outputs": []
    },
    {
      "cell_type": "markdown",
      "metadata": {
        "id": "Wjhk9wKCf5VQ"
      },
      "source": [
        "### Exercise 2\n",
        "\n",
        "Try Deeper RNN network and check the training loss and plot predictions versus actual  \n"
      ]
    },
    {
      "cell_type": "code",
      "metadata": {
        "id": "7zjKxebXYctz"
      },
      "source": [
        "### Your Response here "
      ],
      "execution_count": 52,
      "outputs": []
    },
    {
      "cell_type": "code",
      "metadata": {
        "id": "8cJVaqFAf5VQ"
      },
      "source": [
        "### Your Response here "
      ],
      "execution_count": 53,
      "outputs": []
    },
    {
      "cell_type": "code",
      "metadata": {
        "id": "KJYZTYY6f5VQ"
      },
      "source": [
        "### Your Response here "
      ],
      "execution_count": 54,
      "outputs": []
    },
    {
      "cell_type": "markdown",
      "metadata": {
        "id": "wyzeSniff5VQ"
      },
      "source": [
        "### Exercise 3\n",
        "\n",
        "Try LSTM and GRU network and check the training loss and plot predictions versus actual  \n"
      ]
    },
    {
      "cell_type": "code",
      "metadata": {
        "id": "-kLfq1Saf5VQ"
      },
      "source": [
        "### Your Response here "
      ],
      "execution_count": 55,
      "outputs": []
    },
    {
      "cell_type": "code",
      "metadata": {
        "id": "BpsL9hLif5VQ"
      },
      "source": [
        "### Your Response here "
      ],
      "execution_count": 56,
      "outputs": []
    },
    {
      "cell_type": "code",
      "metadata": {
        "id": "C5NdHpypf5VR"
      },
      "source": [
        "### Your Response here "
      ],
      "execution_count": 57,
      "outputs": []
    },
    {
      "cell_type": "code",
      "metadata": {
        "id": "t-_ix5XVf5VR"
      },
      "source": [
        "### Your Response here "
      ],
      "execution_count": 58,
      "outputs": []
    },
    {
      "cell_type": "markdown",
      "metadata": {
        "id": "uOnYpWG5q6hU"
      },
      "source": [
        "# References \n",
        "\n",
        "- [Hands-On Machine Learning with Scikit-Learn, Keras, and TensorFlow, 2nd Edition (Chapter 15)](https://www.oreilly.com/library/view/hands-on-machine-learning/9781492032632/)\n",
        "\n",
        "- [Deep Learning book (Chapter 10)](http://www.deeplearningbook.org/contents/rnn.html#pf7)\n",
        "\n",
        "# Additional Resources\n",
        "\n",
        "- Understanding LSTMs\n",
        "    - https://colah.github.io/posts/2015-08-Understanding-LSTMs/\n",
        "- Recurrent Neural Networks w/ TF:\n",
        "    - https://www.tensorflow.org/tutorials/sequences/recurrent\n",
        "    \n",
        "- Keras conv networks:\n",
        "    - https://keras.io/layers/recurrent/\n",
        "    - https://keras.io/applications/\n",
        "    \n",
        "- Deep Learning book\n",
        "    - Ian Goodfellow and Yoshua Bengio and Aaron Courville\n",
        "    - https://www.deeplearningbook.org/contents/rnn.html\n",
        "    \n",
        "- Deep Learning with Python \n",
        "    - [Understanding Recurrent Neural Networks](https://github.com/fchollet/deep-learning-with-python-notebooks/blob/master/6.2-understanding-recurrent-neural-networks.ipynb)\n",
        "\n",
        "- [Understanding LSTM](https://colah.github.io/posts/2015-08-Understanding-LSTMs/)\n",
        "\n",
        "- [Stock Prediction Example](https://github.com/DarkKnight1991/Stock-Price-Prediction)\n",
        "- [Classical Piano Example](https://github.com/Skuldur/Classical-Piano-Composer)\n"
      ]
    },
    {
      "cell_type": "code",
      "metadata": {
        "id": "pZT7rfknq6hU"
      },
      "source": [
        ""
      ],
      "execution_count": null,
      "outputs": []
    }
  ]
}