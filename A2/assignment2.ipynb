{
  "nbformat": 4,
  "nbformat_minor": 5,
  "metadata": {
    "accelerator": "GPU",
    "colab": {
      "name": "assignment2.ipynb",
      "provenance": [],
      "collapsed_sections": [],
      "toc_visible": true
    },
    "kernelspec": {
      "display_name": "Python 3 (ipykernel)",
      "language": "python",
      "name": "python3"
    },
    "language_info": {
      "codemirror_mode": {
        "name": "ipython",
        "version": 3
      },
      "file_extension": ".py",
      "mimetype": "text/x-python",
      "name": "python",
      "nbconvert_exporter": "python",
      "pygments_lexer": "ipython3",
      "version": "3.9.7"
    }
  },
  "cells": [
    {
      "cell_type": "markdown",
      "metadata": {
        "id": "0362858b-409d-47db-a403-c5e503468e68"
      },
      "source": [
        "# Develop and evaluate neural network models using Keras for a regression problem\n",
        "\n",
        "__Author - Sarthak Kaushik__\n",
        "\n",
        "__Date - October 26, 2021__\n"
      ],
      "id": "0362858b-409d-47db-a403-c5e503468e68"
    },
    {
      "cell_type": "code",
      "metadata": {
        "id": "7c3d8419-6975-43d0-85ab-3208960757d7"
      },
      "source": [
        "from PIL import Image\n",
        "import glob\n",
        "import os\n",
        "import shutil\n",
        "\n",
        "import random\n",
        "\n",
        "import pathlib\n",
        "import tensorflow as tf\n",
        "\n",
        "from keras import regularizers\n",
        "from keras.models import Sequential, Model\n",
        "from keras.layers import Dropout, Flatten, Dense, GlobalAveragePooling2D\n",
        "from keras.preprocessing.image import ImageDataGenerator\n",
        "\n",
        "import warnings\n",
        "warnings.simplefilter(\"ignore\")"
      ],
      "id": "7c3d8419-6975-43d0-85ab-3208960757d7",
      "execution_count": 1,
      "outputs": []
    },
    {
      "cell_type": "markdown",
      "metadata": {
        "id": "dbfeb1fe-59fa-43d6-b5c9-af397e85012b"
      },
      "source": [
        "# Image Resizing"
      ],
      "id": "dbfeb1fe-59fa-43d6-b5c9-af397e85012b"
    },
    {
      "cell_type": "code",
      "metadata": {
        "id": "e974c06d-adb7-4787-a11e-5973037f058c"
      },
      "source": [
        "def resize_image(img, path, i):\n",
        "    # Resize and save image\n",
        "    image = Image.open(img)\n",
        "    image = image.resize((150,150))\n",
        "    image.save(path+'/'+str(i)+'.jpg')\n",
        "    return\n",
        "        \n",
        "def create_directory(path):\n",
        "    # Create directory for resized images\n",
        "    if os.path.isdir(path) == True:\n",
        "        print (\"directory exists: \" + path)\n",
        "#         print ('deleting directory: ' + path)\n",
        "        shutil.rmtree(path)\n",
        "        os.mkdir(path)\n",
        "        print (\"directory created: \" + path)\n",
        "    else :\n",
        "        os.mkdir(path)\n",
        "        print (\"directory created: \" + path)\n",
        "    return\n",
        "\n",
        "def resize_images():\n",
        "    directories = glob.glob('flower_photos/*/')\n",
        "    path = os.path.join('resized')\n",
        "    # shutil.rmtree(path)\n",
        "    create_directory(path)\n",
        "\n",
        "    for directory in directories:\n",
        "        flower_type = str.split(directory,'/')[1]    \n",
        "       # path = os.path.join(path1,'resized',flower_type)\n",
        "        path2 = os.path.join('resized',flower_type)\n",
        "        create_directory(path2)\n",
        "        i = 0\n",
        "        images= glob.glob(directory+'/*.jpg')\n",
        "        for image in images:\n",
        "            resize_image(image, path2 , i)\n",
        "            i += 1\n",
        "    shutil.rmtree('flower_photos')\n",
        "    return"
      ],
      "id": "e974c06d-adb7-4787-a11e-5973037f058c",
      "execution_count": 2,
      "outputs": []
    },
    {
      "cell_type": "code",
      "metadata": {
        "colab": {
          "base_uri": "https://localhost:8080/"
        },
        "id": "0s8c8Xc1cQvk",
        "outputId": "0c928e64-18c4-451e-f820-e6d76920bbee"
      },
      "source": [
        "%%time\n",
        "# Download Images\n",
        "!curl -O http://download.tensorflow.org/example_images/flower_photos.tgz\n",
        "!tar -xf flower_photos.tgz\n",
        "os.remove(\"flower_photos.tgz\") \n",
        "resize_images()"
      ],
      "id": "0s8c8Xc1cQvk",
      "execution_count": 3,
      "outputs": [
        {
          "output_type": "stream",
          "name": "stdout",
          "text": [
            "  % Total    % Received % Xferd  Average Speed   Time    Time     Time  Current\n",
            "                                 Dload  Upload   Total   Spent    Left  Speed\n",
            "100  218M  100  218M    0     0   246M      0 --:--:-- --:--:-- --:--:--  245M\n",
            "directory created: resized\n",
            "directory created: resized/tulips\n",
            "directory created: resized/daisy\n",
            "directory created: resized/dandelion\n",
            "directory created: resized/roses\n",
            "directory created: resized/sunflowers\n",
            "CPU times: user 17.2 s, sys: 660 ms, total: 17.8 s\n",
            "Wall time: 21.5 s\n"
          ]
        }
      ]
    },
    {
      "cell_type": "markdown",
      "metadata": {
        "id": "cea0fef6-6042-4296-a3eb-5809a09ce472"
      },
      "source": [
        "# Split Images Train-Test"
      ],
      "id": "cea0fef6-6042-4296-a3eb-5809a09ce472"
    },
    {
      "cell_type": "code",
      "metadata": {
        "id": "1f550d92-9930-4643-875f-2a68083b5b96"
      },
      "source": [
        "def move_file(original_folder, list_files ,  target_folder) :\n",
        "#     files = glob.glob(original_folder+'/*.jpg')\n",
        "#     print(original_folder)\n",
        "    for image in list_files:\n",
        "        # print(image)\n",
        "        # Get file name\n",
        "        image_name = image.split(\"/\")[2]\n",
        "\n",
        "        # Move File to Folder\n",
        "        shutil.move(image, target_folder+\"/\"+image_name)"
      ],
      "id": "1f550d92-9930-4643-875f-2a68083b5b96",
      "execution_count": 4,
      "outputs": []
    },
    {
      "cell_type": "code",
      "metadata": {
        "colab": {
          "base_uri": "https://localhost:8080/"
        },
        "id": "bf49ac3a-2d56-4194-be65-15e0d745b8f9",
        "outputId": "61278130-e795-453e-97f0-fbc2338be36b"
      },
      "source": [
        "seed = 100\n",
        "random.seed(seed)\n",
        "\n",
        "directories = glob.glob('resized/*/')\n",
        "tr_ratio = 0.75\n",
        "\n",
        "# Create directories\n",
        "create_directory('train')\n",
        "create_directory('validation')\n",
        "\n",
        "for directory in directories :\n",
        "    # Split directory to get flower class\n",
        "    flower_class = directory.split(\"/\")[1]\n",
        "    flower_name = directory.split(\"/\")[2]\n",
        "\n",
        "    # Get number files in train and test\n",
        "    files = glob.glob(directory+'/*.jpg')\n",
        "    tr_idx = round (tr_ratio * len(files))\n",
        "    \n",
        "    # random shuffle images in files\n",
        "    random.shuffle(files)\n",
        "    \n",
        "    #split files into test and train\n",
        "    train = files[:tr_idx]\n",
        "    test = files[tr_idx:]\n",
        "\n",
        "    # Create directory for flower_class under train and test\n",
        "    train_folder = 'train/'+flower_class\n",
        "    create_directory(train_folder)\n",
        "    \n",
        "    validation_folder = 'validation/'+flower_class\n",
        "    create_directory(validation_folder)\n",
        "    \n",
        "    #move files to train and validation\n",
        "    move_file(directory, train , train_folder)\n",
        "    move_file(directory, test ,validation_folder)\n",
        "\n",
        "shutil.rmtree(\"resized/\")\n"
      ],
      "id": "bf49ac3a-2d56-4194-be65-15e0d745b8f9",
      "execution_count": 5,
      "outputs": [
        {
          "output_type": "stream",
          "name": "stdout",
          "text": [
            "directory created: train\n",
            "directory created: validation\n",
            "directory created: train/tulips\n",
            "directory created: validation/tulips\n",
            "directory created: train/daisy\n",
            "directory created: validation/daisy\n",
            "directory created: train/dandelion\n",
            "directory created: validation/dandelion\n",
            "directory created: train/roses\n",
            "directory created: validation/roses\n",
            "directory created: train/sunflowers\n",
            "directory created: validation/sunflowers\n"
          ]
        }
      ]
    },
    {
      "cell_type": "markdown",
      "metadata": {
        "id": "wOTg64aFy8Ei"
      },
      "source": [
        "# Train-Validation Configuration"
      ],
      "id": "wOTg64aFy8Ei"
    },
    {
      "cell_type": "code",
      "metadata": {
        "colab": {
          "base_uri": "https://localhost:8080/"
        },
        "id": "PGtcHegdy7Rc",
        "outputId": "1965ca36-2cd0-406a-bc22-1f9a80341eb2"
      },
      "source": [
        "train_data_dir = 'train/'\n",
        "validation_data_dir = 'validation/'\n",
        "\n",
        "image_w, image_h = 150, 150\n",
        "\n",
        "# set the following parameters as per your preference\n",
        "batch_size = 30\n",
        "\n",
        "# Data augmentation \n",
        "train_datagen = ImageDataGenerator(\n",
        "    rescale=1. / 255,\n",
        "    rotation_range = 40,\n",
        "    shear_range=0.2,\n",
        "    zoom_range=0.3,\n",
        "    horizontal_flip=True,\n",
        "    fill_mode = 'nearest')\n",
        "\n",
        "train_generator = train_datagen.flow_from_directory(\n",
        "    train_data_dir,\n",
        "    target_size=(image_w, image_h),\n",
        "    color_mode ='rgb', \n",
        "    batch_size=batch_size,\n",
        "    class_mode='binary',\n",
        "    seed = 42,)\n",
        "\n",
        "# rescaling\n",
        "validation_datagen = ImageDataGenerator(rescale=1. / 255)\n",
        "\n",
        "validation_generator = validation_datagen.flow_from_directory(\n",
        "    validation_data_dir,\n",
        "    target_size=(image_w, image_h),\n",
        "    color_mode ='rgb', \n",
        "    batch_size=batch_size,\n",
        "    class_mode='binary',\n",
        "    seed = 42,)\n",
        "\n",
        "evaluation_generator = validation_datagen.flow_from_directory(\n",
        "    validation_data_dir,\n",
        "    target_size=(image_w, image_h),\n",
        "    color_mode ='rgb', \n",
        "    batch_size=1,\n",
        "    class_mode='binary',\n",
        "    seed = 42,)"
      ],
      "id": "PGtcHegdy7Rc",
      "execution_count": 6,
      "outputs": [
        {
          "output_type": "stream",
          "name": "stdout",
          "text": [
            "Found 2753 images belonging to 5 classes.\n",
            "Found 917 images belonging to 5 classes.\n",
            "Found 917 images belonging to 5 classes.\n"
          ]
        }
      ]
    },
    {
      "cell_type": "markdown",
      "metadata": {
        "id": "edf00252-c9b2-43c8-8532-ae747bce12ab"
      },
      "source": [
        "# Functions"
      ],
      "id": "edf00252-c9b2-43c8-8532-ae747bce12ab"
    },
    {
      "cell_type": "markdown",
      "metadata": {
        "id": "c8beab81-78a0-450a-9483-3b2bc2a5c2c2"
      },
      "source": [
        "## Freezing all layers"
      ],
      "id": "c8beab81-78a0-450a-9483-3b2bc2a5c2c2"
    },
    {
      "cell_type": "code",
      "metadata": {
        "id": "74d920c5-a92d-4222-9fd6-193d3615a89d"
      },
      "source": [
        "# Freezing all layers we don't want to train\n",
        "def unfreeze_layers(model, n=0, unfreeze_all = False):\n",
        "    ''' n : number of layers to freeze'''\n",
        "    for layer in model.layers:\n",
        "        layer.trainable = True\n",
        "    \n",
        "    # if unfreeze_all == 1 then skip this step\n",
        "    if unfreeze_all == False:\n",
        "\n",
        "        # Unfreeze layers as defined by n\n",
        "        for layer in model.layers[:len(model.layers)-n]:\n",
        "            layer.trainable = False\n",
        "    layers = [] \n",
        "    for i, layer in enumerate(model.layers): \n",
        "            layers.append([layer.name, layer.trainable])\n",
        "    print (layers)"
      ],
      "id": "74d920c5-a92d-4222-9fd6-193d3615a89d",
      "execution_count": 7,
      "outputs": []
    },
    {
      "cell_type": "markdown",
      "metadata": {
        "id": "iArlcXNtqcK5"
      },
      "source": [
        "## Model VGG16 - Top Layer Removed"
      ],
      "id": "iArlcXNtqcK5"
    },
    {
      "cell_type": "code",
      "metadata": {
        "id": "a2LOvoZNqcUu"
      },
      "source": [
        "# VGG16 pre-trained model without fully connected layers and with different input dimensions\n",
        "def model_vgg():\n",
        "    modelvgg = tf.keras.applications.VGG16(\n",
        "        weights = \"imagenet\", \n",
        "        include_top=False, \n",
        "        input_shape = (image_w, image_h, 3)\n",
        "    )\n",
        "    return modelvgg\n",
        "\n",
        "#model_vgg().summary()"
      ],
      "id": "a2LOvoZNqcUu",
      "execution_count": 8,
      "outputs": []
    },
    {
      "cell_type": "markdown",
      "metadata": {
        "id": "297QUrkpqsLR"
      },
      "source": [
        "## Add Fully Connected End Layers"
      ],
      "id": "297QUrkpqsLR"
    },
    {
      "cell_type": "code",
      "metadata": {
        "id": "kN128bZRqsjE"
      },
      "source": [
        "# Adding custom layers to create a new model \n",
        "# one with 256 nodes using ‘relu’ activation and output layer with 5 nodes and ‘softmax’ activation)\n",
        "# model\n",
        "\n",
        "def model_custom(frozenLayers = 0,unfreeze_all = False, lr =0.01, dropoutRatio = 0.2, l2Regularizer = 0.01):\n",
        "    model = model_vgg()\n",
        "    unfreeze_layers(model, frozenLayers, unfreeze_all)\n",
        "    model1 = Sequential([\n",
        "        model,\n",
        "        Flatten(name='flatten'),\n",
        "        Dense(256, activation='relu', name='new_fc1', \n",
        "              kernel_initializer=\"HeNormal\", \n",
        "              kernel_regularizer = regularizers.l2(l2Regularizer)),\n",
        "        Dropout(dropoutRatio),\n",
        "        Dense(5, activation='softmax', \n",
        "              name='new_predictions')\n",
        "    ])\n",
        "\n",
        "    print (model1.summary())\n",
        "\n",
        "    optimizer = tf.keras.optimizers.Adam(learning_rate=lr,)\n",
        "\n",
        "    model1.compile(\n",
        "        loss = tf.keras.losses.SparseCategoricalCrossentropy(from_logits=True), \n",
        "        optimizer = optimizer, \n",
        "        metrics=[\"accuracy\"])\n",
        "\n",
        "    return model1"
      ],
      "id": "kN128bZRqsjE",
      "execution_count": 9,
      "outputs": []
    },
    {
      "cell_type": "markdown",
      "metadata": {
        "id": "C_Poj89aCscG"
      },
      "source": [
        "## Plot Loss"
      ],
      "id": "C_Poj89aCscG"
    },
    {
      "cell_type": "code",
      "metadata": {
        "id": "E5w1YHxQCujr"
      },
      "source": [
        "import matplotlib.pyplot as plt\n",
        "def plot_loss(history):\n",
        "  # Get training and test loss histories\n",
        "  training_loss = history.history['loss']\n",
        "  test_loss = history.history['val_loss']\n",
        "\n",
        "  # Create count of the number of epochs\n",
        "  epoch_count = range(1, len(training_loss) + 1)\n",
        "\n",
        "  # Visualize loss history\n",
        "  plt.plot(epoch_count, training_loss, 'r--')\n",
        "  plt.plot(epoch_count, test_loss, 'b-')\n",
        "  plt.legend(['Training Loss', 'Test Loss'])\n",
        "  plt.xlabel('Epoch')\n",
        "  plt.ylabel('Loss')\n",
        "  plt.show()\n",
        "\n",
        "def plot_accuracy(history):\n",
        "  # Get training and accuracy histories\n",
        "  training_loss = history.history['accuracy']\n",
        "  test_loss = history.history['val_accuracy']\n",
        "\n",
        "  # Create count of the number of epochs\n",
        "  epoch_count = range(1, len(training_loss) + 1)\n",
        "\n",
        "  # Visualize loss history\n",
        "  plt.plot(epoch_count, training_loss, 'r--')\n",
        "  plt.plot(epoch_count, test_loss, 'b-')\n",
        "  plt.legend(['Training Accuracy', 'Test Accuracy'])\n",
        "  plt.xlabel('Epoch')\n",
        "  plt.ylabel('Accuracy')\n",
        "  plt.show()"
      ],
      "id": "E5w1YHxQCujr",
      "execution_count": 10,
      "outputs": []
    },
    {
      "cell_type": "markdown",
      "metadata": {
        "id": "COLUgC8lsMVC"
      },
      "source": [
        "## Gridsearch CV\n",
        "Unfortunately, I could not get the gridsearch cv functional in time for the assignment. The error summary was that \"lr is not a legal parameter\". \n",
        "\n",
        "Therefore, I just tried different learning rates and dropout ratio manually.\n",
        "\n",
        "I started with lr = 0.01. The idea was to have a faster descent but less epochs. This basically resulted in the following accuracies:\n",
        "1. First Model = 75%\n",
        "2. Second Model = 30%\n",
        "3. Third Model = 30%\n",
        "\n",
        "This demonstrated that the learning rate of 0.01 is too much for the adam optimizer and I needed to select a lower learning rate. After trial and error, I stuck to lr = 0.0001 to ensure that the optimizer is not jumping around the minima. "
      ],
      "id": "COLUgC8lsMVC"
    },
    {
      "cell_type": "markdown",
      "metadata": {
        "id": "BIBLatRB5nri"
      },
      "source": [
        "## Model Evaluation"
      ],
      "id": "BIBLatRB5nri"
    },
    {
      "cell_type": "code",
      "metadata": {
        "id": "OkEfuJ165oXf"
      },
      "source": [
        "import numpy as np\n",
        "from sklearn.metrics import confusion_matrix\n",
        "import pandas as pd\n",
        "\n",
        "def evaluate_model(model1, history1, evaluation_generator,modelnum = 1):\n",
        "  # Reset \n",
        "  evaluation_generator.reset()\n",
        "\n",
        "  # Evaluate on Validation data\n",
        "  scores = model1.evaluate(evaluation_generator)\n",
        "  print(\"%s%s: %.2f%%\" % (\"evaluate \",model1.metrics_names[1], scores[1]*100))\n",
        "\n",
        "  STEP_SIZE_TEST=evaluation_generator.n//evaluation_generator.batch_size\n",
        "\n",
        "  evaluation_generator.reset()\n",
        "\n",
        "  # Prediction on Validation Data\n",
        "  pred=model1.predict_generator(evaluation_generator,\n",
        "                              steps=STEP_SIZE_TEST,\n",
        "                              verbose=1)\n",
        "\n",
        "  predicted_class_indices = np.argmax(pred,axis=1)\n",
        "  labels = (train_generator.class_indices)\n",
        "  labels = dict((v,k) for k,v in labels.items())\n",
        "  predictions = [labels[k] for k in predicted_class_indices]\n",
        "\n",
        "  filenames = evaluation_generator.filenames\n",
        "  results = pd.DataFrame({\"Filename\":filenames,\n",
        "                        \"Predictions\":predictions})\n",
        "  results.to_csv(\"results_\"+str(modelnum)+\".csv\",index=False)"
      ],
      "id": "OkEfuJ165oXf",
      "execution_count": 11,
      "outputs": []
    },
    {
      "cell_type": "code",
      "metadata": {
        "id": "G5uu9CA141i8"
      },
      "source": [
        "nb_train_samples = 256*5\n",
        "nb_validation_samples = 64*5"
      ],
      "id": "G5uu9CA141i8",
      "execution_count": 12,
      "outputs": []
    },
    {
      "cell_type": "markdown",
      "metadata": {
        "id": "6b95614b-a9dd-4510-a9a2-11676ec66910"
      },
      "source": [
        "# First Model - No Layers Trainable"
      ],
      "id": "6b95614b-a9dd-4510-a9a2-11676ec66910"
    },
    {
      "cell_type": "code",
      "metadata": {
        "colab": {
          "base_uri": "https://localhost:8080/"
        },
        "id": "-34x4EXifiTC",
        "outputId": "20e0aaab-0dcf-4d8c-8959-e1339c54f081"
      },
      "source": [
        "%%time\n",
        "model1 = model_custom(frozenLayers = 0,unfreeze_all = False,\n",
        "                      lr = 0.0001, dropoutRatio = 0.2, l2Regularizer = 0.01)\n",
        "\n",
        "# Basically tune the weights of the newly added fully connected layers\n",
        "history1 = model1.fit(\n",
        "    train_generator,\n",
        "    steps_per_epoch = nb_train_samples // batch_size,\n",
        "    epochs=100,\n",
        "    validation_data=validation_generator,\n",
        "    validation_steps=nb_validation_samples // batch_size)"
      ],
      "id": "-34x4EXifiTC",
      "execution_count": null,
      "outputs": [
        {
          "name": "stdout",
          "output_type": "stream",
          "text": [
            "[['input_3', False], ['block1_conv1', False], ['block1_conv2', False], ['block1_pool', False], ['block2_conv1', False], ['block2_conv2', False], ['block2_pool', False], ['block3_conv1', False], ['block3_conv2', False], ['block3_conv3', False], ['block3_pool', False], ['block4_conv1', False], ['block4_conv2', False], ['block4_conv3', False], ['block4_pool', False], ['block5_conv1', False], ['block5_conv2', False], ['block5_conv3', False], ['block5_pool', False]]\n",
            "Model: \"sequential_2\"\n",
            "_________________________________________________________________\n",
            "Layer (type)                 Output Shape              Param #   \n",
            "=================================================================\n",
            "vgg16 (Functional)           (None, 4, 4, 512)         14714688  \n",
            "_________________________________________________________________\n",
            "flatten (Flatten)            (None, 8192)              0         \n",
            "_________________________________________________________________\n",
            "new_fc1 (Dense)              (None, 256)               2097408   \n",
            "_________________________________________________________________\n",
            "dropout_2 (Dropout)          (None, 256)               0         \n",
            "_________________________________________________________________\n",
            "new_predictions (Dense)      (None, 5)                 1285      \n",
            "=================================================================\n",
            "Total params: 16,813,381\n",
            "Trainable params: 2,098,693\n",
            "Non-trainable params: 14,714,688\n",
            "_________________________________________________________________\n",
            "None\n",
            "Epoch 1/100\n",
            "42/42 [==============================] - 12s 261ms/step - loss: 5.9784 - accuracy: 0.4278 - val_loss: 5.2368 - val_accuracy: 0.6600\n",
            "Epoch 2/100\n",
            "42/42 [==============================] - 11s 254ms/step - loss: 4.7929 - accuracy: 0.6536 - val_loss: 4.2399 - val_accuracy: 0.7900\n",
            "Epoch 3/100\n",
            "42/42 [==============================] - 11s 253ms/step - loss: 4.1167 - accuracy: 0.6802 - val_loss: 3.7356 - val_accuracy: 0.7267\n",
            "Epoch 4/100\n",
            "42/42 [==============================] - 11s 256ms/step - loss: 3.5661 - accuracy: 0.7206 - val_loss: 3.3512 - val_accuracy: 0.7267\n",
            "Epoch 5/100\n",
            "42/42 [==============================] - 11s 253ms/step - loss: 3.1776 - accuracy: 0.7486 - val_loss: 2.9226 - val_accuracy: 0.8133\n",
            "Epoch 6/100\n",
            "42/42 [==============================] - 11s 255ms/step - loss: 2.8701 - accuracy: 0.7518 - val_loss: 2.7563 - val_accuracy: 0.7600\n",
            "Epoch 7/100\n",
            "42/42 [==============================] - 11s 255ms/step - loss: 2.6579 - accuracy: 0.7532 - val_loss: 2.4704 - val_accuracy: 0.7933\n",
            "Epoch 8/100\n",
            "42/42 [==============================] - 11s 254ms/step - loss: 2.4376 - accuracy: 0.7789 - val_loss: 2.3282 - val_accuracy: 0.7800\n",
            "Epoch 9/100\n",
            "42/42 [==============================] - 11s 255ms/step - loss: 2.2753 - accuracy: 0.7873 - val_loss: 2.0921 - val_accuracy: 0.8233\n",
            "Epoch 10/100\n",
            "42/42 [==============================] - 11s 249ms/step - loss: 2.1973 - accuracy: 0.7686 - val_loss: 2.0462 - val_accuracy: 0.8033\n",
            "Epoch 11/100\n",
            "42/42 [==============================] - 11s 250ms/step - loss: 2.0030 - accuracy: 0.7949 - val_loss: 2.0023 - val_accuracy: 0.7933\n",
            "Epoch 12/100\n",
            "42/42 [==============================] - 11s 250ms/step - loss: 1.9210 - accuracy: 0.7873 - val_loss: 1.7527 - val_accuracy: 0.8533\n",
            "Epoch 13/100\n",
            "42/42 [==============================] - 11s 252ms/step - loss: 1.8462 - accuracy: 0.7833 - val_loss: 1.7831 - val_accuracy: 0.8067\n",
            "Epoch 14/100\n",
            "42/42 [==============================] - 11s 253ms/step - loss: 1.7111 - accuracy: 0.8214 - val_loss: 1.7265 - val_accuracy: 0.8067\n",
            "Epoch 15/100\n",
            "42/42 [==============================] - 11s 250ms/step - loss: 1.6648 - accuracy: 0.8045 - val_loss: 1.6440 - val_accuracy: 0.8300\n",
            "Epoch 16/100\n",
            "42/42 [==============================] - 11s 251ms/step - loss: 1.6148 - accuracy: 0.8053 - val_loss: 1.6082 - val_accuracy: 0.8067\n",
            "Epoch 17/100\n",
            "42/42 [==============================] - 11s 257ms/step - loss: 1.5608 - accuracy: 0.8056 - val_loss: 1.4656 - val_accuracy: 0.8333\n",
            "Epoch 18/100\n",
            "42/42 [==============================] - 11s 254ms/step - loss: 1.4967 - accuracy: 0.8198 - val_loss: 1.4638 - val_accuracy: 0.7967\n",
            "Epoch 19/100\n",
            "42/42 [==============================] - 11s 257ms/step - loss: 1.4722 - accuracy: 0.8093 - val_loss: 1.4629 - val_accuracy: 0.7900\n",
            "Epoch 20/100\n",
            "42/42 [==============================] - 11s 255ms/step - loss: 1.4149 - accuracy: 0.8132 - val_loss: 1.3754 - val_accuracy: 0.8067\n",
            "Epoch 21/100\n",
            "42/42 [==============================] - 11s 249ms/step - loss: 1.3517 - accuracy: 0.8188 - val_loss: 1.4283 - val_accuracy: 0.7800\n",
            "Epoch 22/100\n",
            "42/42 [==============================] - 11s 249ms/step - loss: 1.2999 - accuracy: 0.8238 - val_loss: 1.2941 - val_accuracy: 0.8233\n",
            "Epoch 23/100\n",
            "42/42 [==============================] - 11s 251ms/step - loss: 1.2720 - accuracy: 0.8183 - val_loss: 1.2459 - val_accuracy: 0.8267\n",
            "Epoch 24/100\n",
            "42/42 [==============================] - 11s 251ms/step - loss: 1.2596 - accuracy: 0.8198 - val_loss: 1.2108 - val_accuracy: 0.8267\n",
            "Epoch 25/100\n",
            "42/42 [==============================] - 11s 249ms/step - loss: 1.2089 - accuracy: 0.8198 - val_loss: 1.2220 - val_accuracy: 0.8167\n",
            "Epoch 26/100\n",
            "42/42 [==============================] - 11s 249ms/step - loss: 1.1992 - accuracy: 0.8148 - val_loss: 1.0889 - val_accuracy: 0.8600\n",
            "Epoch 27/100\n",
            "42/42 [==============================] - 11s 251ms/step - loss: 1.1535 - accuracy: 0.8167 - val_loss: 1.2088 - val_accuracy: 0.8033\n",
            "Epoch 28/100\n",
            "42/42 [==============================] - 11s 250ms/step - loss: 1.1541 - accuracy: 0.8095 - val_loss: 1.0608 - val_accuracy: 0.8467\n",
            "Epoch 29/100\n",
            "42/42 [==============================] - 11s 253ms/step - loss: 1.0750 - accuracy: 0.8278 - val_loss: 1.1437 - val_accuracy: 0.8000\n",
            "Epoch 30/100\n",
            "42/42 [==============================] - 11s 251ms/step - loss: 1.0852 - accuracy: 0.8276 - val_loss: 1.0787 - val_accuracy: 0.8133\n",
            "Epoch 31/100\n",
            "42/42 [==============================] - 11s 254ms/step - loss: 1.0379 - accuracy: 0.8341 - val_loss: 1.0548 - val_accuracy: 0.8233\n",
            "Epoch 32/100\n",
            "42/42 [==============================] - 11s 257ms/step - loss: 1.0599 - accuracy: 0.8148 - val_loss: 1.0435 - val_accuracy: 0.8133\n",
            "Epoch 33/100\n",
            "42/42 [==============================] - 11s 256ms/step - loss: 1.0059 - accuracy: 0.8404 - val_loss: 1.0128 - val_accuracy: 0.8233\n",
            "Epoch 34/100\n",
            "42/42 [==============================] - 11s 257ms/step - loss: 1.0191 - accuracy: 0.8238 - val_loss: 1.0625 - val_accuracy: 0.7900\n",
            "Epoch 35/100\n",
            "42/42 [==============================] - 11s 253ms/step - loss: 0.9881 - accuracy: 0.8276 - val_loss: 0.9982 - val_accuracy: 0.8167\n",
            "Epoch 36/100\n",
            "42/42 [==============================] - 11s 254ms/step - loss: 0.9761 - accuracy: 0.8262 - val_loss: 0.9627 - val_accuracy: 0.8433\n",
            "Epoch 37/100\n",
            "42/42 [==============================] - 11s 251ms/step - loss: 0.9403 - accuracy: 0.8332 - val_loss: 0.8887 - val_accuracy: 0.8733\n",
            "Epoch 38/100\n",
            "42/42 [==============================] - 11s 251ms/step - loss: 0.9395 - accuracy: 0.8372 - val_loss: 0.9490 - val_accuracy: 0.8300\n",
            "Epoch 39/100\n",
            "42/42 [==============================] - 11s 253ms/step - loss: 0.9175 - accuracy: 0.8381 - val_loss: 1.0462 - val_accuracy: 0.7900\n",
            "Epoch 40/100\n",
            "42/42 [==============================] - 11s 252ms/step - loss: 0.8876 - accuracy: 0.8372 - val_loss: 0.9543 - val_accuracy: 0.8133\n",
            "Epoch 41/100\n",
            "42/42 [==============================] - 11s 253ms/step - loss: 0.8913 - accuracy: 0.8421 - val_loss: 0.8802 - val_accuracy: 0.8300\n",
            "Epoch 42/100\n",
            "42/42 [==============================] - 11s 253ms/step - loss: 0.8777 - accuracy: 0.8437 - val_loss: 0.9121 - val_accuracy: 0.8300\n",
            "Epoch 43/100\n",
            "42/42 [==============================] - 11s 251ms/step - loss: 0.8684 - accuracy: 0.8460 - val_loss: 0.8890 - val_accuracy: 0.8300\n",
            "Epoch 44/100\n",
            "42/42 [==============================] - 11s 252ms/step - loss: 0.8654 - accuracy: 0.8532 - val_loss: 0.9090 - val_accuracy: 0.8267\n",
            "Epoch 45/100\n",
            "42/42 [==============================] - 11s 250ms/step - loss: 0.8322 - accuracy: 0.8540 - val_loss: 0.9868 - val_accuracy: 0.7967\n",
            "Epoch 46/100\n",
            "42/42 [==============================] - 11s 252ms/step - loss: 0.8325 - accuracy: 0.8460 - val_loss: 0.8357 - val_accuracy: 0.8433\n",
            "Epoch 47/100\n",
            "42/42 [==============================] - 11s 250ms/step - loss: 0.8413 - accuracy: 0.8270 - val_loss: 0.8674 - val_accuracy: 0.8300\n",
            "Epoch 48/100\n",
            "42/42 [==============================] - 11s 251ms/step - loss: 0.8153 - accuracy: 0.8437 - val_loss: 0.8925 - val_accuracy: 0.8067\n",
            "Epoch 49/100\n",
            "42/42 [==============================] - 11s 253ms/step - loss: 0.8129 - accuracy: 0.8444 - val_loss: 0.8644 - val_accuracy: 0.8200\n",
            "Epoch 50/100\n",
            "42/42 [==============================] - 11s 253ms/step - loss: 0.8066 - accuracy: 0.8412 - val_loss: 0.8511 - val_accuracy: 0.8167\n",
            "Epoch 51/100\n",
            "42/42 [==============================] - 11s 254ms/step - loss: 0.8068 - accuracy: 0.8284 - val_loss: 0.8504 - val_accuracy: 0.8100\n",
            "Epoch 52/100\n",
            "42/42 [==============================] - 11s 254ms/step - loss: 0.7974 - accuracy: 0.8437 - val_loss: 0.7430 - val_accuracy: 0.8733\n",
            "Epoch 53/100\n",
            "42/42 [==============================] - 11s 255ms/step - loss: 0.7831 - accuracy: 0.8548 - val_loss: 0.7940 - val_accuracy: 0.8533\n",
            "Epoch 54/100\n",
            "42/42 [==============================] - 11s 255ms/step - loss: 0.7676 - accuracy: 0.8508 - val_loss: 0.9030 - val_accuracy: 0.7967\n",
            "Epoch 55/100\n",
            "42/42 [==============================] - 11s 255ms/step - loss: 0.7839 - accuracy: 0.8452 - val_loss: 0.9094 - val_accuracy: 0.7867\n",
            "Epoch 56/100\n",
            "42/42 [==============================] - 11s 253ms/step - loss: 0.7736 - accuracy: 0.8340 - val_loss: 0.8788 - val_accuracy: 0.8233\n",
            "Epoch 57/100\n",
            "42/42 [==============================] - 11s 252ms/step - loss: 0.7507 - accuracy: 0.8547 - val_loss: 0.8022 - val_accuracy: 0.8300\n",
            "Epoch 58/100\n",
            "42/42 [==============================] - 11s 254ms/step - loss: 0.7622 - accuracy: 0.8292 - val_loss: 0.7880 - val_accuracy: 0.8400\n",
            "Epoch 59/100\n",
            "42/42 [==============================] - 11s 256ms/step - loss: 0.7221 - accuracy: 0.8484 - val_loss: 0.8210 - val_accuracy: 0.8100\n",
            "Epoch 60/100\n",
            "42/42 [==============================] - 11s 258ms/step - loss: 0.7234 - accuracy: 0.8548 - val_loss: 0.8215 - val_accuracy: 0.8267\n",
            "Epoch 61/100\n",
            "42/42 [==============================] - 11s 257ms/step - loss: 0.7207 - accuracy: 0.8476 - val_loss: 0.7670 - val_accuracy: 0.8333\n",
            "Epoch 62/100\n",
            "42/42 [==============================] - 11s 256ms/step - loss: 0.7307 - accuracy: 0.8516 - val_loss: 0.9039 - val_accuracy: 0.7633\n",
            "Epoch 63/100\n",
            "42/42 [==============================] - 11s 257ms/step - loss: 0.7165 - accuracy: 0.8540 - val_loss: 0.8475 - val_accuracy: 0.8167\n",
            "Epoch 64/100\n",
            "42/42 [==============================] - 11s 258ms/step - loss: 0.7133 - accuracy: 0.8540 - val_loss: 0.7930 - val_accuracy: 0.8033\n",
            "Epoch 65/100\n",
            "42/42 [==============================] - 11s 257ms/step - loss: 0.7152 - accuracy: 0.8476 - val_loss: 0.8282 - val_accuracy: 0.8233\n",
            "Epoch 66/100\n",
            "42/42 [==============================] - 11s 255ms/step - loss: 0.7126 - accuracy: 0.8294 - val_loss: 0.7714 - val_accuracy: 0.8300\n",
            "Epoch 67/100\n",
            "42/42 [==============================] - 11s 255ms/step - loss: 0.6923 - accuracy: 0.8500 - val_loss: 0.7403 - val_accuracy: 0.8600\n",
            "Epoch 68/100\n",
            "42/42 [==============================] - 11s 259ms/step - loss: 0.6647 - accuracy: 0.8595 - val_loss: 0.7704 - val_accuracy: 0.8200\n",
            "Epoch 69/100\n",
            "42/42 [==============================] - 11s 257ms/step - loss: 0.6946 - accuracy: 0.8484 - val_loss: 0.7636 - val_accuracy: 0.8200\n",
            "Epoch 70/100\n",
            "42/42 [==============================] - 11s 257ms/step - loss: 0.6746 - accuracy: 0.8508 - val_loss: 0.7999 - val_accuracy: 0.8200\n",
            "Epoch 71/100\n",
            "42/42 [==============================] - 11s 256ms/step - loss: 0.7064 - accuracy: 0.8444 - val_loss: 0.7376 - val_accuracy: 0.8367\n",
            "Epoch 72/100\n",
            "42/42 [==============================] - 11s 255ms/step - loss: 0.6887 - accuracy: 0.8532 - val_loss: 0.7923 - val_accuracy: 0.8200\n",
            "Epoch 73/100\n",
            "42/42 [==============================] - 11s 255ms/step - loss: 0.6432 - accuracy: 0.8651 - val_loss: 0.7699 - val_accuracy: 0.8467\n",
            "Epoch 74/100\n",
            "42/42 [==============================] - 11s 256ms/step - loss: 0.6752 - accuracy: 0.8540 - val_loss: 0.7543 - val_accuracy: 0.8100\n",
            "Epoch 75/100\n",
            "42/42 [==============================] - 11s 258ms/step - loss: 0.6638 - accuracy: 0.8492 - val_loss: 0.7036 - val_accuracy: 0.8367\n",
            "Epoch 76/100\n",
            "42/42 [==============================] - 11s 258ms/step - loss: 0.6295 - accuracy: 0.8651 - val_loss: 0.8199 - val_accuracy: 0.8133\n",
            "Epoch 77/100\n",
            "42/42 [==============================] - 11s 256ms/step - loss: 0.6469 - accuracy: 0.8619 - val_loss: 0.7533 - val_accuracy: 0.8500\n",
            "Epoch 78/100\n",
            "42/42 [==============================] - 11s 258ms/step - loss: 0.6688 - accuracy: 0.8524 - val_loss: 0.7329 - val_accuracy: 0.8167\n",
            "Epoch 79/100\n",
            "42/42 [==============================] - 11s 256ms/step - loss: 0.6602 - accuracy: 0.8484 - val_loss: 0.7270 - val_accuracy: 0.8233\n",
            "Epoch 80/100\n",
            "42/42 [==============================] - 11s 257ms/step - loss: 0.6368 - accuracy: 0.8555 - val_loss: 0.6686 - val_accuracy: 0.8333\n",
            "Epoch 81/100\n",
            "42/42 [==============================] - 11s 259ms/step - loss: 0.6331 - accuracy: 0.8595 - val_loss: 0.7697 - val_accuracy: 0.8167\n",
            "Epoch 82/100\n",
            "42/42 [==============================] - 11s 259ms/step - loss: 0.6616 - accuracy: 0.8444 - val_loss: 0.7596 - val_accuracy: 0.8167\n",
            "Epoch 83/100\n",
            "42/42 [==============================] - 11s 258ms/step - loss: 0.6679 - accuracy: 0.8310 - val_loss: 0.7309 - val_accuracy: 0.8333\n",
            "Epoch 84/100\n",
            "42/42 [==============================] - 11s 262ms/step - loss: 0.6359 - accuracy: 0.8524 - val_loss: 0.7414 - val_accuracy: 0.8267\n",
            "Epoch 85/100\n",
            "42/42 [==============================] - 11s 260ms/step - loss: 0.6338 - accuracy: 0.8524 - val_loss: 0.7618 - val_accuracy: 0.8100\n",
            "Epoch 86/100\n",
            "42/42 [==============================] - 11s 261ms/step - loss: 0.6300 - accuracy: 0.8627 - val_loss: 0.7568 - val_accuracy: 0.7833\n",
            "Epoch 87/100\n",
            "42/42 [==============================] - 11s 261ms/step - loss: 0.6606 - accuracy: 0.8388 - val_loss: 0.7743 - val_accuracy: 0.7933\n",
            "Epoch 88/100\n",
            "42/42 [==============================] - 11s 258ms/step - loss: 0.6201 - accuracy: 0.8651 - val_loss: 0.7152 - val_accuracy: 0.8500\n",
            "Epoch 89/100\n",
            "42/42 [==============================] - 11s 259ms/step - loss: 0.6118 - accuracy: 0.8587 - val_loss: 0.7069 - val_accuracy: 0.8367\n",
            "Epoch 90/100\n",
            "42/42 [==============================] - 11s 258ms/step - loss: 0.6074 - accuracy: 0.8675 - val_loss: 0.6755 - val_accuracy: 0.8433\n",
            "Epoch 91/100\n",
            "42/42 [==============================] - 11s 261ms/step - loss: 0.6034 - accuracy: 0.8595 - val_loss: 0.6976 - val_accuracy: 0.8467\n",
            "Epoch 92/100\n",
            "42/42 [==============================] - 11s 261ms/step - loss: 0.6146 - accuracy: 0.8651 - val_loss: 0.7393 - val_accuracy: 0.8000\n",
            "Epoch 93/100\n",
            "42/42 [==============================] - 11s 258ms/step - loss: 0.6295 - accuracy: 0.8516 - val_loss: 0.7267 - val_accuracy: 0.8267\n",
            "Epoch 94/100\n",
            "42/42 [==============================] - 11s 257ms/step - loss: 0.6119 - accuracy: 0.8643 - val_loss: 0.7294 - val_accuracy: 0.8333\n",
            "Epoch 95/100\n",
            "42/42 [==============================] - 11s 258ms/step - loss: 0.5914 - accuracy: 0.8770 - val_loss: 0.6923 - val_accuracy: 0.8200\n",
            "Epoch 96/100\n",
            "42/42 [==============================] - 11s 259ms/step - loss: 0.6356 - accuracy: 0.8500 - val_loss: 0.6145 - val_accuracy: 0.8733\n",
            "Epoch 97/100\n",
            "42/42 [==============================] - 11s 257ms/step - loss: 0.6206 - accuracy: 0.8563 - val_loss: 0.7413 - val_accuracy: 0.8267\n",
            "Epoch 98/100\n",
            "42/42 [==============================] - 11s 260ms/step - loss: 0.6241 - accuracy: 0.8468 - val_loss: 0.7143 - val_accuracy: 0.8200\n",
            "Epoch 99/100\n",
            "42/42 [==============================] - 11s 262ms/step - loss: 0.5787 - accuracy: 0.8738 - val_loss: 0.7472 - val_accuracy: 0.8133\n",
            "Epoch 100/100\n",
            "42/42 [==============================] - 11s 264ms/step - loss: 0.6045 - accuracy: 0.8643 - val_loss: 0.7197 - val_accuracy: 0.8267\n",
            "CPU times: user 18min 43s, sys: 49.3 s, total: 19min 32s\n",
            "Wall time: 26min 5s\n"
          ]
        }
      ]
    },
    {
      "cell_type": "markdown",
      "metadata": {
        "id": "FWoQQmOVJnZr"
      },
      "source": [
        "## Loss Evaluation"
      ],
      "id": "FWoQQmOVJnZr"
    },
    {
      "cell_type": "code",
      "metadata": {
        "colab": {
          "base_uri": "https://localhost:8080/",
          "height": 541
        },
        "id": "csYrmCOfJlDc",
        "outputId": "6a8f26ae-72a3-4212-ac9e-3a6e6c239a39"
      },
      "source": [
        "plot_loss(history1)\n",
        "plot_accuracy(history1)"
      ],
      "id": "csYrmCOfJlDc",
      "execution_count": null,
      "outputs": [
        {
          "data": {
            "image/png": "[encoded data removed]",
            "text/plain": [
              "<Figure size 432x288 with 1 Axes>"
            ]
          },
          "metadata": {},
          "output_type": "display_data"
        },
        {
          "data": {
            "image/png": "[encoded data removed]",
            "text/plain": [
              "<Figure size 432x288 with 1 Axes>"
            ]
          },
          "metadata": {},
          "output_type": "display_data"
        }
      ]
    },
    {
      "cell_type": "markdown",
      "metadata": {
        "id": "7032009d-a7e0-466d-b8df-76d39a51f1ba"
      },
      "source": [
        "## Evaluate Model"
      ],
      "id": "7032009d-a7e0-466d-b8df-76d39a51f1ba"
    },
    {
      "cell_type": "code",
      "metadata": {
        "colab": {
          "base_uri": "https://localhost:8080/"
        },
        "id": "GIWJsApM2nSV",
        "outputId": "87f5e5b1-6712-49fd-a95a-9d137ef18194"
      },
      "source": [
        "evaluate_model(model1, history1, evaluation_generator,1)"
      ],
      "id": "GIWJsApM2nSV",
      "execution_count": null,
      "outputs": [
        {
          "name": "stdout",
          "output_type": "stream",
          "text": [
            "917/917 [==============================] - 20s 21ms/step - loss: 0.7183 - accuracy: 0.8201\n",
            "evaluate accuracy: 82.01%\n",
            "917/917 [==============================] - 16s 18ms/step\n"
          ]
        }
      ]
    },
    {
      "cell_type": "markdown",
      "metadata": {
        "id": "97a7918e-9395-4aeb-ba3b-da12674d4bfa"
      },
      "source": [
        "# Second Model - Last Layer Trainable\n",
        "Unfreeze Last Layer (Batch5)"
      ],
      "id": "97a7918e-9395-4aeb-ba3b-da12674d4bfa"
    },
    {
      "cell_type": "code",
      "metadata": {
        "colab": {
          "base_uri": "https://localhost:8080/"
        },
        "id": "872b390a-a347-446d-a80b-477ed3ed2193",
        "outputId": "191bcdaa-3435-44c8-e391-4f502d5ba555"
      },
      "source": [
        "%%time\n",
        "model2 = model_custom(frozenLayers = 4,unfreeze_all = False,\n",
        "                      lr = 0.0001, dropoutRatio = 0.2, l2Regularizer = 0.01)\n",
        "\n",
        "# Basically tune the weights of the newly added fully connected layers along with the last layer\n",
        "history2 = model2.fit(\n",
        "    train_generator,\n",
        "    steps_per_epoch=nb_train_samples // batch_size,\n",
        "    epochs=100,\n",
        "    validation_data=validation_generator,\n",
        "    validation_steps=nb_validation_samples // batch_size)"
      ],
      "id": "872b390a-a347-446d-a80b-477ed3ed2193",
      "execution_count": null,
      "outputs": [
        {
          "name": "stdout",
          "output_type": "stream",
          "text": [
            "[['input_4', False], ['block1_conv1', False], ['block1_conv2', False], ['block1_pool', False], ['block2_conv1', False], ['block2_conv2', False], ['block2_pool', False], ['block3_conv1', False], ['block3_conv2', False], ['block3_conv3', False], ['block3_pool', False], ['block4_conv1', False], ['block4_conv2', False], ['block4_conv3', False], ['block4_pool', False], ['block5_conv1', True], ['block5_conv2', True], ['block5_conv3', True], ['block5_pool', True]]\n",
            "Model: \"sequential_3\"\n",
            "_________________________________________________________________\n",
            "Layer (type)                 Output Shape              Param #   \n",
            "=================================================================\n",
            "vgg16 (Functional)           (None, 4, 4, 512)         14714688  \n",
            "_________________________________________________________________\n",
            "flatten (Flatten)            (None, 8192)              0         \n",
            "_________________________________________________________________\n",
            "new_fc1 (Dense)              (None, 256)               2097408   \n",
            "_________________________________________________________________\n",
            "dropout_3 (Dropout)          (None, 256)               0         \n",
            "_________________________________________________________________\n",
            "new_predictions (Dense)      (None, 5)                 1285      \n",
            "=================================================================\n",
            "Total params: 16,813,381\n",
            "Trainable params: 9,178,117\n",
            "Non-trainable params: 7,635,264\n",
            "_________________________________________________________________\n",
            "None\n",
            "Epoch 1/100\n",
            "42/42 [==============================] - 13s 275ms/step - loss: 5.7594 - accuracy: 0.5230 - val_loss: 4.6631 - val_accuracy: 0.7967\n",
            "Epoch 2/100\n",
            "42/42 [==============================] - 11s 266ms/step - loss: 4.3057 - accuracy: 0.7550 - val_loss: 3.6960 - val_accuracy: 0.8333\n",
            "Epoch 3/100\n",
            "42/42 [==============================] - 11s 267ms/step - loss: 3.5294 - accuracy: 0.7917 - val_loss: 3.1484 - val_accuracy: 0.8533\n",
            "Epoch 4/100\n",
            "42/42 [==============================] - 11s 266ms/step - loss: 2.9859 - accuracy: 0.8127 - val_loss: 2.6949 - val_accuracy: 0.8233\n",
            "Epoch 5/100\n",
            "42/42 [==============================] - 11s 266ms/step - loss: 2.5344 - accuracy: 0.8380 - val_loss: 2.3731 - val_accuracy: 0.8367\n",
            "Epoch 6/100\n",
            "42/42 [==============================] - 11s 264ms/step - loss: 2.2068 - accuracy: 0.8555 - val_loss: 2.1287 - val_accuracy: 0.8433\n",
            "Epoch 7/100\n",
            "42/42 [==============================] - 11s 262ms/step - loss: 1.9542 - accuracy: 0.8563 - val_loss: 1.8164 - val_accuracy: 0.8933\n",
            "Epoch 8/100\n",
            "42/42 [==============================] - 11s 263ms/step - loss: 1.7077 - accuracy: 0.8779 - val_loss: 1.6608 - val_accuracy: 0.8800\n",
            "Epoch 9/100\n",
            "42/42 [==============================] - 11s 263ms/step - loss: 1.5644 - accuracy: 0.8819 - val_loss: 1.5241 - val_accuracy: 0.8767\n",
            "Epoch 10/100\n",
            "42/42 [==============================] - 11s 264ms/step - loss: 1.3861 - accuracy: 0.9034 - val_loss: 1.3997 - val_accuracy: 0.8667\n",
            "Epoch 11/100\n",
            "42/42 [==============================] - 11s 267ms/step - loss: 1.2861 - accuracy: 0.8976 - val_loss: 1.2112 - val_accuracy: 0.9167\n",
            "Epoch 12/100\n",
            "42/42 [==============================] - 11s 267ms/step - loss: 1.1994 - accuracy: 0.8960 - val_loss: 1.1988 - val_accuracy: 0.8900\n",
            "Epoch 13/100\n",
            "42/42 [==============================] - 11s 266ms/step - loss: 1.0956 - accuracy: 0.9074 - val_loss: 1.1530 - val_accuracy: 0.8667\n",
            "Epoch 14/100\n",
            "42/42 [==============================] - 11s 267ms/step - loss: 0.9794 - accuracy: 0.9341 - val_loss: 1.0739 - val_accuracy: 0.8733\n",
            "Epoch 15/100\n",
            "42/42 [==============================] - 11s 267ms/step - loss: 0.9107 - accuracy: 0.9349 - val_loss: 1.0670 - val_accuracy: 0.8633\n",
            "Epoch 16/100\n",
            "42/42 [==============================] - 11s 267ms/step - loss: 0.8635 - accuracy: 0.9338 - val_loss: 0.9368 - val_accuracy: 0.9167\n",
            "Epoch 17/100\n",
            "42/42 [==============================] - 11s 266ms/step - loss: 0.8206 - accuracy: 0.9322 - val_loss: 0.9147 - val_accuracy: 0.8900\n",
            "Epoch 18/100\n",
            "42/42 [==============================] - 11s 268ms/step - loss: 0.7533 - accuracy: 0.9413 - val_loss: 0.8506 - val_accuracy: 0.8833\n",
            "Epoch 19/100\n",
            "42/42 [==============================] - 11s 267ms/step - loss: 0.7126 - accuracy: 0.9425 - val_loss: 0.8739 - val_accuracy: 0.8900\n",
            "Epoch 20/100\n",
            "42/42 [==============================] - 11s 266ms/step - loss: 0.6798 - accuracy: 0.9421 - val_loss: 0.7799 - val_accuracy: 0.9267\n",
            "Epoch 21/100\n",
            "42/42 [==============================] - 11s 267ms/step - loss: 0.6317 - accuracy: 0.9505 - val_loss: 0.7488 - val_accuracy: 0.8867\n",
            "Epoch 22/100\n",
            "42/42 [==============================] - 11s 267ms/step - loss: 0.5816 - accuracy: 0.9513 - val_loss: 0.7648 - val_accuracy: 0.9033\n",
            "Epoch 23/100\n",
            "42/42 [==============================] - 11s 266ms/step - loss: 0.5965 - accuracy: 0.9437 - val_loss: 0.8166 - val_accuracy: 0.8833\n",
            "Epoch 24/100\n",
            "42/42 [==============================] - 11s 266ms/step - loss: 0.5688 - accuracy: 0.9409 - val_loss: 0.6565 - val_accuracy: 0.9033\n",
            "Epoch 25/100\n",
            "42/42 [==============================] - 11s 267ms/step - loss: 0.4823 - accuracy: 0.9675 - val_loss: 0.6376 - val_accuracy: 0.9233\n",
            "Epoch 26/100\n",
            "42/42 [==============================] - 11s 269ms/step - loss: 0.4716 - accuracy: 0.9635 - val_loss: 0.6834 - val_accuracy: 0.8967\n",
            "Epoch 27/100\n",
            "42/42 [==============================] - 11s 266ms/step - loss: 0.4302 - accuracy: 0.9681 - val_loss: 0.6593 - val_accuracy: 0.9133\n",
            "Epoch 28/100\n",
            "42/42 [==============================] - 11s 266ms/step - loss: 0.4195 - accuracy: 0.9681 - val_loss: 0.5639 - val_accuracy: 0.9233\n",
            "Epoch 29/100\n",
            "42/42 [==============================] - 11s 267ms/step - loss: 0.4089 - accuracy: 0.9635 - val_loss: 0.6441 - val_accuracy: 0.9000\n",
            "Epoch 30/100\n",
            "42/42 [==============================] - 11s 267ms/step - loss: 0.4039 - accuracy: 0.9579 - val_loss: 0.6042 - val_accuracy: 0.9000\n",
            "Epoch 31/100\n",
            "42/42 [==============================] - 11s 266ms/step - loss: 0.3338 - accuracy: 0.9792 - val_loss: 0.7263 - val_accuracy: 0.8900\n",
            "Epoch 32/100\n",
            "42/42 [==============================] - 11s 268ms/step - loss: 0.3592 - accuracy: 0.9593 - val_loss: 0.6574 - val_accuracy: 0.8700\n",
            "Epoch 33/100\n",
            "42/42 [==============================] - 11s 267ms/step - loss: 0.3275 - accuracy: 0.9746 - val_loss: 0.6590 - val_accuracy: 0.9000\n",
            "Epoch 34/100\n",
            "42/42 [==============================] - 11s 266ms/step - loss: 0.3306 - accuracy: 0.9665 - val_loss: 0.4643 - val_accuracy: 0.9033\n",
            "Epoch 35/100\n",
            "42/42 [==============================] - 11s 267ms/step - loss: 0.2834 - accuracy: 0.9786 - val_loss: 0.6336 - val_accuracy: 0.8700\n",
            "Epoch 36/100\n",
            "42/42 [==============================] - 11s 268ms/step - loss: 0.3344 - accuracy: 0.9635 - val_loss: 0.4541 - val_accuracy: 0.9033\n",
            "Epoch 37/100\n",
            "42/42 [==============================] - 11s 266ms/step - loss: 0.2756 - accuracy: 0.9754 - val_loss: 0.4815 - val_accuracy: 0.9100\n",
            "Epoch 38/100\n",
            "42/42 [==============================] - 11s 263ms/step - loss: 0.2531 - accuracy: 0.9786 - val_loss: 0.5722 - val_accuracy: 0.8833\n",
            "Epoch 39/100\n",
            "42/42 [==============================] - 11s 262ms/step - loss: 0.2586 - accuracy: 0.9777 - val_loss: 0.4463 - val_accuracy: 0.9200\n",
            "Epoch 40/100\n",
            "42/42 [==============================] - 11s 264ms/step - loss: 0.2421 - accuracy: 0.9778 - val_loss: 0.5104 - val_accuracy: 0.9067\n",
            "Epoch 41/100\n",
            "42/42 [==============================] - 12s 276ms/step - loss: 0.2083 - accuracy: 0.9840 - val_loss: 0.4144 - val_accuracy: 0.9233\n",
            "Epoch 42/100\n",
            "42/42 [==============================] - 11s 268ms/step - loss: 0.1953 - accuracy: 0.9810 - val_loss: 0.4817 - val_accuracy: 0.9100\n",
            "Epoch 43/100\n",
            "42/42 [==============================] - 11s 261ms/step - loss: 0.2061 - accuracy: 0.9825 - val_loss: 0.4712 - val_accuracy: 0.9100\n",
            "Epoch 44/100\n",
            "42/42 [==============================] - 11s 265ms/step - loss: 0.1930 - accuracy: 0.9802 - val_loss: 0.4372 - val_accuracy: 0.9200\n",
            "Epoch 45/100\n",
            "42/42 [==============================] - 11s 265ms/step - loss: 0.2043 - accuracy: 0.9754 - val_loss: 0.4889 - val_accuracy: 0.8900\n",
            "Epoch 46/100\n",
            "42/42 [==============================] - 11s 267ms/step - loss: 0.2152 - accuracy: 0.9721 - val_loss: 0.6147 - val_accuracy: 0.8933\n",
            "Epoch 47/100\n",
            "42/42 [==============================] - 11s 270ms/step - loss: 0.2444 - accuracy: 0.9595 - val_loss: 0.4575 - val_accuracy: 0.8867\n",
            "Epoch 48/100\n",
            "42/42 [==============================] - 11s 270ms/step - loss: 0.1886 - accuracy: 0.9778 - val_loss: 0.3630 - val_accuracy: 0.9400\n",
            "Epoch 49/100\n",
            "42/42 [==============================] - 11s 270ms/step - loss: 0.1624 - accuracy: 0.9840 - val_loss: 0.4068 - val_accuracy: 0.9167\n",
            "Epoch 50/100\n",
            "42/42 [==============================] - 11s 267ms/step - loss: 0.2212 - accuracy: 0.9633 - val_loss: 0.4631 - val_accuracy: 0.8967\n",
            "Epoch 51/100\n",
            "42/42 [==============================] - 11s 270ms/step - loss: 0.1836 - accuracy: 0.9721 - val_loss: 0.3639 - val_accuracy: 0.9167\n",
            "Epoch 52/100\n",
            "42/42 [==============================] - 11s 270ms/step - loss: 0.1564 - accuracy: 0.9816 - val_loss: 0.4235 - val_accuracy: 0.9167\n",
            "Epoch 53/100\n",
            "42/42 [==============================] - 11s 270ms/step - loss: 0.1571 - accuracy: 0.9808 - val_loss: 0.4080 - val_accuracy: 0.9200\n",
            "Epoch 54/100\n",
            "42/42 [==============================] - 11s 270ms/step - loss: 0.1410 - accuracy: 0.9841 - val_loss: 0.4703 - val_accuracy: 0.8800\n",
            "Epoch 55/100\n",
            "42/42 [==============================] - 11s 271ms/step - loss: 0.1285 - accuracy: 0.9896 - val_loss: 0.3476 - val_accuracy: 0.9200\n",
            "Epoch 56/100\n",
            "42/42 [==============================] - 11s 270ms/step - loss: 0.1372 - accuracy: 0.9832 - val_loss: 0.4853 - val_accuracy: 0.8900\n",
            "Epoch 57/100\n",
            "42/42 [==============================] - 11s 271ms/step - loss: 0.1212 - accuracy: 0.9888 - val_loss: 0.4304 - val_accuracy: 0.9033\n",
            "Epoch 58/100\n",
            "42/42 [==============================] - 11s 270ms/step - loss: 0.1162 - accuracy: 0.9912 - val_loss: 0.5112 - val_accuracy: 0.8833\n",
            "Epoch 59/100\n",
            "42/42 [==============================] - 11s 272ms/step - loss: 0.1192 - accuracy: 0.9825 - val_loss: 0.5507 - val_accuracy: 0.8767\n",
            "Epoch 60/100\n",
            "42/42 [==============================] - 11s 272ms/step - loss: 0.1130 - accuracy: 0.9896 - val_loss: 0.4057 - val_accuracy: 0.8900\n",
            "Epoch 61/100\n",
            "42/42 [==============================] - 11s 271ms/step - loss: 0.1135 - accuracy: 0.9912 - val_loss: 0.6256 - val_accuracy: 0.8800\n",
            "Epoch 62/100\n",
            "42/42 [==============================] - 11s 271ms/step - loss: 0.1119 - accuracy: 0.9848 - val_loss: 0.5096 - val_accuracy: 0.9067\n",
            "Epoch 63/100\n",
            "42/42 [==============================] - 12s 273ms/step - loss: 0.1131 - accuracy: 0.9881 - val_loss: 0.4293 - val_accuracy: 0.9167\n",
            "Epoch 64/100\n",
            "42/42 [==============================] - 11s 271ms/step - loss: 0.1169 - accuracy: 0.9832 - val_loss: 0.5182 - val_accuracy: 0.8900\n",
            "Epoch 65/100\n",
            "42/42 [==============================] - 11s 270ms/step - loss: 0.1177 - accuracy: 0.9810 - val_loss: 0.4787 - val_accuracy: 0.8933\n",
            "Epoch 66/100\n",
            "42/42 [==============================] - 12s 273ms/step - loss: 0.0987 - accuracy: 0.9897 - val_loss: 0.6516 - val_accuracy: 0.9033\n",
            "Epoch 67/100\n",
            "42/42 [==============================] - 11s 271ms/step - loss: 0.0852 - accuracy: 0.9896 - val_loss: 0.6117 - val_accuracy: 0.8933\n",
            "Epoch 68/100\n",
            "42/42 [==============================] - 12s 273ms/step - loss: 0.0904 - accuracy: 0.9864 - val_loss: 0.3788 - val_accuracy: 0.9133\n",
            "Epoch 69/100\n",
            "42/42 [==============================] - 11s 271ms/step - loss: 0.0936 - accuracy: 0.9880 - val_loss: 0.6580 - val_accuracy: 0.8667\n",
            "Epoch 70/100\n",
            "42/42 [==============================] - 12s 273ms/step - loss: 0.1252 - accuracy: 0.9754 - val_loss: 0.3936 - val_accuracy: 0.9200\n",
            "Epoch 71/100\n",
            "42/42 [==============================] - 12s 272ms/step - loss: 0.1129 - accuracy: 0.9810 - val_loss: 0.3455 - val_accuracy: 0.9333\n",
            "Epoch 72/100\n",
            "42/42 [==============================] - 11s 271ms/step - loss: 0.1042 - accuracy: 0.9840 - val_loss: 0.3912 - val_accuracy: 0.9167\n",
            "Epoch 73/100\n",
            "42/42 [==============================] - 12s 273ms/step - loss: 0.0923 - accuracy: 0.9857 - val_loss: 0.5066 - val_accuracy: 0.8900\n",
            "Epoch 74/100\n",
            "42/42 [==============================] - 12s 273ms/step - loss: 0.0957 - accuracy: 0.9857 - val_loss: 0.4379 - val_accuracy: 0.9100\n",
            "Epoch 75/100\n",
            "42/42 [==============================] - 12s 273ms/step - loss: 0.0981 - accuracy: 0.9778 - val_loss: 0.2813 - val_accuracy: 0.9167\n",
            "Epoch 76/100\n",
            "42/42 [==============================] - 12s 272ms/step - loss: 0.0979 - accuracy: 0.9792 - val_loss: 0.3056 - val_accuracy: 0.9200\n",
            "Epoch 77/100\n",
            "42/42 [==============================] - 11s 272ms/step - loss: 0.0651 - accuracy: 0.9944 - val_loss: 0.3174 - val_accuracy: 0.9233\n",
            "Epoch 78/100\n",
            "42/42 [==============================] - 11s 270ms/step - loss: 0.0598 - accuracy: 0.9960 - val_loss: 0.4855 - val_accuracy: 0.9033\n",
            "Epoch 79/100\n",
            "42/42 [==============================] - 11s 271ms/step - loss: 0.0599 - accuracy: 0.9929 - val_loss: 0.6200 - val_accuracy: 0.8900\n",
            "Epoch 80/100\n",
            "42/42 [==============================] - 11s 270ms/step - loss: 0.0732 - accuracy: 0.9897 - val_loss: 0.4922 - val_accuracy: 0.9000\n",
            "Epoch 81/100\n",
            "42/42 [==============================] - 12s 273ms/step - loss: 0.0730 - accuracy: 0.9880 - val_loss: 0.7302 - val_accuracy: 0.8933\n",
            "Epoch 82/100\n",
            "42/42 [==============================] - 12s 273ms/step - loss: 0.0830 - accuracy: 0.9864 - val_loss: 0.4761 - val_accuracy: 0.8767\n",
            "Epoch 83/100\n",
            "42/42 [==============================] - 11s 272ms/step - loss: 0.0759 - accuracy: 0.9873 - val_loss: 0.5129 - val_accuracy: 0.9067\n",
            "Epoch 84/100\n",
            "42/42 [==============================] - 11s 272ms/step - loss: 0.0793 - accuracy: 0.9889 - val_loss: 0.3892 - val_accuracy: 0.9100\n",
            "Epoch 85/100\n",
            "42/42 [==============================] - 12s 271ms/step - loss: 0.0587 - accuracy: 0.9929 - val_loss: 0.6508 - val_accuracy: 0.8933\n",
            "Epoch 86/100\n",
            "42/42 [==============================] - 11s 270ms/step - loss: 0.0850 - accuracy: 0.9816 - val_loss: 0.4209 - val_accuracy: 0.9200\n",
            "Epoch 87/100\n",
            "42/42 [==============================] - 11s 272ms/step - loss: 0.1082 - accuracy: 0.9794 - val_loss: 0.3602 - val_accuracy: 0.9233\n",
            "Epoch 88/100\n",
            "42/42 [==============================] - 12s 274ms/step - loss: 0.0720 - accuracy: 0.9920 - val_loss: 0.4501 - val_accuracy: 0.9033\n",
            "Epoch 89/100\n",
            "42/42 [==============================] - 12s 274ms/step - loss: 0.0562 - accuracy: 0.9913 - val_loss: 0.3925 - val_accuracy: 0.9100\n",
            "Epoch 90/100\n",
            "42/42 [==============================] - 12s 274ms/step - loss: 0.0778 - accuracy: 0.9840 - val_loss: 0.5791 - val_accuracy: 0.8733\n",
            "Epoch 91/100\n",
            "42/42 [==============================] - 12s 272ms/step - loss: 0.0902 - accuracy: 0.9857 - val_loss: 0.3909 - val_accuracy: 0.9133\n",
            "Epoch 92/100\n",
            "42/42 [==============================] - 12s 273ms/step - loss: 0.0723 - accuracy: 0.9857 - val_loss: 0.4392 - val_accuracy: 0.9033\n",
            "Epoch 93/100\n",
            "42/42 [==============================] - 12s 273ms/step - loss: 0.0568 - accuracy: 0.9913 - val_loss: 0.5005 - val_accuracy: 0.8767\n",
            "Epoch 94/100\n",
            "42/42 [==============================] - 12s 274ms/step - loss: 0.0517 - accuracy: 0.9952 - val_loss: 0.4037 - val_accuracy: 0.9067\n",
            "Epoch 95/100\n",
            "42/42 [==============================] - 12s 272ms/step - loss: 0.0561 - accuracy: 0.9936 - val_loss: 0.4320 - val_accuracy: 0.9167\n",
            "Epoch 96/100\n",
            "42/42 [==============================] - 12s 274ms/step - loss: 0.0754 - accuracy: 0.9849 - val_loss: 0.4977 - val_accuracy: 0.8967\n",
            "Epoch 97/100\n",
            "42/42 [==============================] - 12s 273ms/step - loss: 0.0691 - accuracy: 0.9913 - val_loss: 0.4143 - val_accuracy: 0.9033\n",
            "Epoch 98/100\n",
            "42/42 [==============================] - 12s 273ms/step - loss: 0.0707 - accuracy: 0.9873 - val_loss: 0.3368 - val_accuracy: 0.9100\n",
            "Epoch 99/100\n",
            "42/42 [==============================] - 12s 273ms/step - loss: 0.0710 - accuracy: 0.9873 - val_loss: 0.3207 - val_accuracy: 0.8967\n",
            "Epoch 100/100\n",
            "42/42 [==============================] - 11s 272ms/step - loss: 0.0777 - accuracy: 0.9856 - val_loss: 0.3259 - val_accuracy: 0.9167\n",
            "CPU times: user 21min 16s, sys: 48.8 s, total: 22min 5s\n",
            "Wall time: 26min 17s\n"
          ]
        }
      ]
    },
    {
      "cell_type": "markdown",
      "metadata": {
        "id": "amDZGpJiJx7p"
      },
      "source": [
        "## Loss Evaluation"
      ],
      "id": "amDZGpJiJx7p"
    },
    {
      "cell_type": "code",
      "metadata": {
        "colab": {
          "base_uri": "https://localhost:8080/",
          "height": 544
        },
        "id": "isLqDD-wAuW5",
        "outputId": "46acbd9e-b4ad-4d10-f49b-439b46a38c21"
      },
      "source": [
        "plot_loss(history2)\n",
        "plot_accuracy(history2)"
      ],
      "id": "isLqDD-wAuW5",
      "execution_count": null,
      "outputs": [
        {
          "data": {
            "image/png": "[encoded data removed]",
            "text/plain": [
              "<Figure size 432x288 with 1 Axes>"
            ]
          },
          "metadata": {},
          "output_type": "display_data"
        },
        {
          "data": {
            "image/png": "[encoded data removed]",
            "text/plain": [
              "<Figure size 432x288 with 1 Axes>"
            ]
          },
          "metadata": {},
          "output_type": "display_data"
        }
      ]
    },
    {
      "cell_type": "markdown",
      "metadata": {
        "id": "6aff3db8-3462-4871-beee-1d478fb1a39c"
      },
      "source": [
        "## Evaluate Model"
      ],
      "id": "6aff3db8-3462-4871-beee-1d478fb1a39c"
    },
    {
      "cell_type": "code",
      "metadata": {
        "colab": {
          "base_uri": "https://localhost:8080/"
        },
        "id": "mMy-p4Yu57CG",
        "outputId": "8fce4c25-2ee7-4dd7-b893-4bf207aebe49"
      },
      "source": [
        "evaluate_model(model2, history2, evaluation_generator,2)"
      ],
      "id": "mMy-p4Yu57CG",
      "execution_count": null,
      "outputs": [
        {
          "name": "stdout",
          "output_type": "stream",
          "text": [
            "917/917 [==============================] - 20s 22ms/step - loss: 0.3612 - accuracy: 0.8997\n",
            "evaluate accuracy: 89.97%\n",
            "917/917 [==============================] - 16s 18ms/step\n"
          ]
        }
      ]
    },
    {
      "cell_type": "markdown",
      "metadata": {
        "id": "00319aef-9b07-452a-937d-454d543b788f"
      },
      "source": [
        "# Third Model - All Layers Trainable\n",
        "Unfreeze All Layers"
      ],
      "id": "00319aef-9b07-452a-937d-454d543b788f"
    },
    {
      "cell_type": "code",
      "metadata": {
        "colab": {
          "base_uri": "https://localhost:8080/"
        },
        "id": "8bdfe9b0-946a-4412-a907-0abd2f125b09",
        "outputId": "695a91d2-5267-451f-abf6-28e6e79c05d5"
      },
      "source": [
        "%%time\n",
        "model3 = model_custom(unfreeze_all = True,\n",
        "                      lr = 0.00005, dropoutRatio = 0.2, l2Regularizer = 0.01)\n",
        "\n",
        "# Basically tune the weights of the newly added fully connected layers\n",
        "history3 = model3.fit(\n",
        "    train_generator,\n",
        "    steps_per_epoch=nb_train_samples // batch_size,\n",
        "    epochs=100,\n",
        "    validation_data=validation_generator,\n",
        "    validation_steps=nb_validation_samples // batch_size,\n",
        "    verbose = True)"
      ],
      "id": "8bdfe9b0-946a-4412-a907-0abd2f125b09",
      "execution_count": 16,
      "outputs": [
        {
          "output_type": "stream",
          "name": "stdout",
          "text": [
            "[['input_2', True], ['block1_conv1', True], ['block1_conv2', True], ['block1_pool', True], ['block2_conv1', True], ['block2_conv2', True], ['block2_pool', True], ['block3_conv1', True], ['block3_conv2', True], ['block3_conv3', True], ['block3_pool', True], ['block4_conv1', True], ['block4_conv2', True], ['block4_conv3', True], ['block4_pool', True], ['block5_conv1', True], ['block5_conv2', True], ['block5_conv3', True], ['block5_pool', True]]\n",
            "Model: \"sequential_1\"\n",
            "_________________________________________________________________\n",
            "Layer (type)                 Output Shape              Param #   \n",
            "=================================================================\n",
            "vgg16 (Functional)           (None, 4, 4, 512)         14714688  \n",
            "_________________________________________________________________\n",
            "flatten (Flatten)            (None, 8192)              0         \n",
            "_________________________________________________________________\n",
            "new_fc1 (Dense)              (None, 256)               2097408   \n",
            "_________________________________________________________________\n",
            "dropout_1 (Dropout)          (None, 256)               0         \n",
            "_________________________________________________________________\n",
            "new_predictions (Dense)      (None, 5)                 1285      \n",
            "=================================================================\n",
            "Total params: 16,813,381\n",
            "Trainable params: 16,813,381\n",
            "Non-trainable params: 0\n",
            "_________________________________________________________________\n",
            "None\n",
            "Epoch 1/100\n",
            "42/42 [==============================] - 20s 436ms/step - loss: 6.0430 - accuracy: 0.5211 - val_loss: 5.2979 - val_accuracy: 0.6967\n",
            "Epoch 2/100\n",
            "42/42 [==============================] - 18s 432ms/step - loss: 4.9658 - accuracy: 0.7603 - val_loss: 4.6216 - val_accuracy: 0.8367\n",
            "Epoch 3/100\n",
            "42/42 [==============================] - 18s 433ms/step - loss: 4.4823 - accuracy: 0.7786 - val_loss: 4.1050 - val_accuracy: 0.8600\n",
            "Epoch 4/100\n",
            "42/42 [==============================] - 18s 433ms/step - loss: 4.0147 - accuracy: 0.8348 - val_loss: 3.8999 - val_accuracy: 0.8567\n",
            "Epoch 5/100\n",
            "42/42 [==============================] - 18s 433ms/step - loss: 3.6948 - accuracy: 0.8396 - val_loss: 3.4339 - val_accuracy: 0.8967\n",
            "Epoch 6/100\n",
            "42/42 [==============================] - 18s 434ms/step - loss: 3.3844 - accuracy: 0.8698 - val_loss: 3.2086 - val_accuracy: 0.8667\n",
            "Epoch 7/100\n",
            "42/42 [==============================] - 18s 434ms/step - loss: 3.1195 - accuracy: 0.8795 - val_loss: 3.0127 - val_accuracy: 0.8700\n",
            "Epoch 8/100\n",
            "42/42 [==============================] - 18s 434ms/step - loss: 2.8700 - accuracy: 0.8883 - val_loss: 2.9212 - val_accuracy: 0.8267\n",
            "Epoch 9/100\n",
            "42/42 [==============================] - 18s 436ms/step - loss: 2.7218 - accuracy: 0.8873 - val_loss: 2.6284 - val_accuracy: 0.8733\n",
            "Epoch 10/100\n",
            "42/42 [==============================] - 18s 435ms/step - loss: 2.5329 - accuracy: 0.8937 - val_loss: 2.4598 - val_accuracy: 0.8967\n",
            "Epoch 11/100\n",
            "42/42 [==============================] - 18s 435ms/step - loss: 2.3632 - accuracy: 0.8960 - val_loss: 2.4559 - val_accuracy: 0.8433\n",
            "Epoch 12/100\n",
            "42/42 [==============================] - 18s 435ms/step - loss: 2.2338 - accuracy: 0.9048 - val_loss: 2.3178 - val_accuracy: 0.8400\n",
            "Epoch 13/100\n",
            "42/42 [==============================] - 18s 435ms/step - loss: 2.1237 - accuracy: 0.8962 - val_loss: 2.1317 - val_accuracy: 0.8833\n",
            "Epoch 14/100\n",
            "42/42 [==============================] - 18s 434ms/step - loss: 1.9866 - accuracy: 0.9242 - val_loss: 2.0316 - val_accuracy: 0.8733\n",
            "Epoch 15/100\n",
            "42/42 [==============================] - 18s 435ms/step - loss: 1.8667 - accuracy: 0.9175 - val_loss: 1.9061 - val_accuracy: 0.9100\n",
            "Epoch 16/100\n",
            "42/42 [==============================] - 18s 436ms/step - loss: 1.8074 - accuracy: 0.9119 - val_loss: 1.9187 - val_accuracy: 0.8633\n",
            "Epoch 17/100\n",
            "42/42 [==============================] - 18s 434ms/step - loss: 1.6729 - accuracy: 0.9437 - val_loss: 1.6581 - val_accuracy: 0.9400\n",
            "Epoch 18/100\n",
            "42/42 [==============================] - 18s 435ms/step - loss: 1.5871 - accuracy: 0.9460 - val_loss: 1.6908 - val_accuracy: 0.8933\n",
            "Epoch 19/100\n",
            "42/42 [==============================] - 18s 435ms/step - loss: 1.5022 - accuracy: 0.9444 - val_loss: 1.6427 - val_accuracy: 0.8867\n",
            "Epoch 20/100\n",
            "42/42 [==============================] - 18s 434ms/step - loss: 1.4413 - accuracy: 0.9425 - val_loss: 1.6453 - val_accuracy: 0.8667\n",
            "Epoch 21/100\n",
            "42/42 [==============================] - 18s 436ms/step - loss: 1.4035 - accuracy: 0.9444 - val_loss: 1.4775 - val_accuracy: 0.9000\n",
            "Epoch 22/100\n",
            "42/42 [==============================] - 18s 435ms/step - loss: 1.3849 - accuracy: 0.9222 - val_loss: 1.4903 - val_accuracy: 0.8800\n",
            "Epoch 23/100\n",
            "42/42 [==============================] - 18s 435ms/step - loss: 1.2697 - accuracy: 0.9505 - val_loss: 1.4157 - val_accuracy: 0.8933\n",
            "Epoch 24/100\n",
            "42/42 [==============================] - 18s 435ms/step - loss: 1.2238 - accuracy: 0.9476 - val_loss: 1.2942 - val_accuracy: 0.9100\n",
            "Epoch 25/100\n",
            "42/42 [==============================] - 18s 434ms/step - loss: 1.1904 - accuracy: 0.9505 - val_loss: 1.4887 - val_accuracy: 0.8433\n",
            "Epoch 26/100\n",
            "42/42 [==============================] - 18s 433ms/step - loss: 1.1447 - accuracy: 0.9473 - val_loss: 1.1902 - val_accuracy: 0.9333\n",
            "Epoch 27/100\n",
            "42/42 [==============================] - 18s 434ms/step - loss: 1.0734 - accuracy: 0.9579 - val_loss: 1.2897 - val_accuracy: 0.9000\n",
            "Epoch 28/100\n",
            "42/42 [==============================] - 18s 433ms/step - loss: 1.0581 - accuracy: 0.9481 - val_loss: 1.1883 - val_accuracy: 0.8933\n",
            "Epoch 29/100\n",
            "42/42 [==============================] - 18s 435ms/step - loss: 0.9779 - accuracy: 0.9698 - val_loss: 1.2240 - val_accuracy: 0.8933\n",
            "Epoch 30/100\n",
            "42/42 [==============================] - 18s 435ms/step - loss: 0.9730 - accuracy: 0.9635 - val_loss: 1.2738 - val_accuracy: 0.8733\n",
            "Epoch 31/100\n",
            "42/42 [==============================] - 18s 434ms/step - loss: 0.9560 - accuracy: 0.9476 - val_loss: 1.0481 - val_accuracy: 0.9200\n",
            "Epoch 32/100\n",
            "42/42 [==============================] - 18s 435ms/step - loss: 0.8835 - accuracy: 0.9659 - val_loss: 1.1142 - val_accuracy: 0.9033\n",
            "Epoch 33/100\n",
            "42/42 [==============================] - 18s 433ms/step - loss: 0.8490 - accuracy: 0.9657 - val_loss: 0.9949 - val_accuracy: 0.9267\n",
            "Epoch 34/100\n",
            "42/42 [==============================] - 18s 435ms/step - loss: 0.8153 - accuracy: 0.9690 - val_loss: 1.0582 - val_accuracy: 0.8933\n",
            "Epoch 35/100\n",
            "42/42 [==============================] - 18s 433ms/step - loss: 0.8135 - accuracy: 0.9577 - val_loss: 0.9838 - val_accuracy: 0.9300\n",
            "Epoch 36/100\n",
            "42/42 [==============================] - 18s 433ms/step - loss: 0.8173 - accuracy: 0.9545 - val_loss: 1.0281 - val_accuracy: 0.9067\n",
            "Epoch 37/100\n",
            "42/42 [==============================] - 18s 435ms/step - loss: 0.7445 - accuracy: 0.9729 - val_loss: 0.9281 - val_accuracy: 0.9033\n",
            "Epoch 38/100\n",
            "42/42 [==============================] - 18s 434ms/step - loss: 0.6881 - accuracy: 0.9792 - val_loss: 1.0205 - val_accuracy: 0.9033\n",
            "Epoch 39/100\n",
            "42/42 [==============================] - 18s 435ms/step - loss: 0.6766 - accuracy: 0.9786 - val_loss: 0.8601 - val_accuracy: 0.9300\n",
            "Epoch 40/100\n",
            "42/42 [==============================] - 18s 435ms/step - loss: 0.6989 - accuracy: 0.9690 - val_loss: 0.8592 - val_accuracy: 0.9133\n",
            "Epoch 41/100\n",
            "42/42 [==============================] - 18s 434ms/step - loss: 0.6263 - accuracy: 0.9824 - val_loss: 0.7029 - val_accuracy: 0.9467\n",
            "Epoch 42/100\n",
            "42/42 [==============================] - 18s 435ms/step - loss: 0.6014 - accuracy: 0.9802 - val_loss: 0.9105 - val_accuracy: 0.9100\n",
            "Epoch 43/100\n",
            "42/42 [==============================] - 18s 435ms/step - loss: 0.6474 - accuracy: 0.9579 - val_loss: 0.8321 - val_accuracy: 0.9067\n",
            "Epoch 44/100\n",
            "42/42 [==============================] - 18s 434ms/step - loss: 0.5805 - accuracy: 0.9769 - val_loss: 0.8080 - val_accuracy: 0.9233\n",
            "Epoch 45/100\n",
            "42/42 [==============================] - 18s 435ms/step - loss: 0.5889 - accuracy: 0.9690 - val_loss: 0.8045 - val_accuracy: 0.8933\n",
            "Epoch 46/100\n",
            "42/42 [==============================] - 18s 435ms/step - loss: 0.5450 - accuracy: 0.9705 - val_loss: 0.7217 - val_accuracy: 0.9333\n",
            "Epoch 47/100\n",
            "42/42 [==============================] - 18s 434ms/step - loss: 0.5098 - accuracy: 0.9832 - val_loss: 0.8241 - val_accuracy: 0.8933\n",
            "Epoch 48/100\n",
            "42/42 [==============================] - 18s 434ms/step - loss: 0.5062 - accuracy: 0.9785 - val_loss: 0.8607 - val_accuracy: 0.9100\n",
            "Epoch 49/100\n",
            "42/42 [==============================] - 18s 434ms/step - loss: 0.5881 - accuracy: 0.9553 - val_loss: 0.6713 - val_accuracy: 0.9067\n",
            "Epoch 50/100\n",
            "42/42 [==============================] - 18s 435ms/step - loss: 0.5028 - accuracy: 0.9698 - val_loss: 0.6947 - val_accuracy: 0.9133\n",
            "Epoch 51/100\n",
            "42/42 [==============================] - 18s 435ms/step - loss: 0.4439 - accuracy: 0.9873 - val_loss: 0.6236 - val_accuracy: 0.9433\n",
            "Epoch 52/100\n",
            "42/42 [==============================] - 18s 435ms/step - loss: 0.4268 - accuracy: 0.9889 - val_loss: 0.8751 - val_accuracy: 0.8900\n",
            "Epoch 53/100\n",
            "42/42 [==============================] - 18s 434ms/step - loss: 0.4258 - accuracy: 0.9848 - val_loss: 0.7217 - val_accuracy: 0.9000\n",
            "Epoch 54/100\n",
            "42/42 [==============================] - 18s 435ms/step - loss: 0.4349 - accuracy: 0.9746 - val_loss: 0.7177 - val_accuracy: 0.9133\n",
            "Epoch 55/100\n",
            "42/42 [==============================] - 18s 435ms/step - loss: 0.4003 - accuracy: 0.9817 - val_loss: 0.8097 - val_accuracy: 0.8867\n",
            "Epoch 56/100\n",
            "42/42 [==============================] - 18s 434ms/step - loss: 0.4281 - accuracy: 0.9643 - val_loss: 0.5115 - val_accuracy: 0.9267\n",
            "Epoch 57/100\n",
            "42/42 [==============================] - 18s 433ms/step - loss: 0.3743 - accuracy: 0.9808 - val_loss: 0.5658 - val_accuracy: 0.9267\n",
            "Epoch 58/100\n",
            "42/42 [==============================] - 18s 434ms/step - loss: 0.4040 - accuracy: 0.9690 - val_loss: 0.6981 - val_accuracy: 0.9100\n",
            "Epoch 59/100\n",
            "42/42 [==============================] - 18s 434ms/step - loss: 0.3922 - accuracy: 0.9706 - val_loss: 0.5756 - val_accuracy: 0.9200\n",
            "Epoch 60/100\n",
            "42/42 [==============================] - 18s 435ms/step - loss: 0.3398 - accuracy: 0.9849 - val_loss: 0.5335 - val_accuracy: 0.9400\n",
            "Epoch 61/100\n",
            "42/42 [==============================] - 18s 434ms/step - loss: 0.3331 - accuracy: 0.9794 - val_loss: 0.5848 - val_accuracy: 0.9100\n",
            "Epoch 62/100\n",
            "42/42 [==============================] - 18s 434ms/step - loss: 0.3314 - accuracy: 0.9825 - val_loss: 0.4815 - val_accuracy: 0.9233\n",
            "Epoch 63/100\n",
            "42/42 [==============================] - 18s 434ms/step - loss: 0.2950 - accuracy: 0.9896 - val_loss: 0.5146 - val_accuracy: 0.9333\n",
            "Epoch 64/100\n",
            "42/42 [==============================] - 18s 435ms/step - loss: 0.2844 - accuracy: 0.9881 - val_loss: 0.7178 - val_accuracy: 0.9033\n",
            "Epoch 65/100\n",
            "42/42 [==============================] - 18s 434ms/step - loss: 0.2853 - accuracy: 0.9888 - val_loss: 0.4785 - val_accuracy: 0.9167\n",
            "Epoch 66/100\n",
            "42/42 [==============================] - 18s 433ms/step - loss: 0.2844 - accuracy: 0.9824 - val_loss: 0.5644 - val_accuracy: 0.9167\n",
            "Epoch 67/100\n",
            "42/42 [==============================] - 18s 434ms/step - loss: 0.3284 - accuracy: 0.9673 - val_loss: 0.5338 - val_accuracy: 0.8967\n",
            "Epoch 68/100\n",
            "42/42 [==============================] - 18s 435ms/step - loss: 0.2758 - accuracy: 0.9848 - val_loss: 0.5866 - val_accuracy: 0.9033\n",
            "Epoch 69/100\n",
            "42/42 [==============================] - 18s 434ms/step - loss: 0.2922 - accuracy: 0.9729 - val_loss: 0.4570 - val_accuracy: 0.9300\n",
            "Epoch 70/100\n",
            "42/42 [==============================] - 18s 434ms/step - loss: 0.2515 - accuracy: 0.9857 - val_loss: 0.4737 - val_accuracy: 0.9133\n",
            "Epoch 71/100\n",
            "42/42 [==============================] - 18s 432ms/step - loss: 0.2294 - accuracy: 0.9920 - val_loss: 0.6448 - val_accuracy: 0.9100\n",
            "Epoch 72/100\n",
            "42/42 [==============================] - 18s 433ms/step - loss: 0.2114 - accuracy: 0.9960 - val_loss: 0.5167 - val_accuracy: 0.9233\n",
            "Epoch 73/100\n",
            "42/42 [==============================] - 18s 435ms/step - loss: 0.2207 - accuracy: 0.9881 - val_loss: 0.6493 - val_accuracy: 0.8967\n",
            "Epoch 74/100\n",
            "42/42 [==============================] - 18s 434ms/step - loss: 0.2178 - accuracy: 0.9921 - val_loss: 0.6244 - val_accuracy: 0.9200\n",
            "Epoch 75/100\n",
            "42/42 [==============================] - 18s 434ms/step - loss: 0.2418 - accuracy: 0.9802 - val_loss: 0.5526 - val_accuracy: 0.8833\n",
            "Epoch 76/100\n",
            "42/42 [==============================] - 18s 434ms/step - loss: 0.1867 - accuracy: 0.9952 - val_loss: 0.4984 - val_accuracy: 0.9067\n",
            "Epoch 77/100\n",
            "42/42 [==============================] - 18s 433ms/step - loss: 0.2073 - accuracy: 0.9848 - val_loss: 0.5442 - val_accuracy: 0.9033\n",
            "Epoch 78/100\n",
            "42/42 [==============================] - 18s 434ms/step - loss: 0.2068 - accuracy: 0.9817 - val_loss: 0.4819 - val_accuracy: 0.9200\n",
            "Epoch 79/100\n",
            "42/42 [==============================] - 18s 432ms/step - loss: 0.1970 - accuracy: 0.9888 - val_loss: 0.4786 - val_accuracy: 0.9167\n",
            "Epoch 80/100\n",
            "42/42 [==============================] - 18s 433ms/step - loss: 0.1730 - accuracy: 0.9920 - val_loss: 0.4732 - val_accuracy: 0.9000\n",
            "Epoch 81/100\n",
            "42/42 [==============================] - 18s 434ms/step - loss: 0.1891 - accuracy: 0.9857 - val_loss: 0.6425 - val_accuracy: 0.9033\n",
            "Epoch 82/100\n",
            "42/42 [==============================] - 18s 434ms/step - loss: 0.1993 - accuracy: 0.9817 - val_loss: 0.6541 - val_accuracy: 0.8767\n",
            "Epoch 83/100\n",
            "42/42 [==============================] - 18s 434ms/step - loss: 0.1837 - accuracy: 0.9873 - val_loss: 0.5126 - val_accuracy: 0.9000\n",
            "Epoch 84/100\n",
            "42/42 [==============================] - 18s 434ms/step - loss: 0.1893 - accuracy: 0.9817 - val_loss: 0.4982 - val_accuracy: 0.9000\n",
            "Epoch 85/100\n",
            "42/42 [==============================] - 18s 435ms/step - loss: 0.1550 - accuracy: 0.9897 - val_loss: 0.4076 - val_accuracy: 0.9300\n",
            "Epoch 86/100\n",
            "42/42 [==============================] - 18s 434ms/step - loss: 0.1495 - accuracy: 0.9904 - val_loss: 0.5620 - val_accuracy: 0.9033\n",
            "Epoch 87/100\n",
            "42/42 [==============================] - 18s 433ms/step - loss: 0.1940 - accuracy: 0.9706 - val_loss: 0.4179 - val_accuracy: 0.9000\n",
            "Epoch 88/100\n",
            "42/42 [==============================] - 18s 432ms/step - loss: 0.1752 - accuracy: 0.9832 - val_loss: 0.5502 - val_accuracy: 0.9000\n",
            "Epoch 89/100\n",
            "42/42 [==============================] - 18s 432ms/step - loss: 0.1908 - accuracy: 0.9745 - val_loss: 0.4310 - val_accuracy: 0.9000\n",
            "Epoch 90/100\n",
            "42/42 [==============================] - 18s 433ms/step - loss: 0.1937 - accuracy: 0.9714 - val_loss: 0.4342 - val_accuracy: 0.9167\n",
            "Epoch 91/100\n",
            "42/42 [==============================] - 18s 434ms/step - loss: 0.1488 - accuracy: 0.9857 - val_loss: 0.3507 - val_accuracy: 0.9200\n",
            "Epoch 92/100\n",
            "42/42 [==============================] - 18s 434ms/step - loss: 0.1318 - accuracy: 0.9913 - val_loss: 0.3583 - val_accuracy: 0.9233\n",
            "Epoch 93/100\n",
            "42/42 [==============================] - 18s 435ms/step - loss: 0.1221 - accuracy: 0.9921 - val_loss: 0.4208 - val_accuracy: 0.9233\n",
            "Epoch 94/100\n",
            "42/42 [==============================] - 18s 434ms/step - loss: 0.1331 - accuracy: 0.9889 - val_loss: 0.5365 - val_accuracy: 0.8900\n",
            "Epoch 95/100\n",
            "42/42 [==============================] - 18s 433ms/step - loss: 0.1320 - accuracy: 0.9889 - val_loss: 0.3496 - val_accuracy: 0.9200\n",
            "Epoch 96/100\n",
            "42/42 [==============================] - 18s 433ms/step - loss: 0.1143 - accuracy: 0.9929 - val_loss: 0.4342 - val_accuracy: 0.9033\n",
            "Epoch 97/100\n",
            "42/42 [==============================] - 18s 433ms/step - loss: 0.1123 - accuracy: 0.9913 - val_loss: 0.4648 - val_accuracy: 0.9167\n",
            "Epoch 98/100\n",
            "42/42 [==============================] - 18s 434ms/step - loss: 0.1127 - accuracy: 0.9913 - val_loss: 0.4722 - val_accuracy: 0.9167\n",
            "Epoch 99/100\n",
            "42/42 [==============================] - 18s 432ms/step - loss: 0.1573 - accuracy: 0.9769 - val_loss: 0.5137 - val_accuracy: 0.8800\n",
            "Epoch 100/100\n",
            "42/42 [==============================] - 18s 434ms/step - loss: 0.1539 - accuracy: 0.9770 - val_loss: 0.4325 - val_accuracy: 0.8833\n",
            "CPU times: user 39min 50s, sys: 1min 1s, total: 40min 52s\n",
            "Wall time: 32min 34s\n"
          ]
        }
      ]
    },
    {
      "cell_type": "markdown",
      "metadata": {
        "id": "UDFen9FRJ1Hz"
      },
      "source": [
        "## Loss Evaluation"
      ],
      "id": "UDFen9FRJ1Hz"
    },
    {
      "cell_type": "code",
      "metadata": {
        "colab": {
          "base_uri": "https://localhost:8080/",
          "height": 541
        },
        "id": "Z7awdqL2C2U8",
        "outputId": "9cb87731-2901-460f-9356-8ad78ebf46a8"
      },
      "source": [
        "plot_loss(history3)\n",
        "plot_accuracy(history3)"
      ],
      "id": "Z7awdqL2C2U8",
      "execution_count": 17,
      "outputs": [
        {
          "output_type": "display_data",
          "data": {
            "image/png": "[encoded data removed]",
            "text/plain": [
              "<Figure size 432x288 with 1 Axes>"
            ]
          },
          "metadata": {
            "needs_background": "light"
          }
        },
        {
          "output_type": "display_data",
          "data": {
            "image/png": "[encoded data removed]",
            "text/plain": [
              "<Figure size 432x288 with 1 Axes>"
            ]
          },
          "metadata": {
            "needs_background": "light"
          }
        }
      ]
    },
    {
      "cell_type": "markdown",
      "metadata": {
        "id": "492c4023-dd51-4dd5-ab8e-bd226950bec7"
      },
      "source": [
        "## Evaluate Model"
      ],
      "id": "492c4023-dd51-4dd5-ab8e-bd226950bec7"
    },
    {
      "cell_type": "code",
      "metadata": {
        "colab": {
          "base_uri": "https://localhost:8080/"
        },
        "id": "f010463c-ff49-4779-9746-bf32986f0305",
        "outputId": "7a51591c-428f-4aac-9de6-30b2db0ecb40"
      },
      "source": [
        "evaluate_model(model3, history3, evaluation_generator,3)"
      ],
      "id": "f010463c-ff49-4779-9746-bf32986f0305",
      "execution_count": 18,
      "outputs": [
        {
          "output_type": "stream",
          "name": "stdout",
          "text": [
            "917/917 [==============================] - 19s 21ms/step - loss: 0.4017 - accuracy: 0.9062\n",
            "evaluate accuracy: 90.62%\n",
            "917/917 [==============================] - 16s 18ms/step\n"
          ]
        }
      ]
    },
    {
      "cell_type": "markdown",
      "metadata": {
        "id": "lDi6zFzTNSi_"
      },
      "source": [
        "# Summary\n",
        "---\n",
        "\n",
        "| Item |   Model| Training  Accuracy, last 5 epochs  |Validation Accuracy, last 5 epochs | Evaluation Accuracy | Time for training | \n",
        "| :---: | :----:|:---: |:----:| :---:| :---:|\n",
        "| 1  | All Layers Frozen   | 85.82% | 83.2%  | 82.01% |  26 min  | \n",
        "| 2  | Last Layer Unfrozen | 98.81% | 90.47%  | 89.97% |   26 min  | \n",
        "| 3  | All Layers Unfrozen | 98.99% | 90.16%  | 90.62% | 32 min | \n",
        "\n",
        "---\n",
        "\n",
        "As seen from above, the best model accuracy is achieved when all the layers are trainable.\n",
        "This is primarily because the model weights for all the layers are fine tuned to the specific problem at hand.\n",
        "\n",
        "However, the accuracy of the second model is also similar to the third model. This is because as we go down deeper into the neural network, the model is able to identtify specific patterns. The upper layers of VGG16 model identify the patterns and shapes which are typically generic to image classification. Thus only training the weights of the last block of VGG16 model also achives similar accuracy to when all the layers are trained. One disadvantage of the third model is the training time. It took ~23% more time than training the second model. \n",
        "\n",
        "The first model had the worst performance as the VGG16 weights were not updated to the specific problem at hand. Thus the model was a generic image classification model which is not trained to the flower data and classification. "
      ],
      "id": "lDi6zFzTNSi_"
    },
    {
      "cell_type": "markdown",
      "metadata": {
        "id": "MYpbytWX3x9M"
      },
      "source": [
        "References:\n",
        "1. https://vijayabhaskar96.medium.com/tutorial-image-classification-with-keras-flow-from-directory-and-generators-95f75ebe5720"
      ],
      "id": "MYpbytWX3x9M"
    }
  ]
}