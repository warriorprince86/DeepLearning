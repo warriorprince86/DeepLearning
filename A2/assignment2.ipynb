{
  "nbformat": 4,
  "nbformat_minor": 5,
  "metadata": {
    "accelerator": "GPU",
    "colab": {
      "name": "assignment2.ipynb",
      "provenance": [],
      "collapsed_sections": []
    },
    "kernelspec": {
      "display_name": "Python 3 (ipykernel)",
      "language": "python",
      "name": "python3"
    },
    "language_info": {
      "codemirror_mode": {
        "name": "ipython",
        "version": 3
      },
      "file_extension": ".py",
      "mimetype": "text/x-python",
      "name": "python",
      "nbconvert_exporter": "python",
      "pygments_lexer": "ipython3",
      "version": "3.9.7"
    }
  },
  "cells": [
    {
      "cell_type": "markdown",
      "metadata": {
        "id": "0362858b-409d-47db-a403-c5e503468e68"
      },
      "source": [
        "# Develop and evaluate neural network models using Keras for a regression problem\n",
        "\n",
        "__Author - Sarthak Kaushik__\n",
        "\n",
        "__Date - October 22, 2021__\n"
      ],
      "id": "0362858b-409d-47db-a403-c5e503468e68"
    },
    {
      "cell_type": "code",
      "metadata": {
        "id": "7c3d8419-6975-43d0-85ab-3208960757d7"
      },
      "source": [
        "from PIL import Image\n",
        "import glob\n",
        "import os\n",
        "import shutil\n",
        "\n",
        "import random\n",
        "\n",
        "import pathlib\n",
        "import tensorflow as tf\n",
        "\n",
        "from keras import regularizers\n",
        "from keras.models import Sequential, Model\n",
        "from keras.layers import Dropout, Flatten, Dense, GlobalAveragePooling2D\n",
        "from keras.preprocessing.image import ImageDataGenerator\n",
        "\n",
        "import warnings\n",
        "warnings.simplefilter(\"ignore\")"
      ],
      "id": "7c3d8419-6975-43d0-85ab-3208960757d7",
      "execution_count": 1,
      "outputs": []
    },
    {
      "cell_type": "markdown",
      "metadata": {
        "id": "dbfeb1fe-59fa-43d6-b5c9-af397e85012b"
      },
      "source": [
        "# Image Resizing"
      ],
      "id": "dbfeb1fe-59fa-43d6-b5c9-af397e85012b"
    },
    {
      "cell_type": "code",
      "metadata": {
        "id": "e974c06d-adb7-4787-a11e-5973037f058c"
      },
      "source": [
        "def resize_image(img, path, i):\n",
        "    # Resize and save image\n",
        "    image = Image.open(img)\n",
        "    image = image.resize((150,150))\n",
        "    image.save(path+'/'+str(i)+'.jpg')\n",
        "    return\n",
        "        \n",
        "def create_directory(path):\n",
        "    # Create directory for resized images\n",
        "    if os.path.isdir(path) == True:\n",
        "        print (\"directory exists: \" + path)\n",
        "#         print ('deleting directory: ' + path)\n",
        "        shutil.rmtree(path)\n",
        "        os.mkdir(path)\n",
        "        print (\"directory created: \" + path)\n",
        "    else :\n",
        "        os.mkdir(path)\n",
        "        print (\"directory created: \" + path)\n",
        "    return\n",
        "\n",
        "def resize_images():\n",
        "    directories = glob.glob('flower_photos/*/')\n",
        "    path = os.path.join('resized')\n",
        "    # shutil.rmtree(path)\n",
        "    create_directory(path)\n",
        "\n",
        "    for directory in directories:\n",
        "        flower_type = str.split(directory,'/')[1]    \n",
        "       # path = os.path.join(path1,'resized',flower_type)\n",
        "        path2 = os.path.join('resized',flower_type)\n",
        "        create_directory(path2)\n",
        "        i = 0\n",
        "        images= glob.glob(directory+'/*.jpg')\n",
        "        for image in images:\n",
        "            resize_image(image, path2 , i)\n",
        "            i += 1\n",
        "    shutil.rmtree('flower_photos')\n",
        "    return"
      ],
      "id": "e974c06d-adb7-4787-a11e-5973037f058c",
      "execution_count": 2,
      "outputs": []
    },
    {
      "cell_type": "code",
      "metadata": {
        "colab": {
          "base_uri": "https://localhost:8080/"
        },
        "id": "0s8c8Xc1cQvk",
        "outputId": "fb4ebdc8-9937-424b-e093-4f12a70f98f4"
      },
      "source": [
        "%%time\n",
        "# Download Images\n",
        "!curl -O http://download.tensorflow.org/example_images/flower_photos.tgz\n",
        "!tar -xf flower_photos.tgz\n",
        "os.remove(\"flower_photos.tgz\") \n",
        "resize_images()"
      ],
      "id": "0s8c8Xc1cQvk",
      "execution_count": 3,
      "outputs": [
        {
          "output_type": "stream",
          "name": "stdout",
          "text": [
            "  % Total    % Received % Xferd  Average Speed   Time    Time     Time  Current\n",
            "                                 Dload  Upload   Total   Spent    Left  Speed\n",
            "100  218M  100  218M    0     0   249M      0 --:--:-- --:--:-- --:--:--  249M\n",
            "directory created: resized\n",
            "directory created: resized/daisy\n",
            "directory created: resized/roses\n",
            "directory created: resized/dandelion\n",
            "directory created: resized/tulips\n",
            "directory created: resized/sunflowers\n",
            "CPU times: user 18.4 s, sys: 677 ms, total: 19 s\n",
            "Wall time: 22.7 s\n"
          ]
        }
      ]
    },
    {
      "cell_type": "markdown",
      "metadata": {
        "id": "cea0fef6-6042-4296-a3eb-5809a09ce472"
      },
      "source": [
        "# Split Images Train-Test"
      ],
      "id": "cea0fef6-6042-4296-a3eb-5809a09ce472"
    },
    {
      "cell_type": "code",
      "metadata": {
        "id": "1f550d92-9930-4643-875f-2a68083b5b96"
      },
      "source": [
        "def move_file(original_folder, list_files ,  target_folder) :\n",
        "#     files = glob.glob(original_folder+'/*.jpg')\n",
        "#     print(original_folder)\n",
        "    for image in list_files:\n",
        "        # print(image)\n",
        "        # Get file name\n",
        "        image_name = image.split(\"/\")[2]\n",
        "\n",
        "        # Move File to Folder\n",
        "        shutil.move(image, target_folder+\"/\"+image_name)"
      ],
      "id": "1f550d92-9930-4643-875f-2a68083b5b96",
      "execution_count": 4,
      "outputs": []
    },
    {
      "cell_type": "code",
      "metadata": {
        "colab": {
          "base_uri": "https://localhost:8080/"
        },
        "id": "bf49ac3a-2d56-4194-be65-15e0d745b8f9",
        "outputId": "99618997-216f-4967-a942-ab6f12fd5899"
      },
      "source": [
        "directories = glob.glob('resized/*/')\n",
        "tr_ratio = 0.75\n",
        "\n",
        "# Create directories\n",
        "create_directory('train')\n",
        "create_directory('validation')\n",
        "\n",
        "for directory in directories :\n",
        "    # Split directory to get flower class\n",
        "    flower_class = directory.split(\"/\")[1]\n",
        "    flower_name = directory.split(\"/\")[2]\n",
        "\n",
        "    # Get number files in train and test\n",
        "    files = glob.glob(directory+'/*.jpg')\n",
        "    tr_idx = round (tr_ratio * len(files))\n",
        "    \n",
        "    # random shuffle images in files\n",
        "    random.shuffle(files)\n",
        "    \n",
        "    #split files into test and train\n",
        "    train = files[:tr_idx]\n",
        "    test = files[tr_idx:]\n",
        "\n",
        "    # Create directory for flower_class under train and test\n",
        "    train_folder = 'train/'+flower_class\n",
        "    create_directory(train_folder)\n",
        "    \n",
        "    validation_folder = 'validation/'+flower_class\n",
        "    create_directory(validation_folder)\n",
        "    \n",
        "    #move files to train and validation\n",
        "    move_file(directory, train , train_folder)\n",
        "    move_file(directory, test ,validation_folder)\n",
        "\n",
        "shutil.rmtree(\"resized/\")\n"
      ],
      "id": "bf49ac3a-2d56-4194-be65-15e0d745b8f9",
      "execution_count": 5,
      "outputs": [
        {
          "output_type": "stream",
          "name": "stdout",
          "text": [
            "directory created: train\n",
            "directory created: validation\n",
            "directory created: train/daisy\n",
            "directory created: validation/daisy\n",
            "directory created: train/roses\n",
            "directory created: validation/roses\n",
            "directory created: train/dandelion\n",
            "directory created: validation/dandelion\n",
            "directory created: train/tulips\n",
            "directory created: validation/tulips\n",
            "directory created: train/sunflowers\n",
            "directory created: validation/sunflowers\n"
          ]
        }
      ]
    },
    {
      "cell_type": "markdown",
      "metadata": {
        "id": "wOTg64aFy8Ei"
      },
      "source": [
        "# Train-Validation Configuration"
      ],
      "id": "wOTg64aFy8Ei"
    },
    {
      "cell_type": "code",
      "metadata": {
        "colab": {
          "base_uri": "https://localhost:8080/"
        },
        "id": "PGtcHegdy7Rc",
        "outputId": "bf5be9b5-be4a-494d-c0b6-00aa84961489"
      },
      "source": [
        "train_data_dir = 'train/'\n",
        "validation_data_dir = 'validation/'\n",
        "\n",
        "# set the following parameters as per your preference\n",
        "batch_size = 10\n",
        "nb_train_samples = 128\n",
        "nb_validation_samples = 128\n",
        "\n",
        "image_w, image_h = 150, 150\n",
        "\n",
        "# Data augmentation \n",
        "train_datagen = ImageDataGenerator(\n",
        "    rescale=1. / 255,\n",
        "    rotation_range = 40,\n",
        "    shear_range=0.2,\n",
        "    zoom_range=0.3,\n",
        "    horizontal_flip=True)\n",
        "\n",
        "train_generator = train_datagen.flow_from_directory(\n",
        "    train_data_dir,\n",
        "    target_size=(image_w, image_h),\n",
        "    batch_size=batch_size,\n",
        "    class_mode='binary')\n",
        "\n",
        "# rescaling\n",
        "validation_datagen = ImageDataGenerator(rescale=1. / 255)\n",
        "\n",
        "validation_generator = validation_datagen.flow_from_directory(\n",
        "    validation_data_dir,\n",
        "    target_size=(image_w, image_h),\n",
        "    batch_size=batch_size,\n",
        "    class_mode='binary')"
      ],
      "id": "PGtcHegdy7Rc",
      "execution_count": 6,
      "outputs": [
        {
          "output_type": "stream",
          "name": "stdout",
          "text": [
            "Found 2753 images belonging to 5 classes.\n",
            "Found 917 images belonging to 5 classes.\n"
          ]
        }
      ]
    },
    {
      "cell_type": "markdown",
      "metadata": {
        "id": "f18c1de8-61b6-4cb8-9b35-eabf935ee070"
      },
      "source": [
        "# Model VGG16 - Top Layer Removed"
      ],
      "id": "f18c1de8-61b6-4cb8-9b35-eabf935ee070"
    },
    {
      "cell_type": "code",
      "metadata": {
        "colab": {
          "base_uri": "https://localhost:8080/"
        },
        "id": "dc7aa8d3-3e6b-4e8a-b3a8-f3e96aa48d32",
        "outputId": "d8dc7be6-0d3a-4c41-9694-703158ca9a2b"
      },
      "source": [
        "# VGG16 pre-trained model without fully connected layers and with different input dimensions\n",
        "def model_vgg():\n",
        "    modelvgg = tf.keras.applications.VGG16(\n",
        "        weights = \"imagenet\", \n",
        "        include_top=False, \n",
        "        input_shape = (image_w, image_h, 3)\n",
        "    )\n",
        "    return modelvgg\n",
        "\n",
        "model_vgg().summary()"
      ],
      "id": "dc7aa8d3-3e6b-4e8a-b3a8-f3e96aa48d32",
      "execution_count": 10,
      "outputs": [
        {
          "output_type": "stream",
          "name": "stdout",
          "text": [
            "Downloading data from https://storage.googleapis.com/tensorflow/keras-applications/vgg16/vgg16_weights_tf_dim_ordering_tf_kernels_notop.h5\n",
            "58892288/58889256 [==============================] - 1s 0us/step\n",
            "58900480/58889256 [==============================] - 1s 0us/step\n",
            "Model: \"vgg16\"\n",
            "_________________________________________________________________\n",
            "Layer (type)                 Output Shape              Param #   \n",
            "=================================================================\n",
            "input_1 (InputLayer)         [(None, 150, 150, 3)]     0         \n",
            "_________________________________________________________________\n",
            "block1_conv1 (Conv2D)        (None, 150, 150, 64)      1792      \n",
            "_________________________________________________________________\n",
            "block1_conv2 (Conv2D)        (None, 150, 150, 64)      36928     \n",
            "_________________________________________________________________\n",
            "block1_pool (MaxPooling2D)   (None, 75, 75, 64)        0         \n",
            "_________________________________________________________________\n",
            "block2_conv1 (Conv2D)        (None, 75, 75, 128)       73856     \n",
            "_________________________________________________________________\n",
            "block2_conv2 (Conv2D)        (None, 75, 75, 128)       147584    \n",
            "_________________________________________________________________\n",
            "block2_pool (MaxPooling2D)   (None, 37, 37, 128)       0         \n",
            "_________________________________________________________________\n",
            "block3_conv1 (Conv2D)        (None, 37, 37, 256)       295168    \n",
            "_________________________________________________________________\n",
            "block3_conv2 (Conv2D)        (None, 37, 37, 256)       590080    \n",
            "_________________________________________________________________\n",
            "block3_conv3 (Conv2D)        (None, 37, 37, 256)       590080    \n",
            "_________________________________________________________________\n",
            "block3_pool (MaxPooling2D)   (None, 18, 18, 256)       0         \n",
            "_________________________________________________________________\n",
            "block4_conv1 (Conv2D)        (None, 18, 18, 512)       1180160   \n",
            "_________________________________________________________________\n",
            "block4_conv2 (Conv2D)        (None, 18, 18, 512)       2359808   \n",
            "_________________________________________________________________\n",
            "block4_conv3 (Conv2D)        (None, 18, 18, 512)       2359808   \n",
            "_________________________________________________________________\n",
            "block4_pool (MaxPooling2D)   (None, 9, 9, 512)         0         \n",
            "_________________________________________________________________\n",
            "block5_conv1 (Conv2D)        (None, 9, 9, 512)         2359808   \n",
            "_________________________________________________________________\n",
            "block5_conv2 (Conv2D)        (None, 9, 9, 512)         2359808   \n",
            "_________________________________________________________________\n",
            "block5_conv3 (Conv2D)        (None, 9, 9, 512)         2359808   \n",
            "_________________________________________________________________\n",
            "block5_pool (MaxPooling2D)   (None, 4, 4, 512)         0         \n",
            "=================================================================\n",
            "Total params: 14,714,688\n",
            "Trainable params: 14,714,688\n",
            "Non-trainable params: 0\n",
            "_________________________________________________________________\n"
          ]
        }
      ]
    },
    {
      "cell_type": "markdown",
      "metadata": {
        "id": "edf00252-c9b2-43c8-8532-ae747bce12ab"
      },
      "source": [
        "# Functions"
      ],
      "id": "edf00252-c9b2-43c8-8532-ae747bce12ab"
    },
    {
      "cell_type": "markdown",
      "metadata": {
        "id": "c8beab81-78a0-450a-9483-3b2bc2a5c2c2"
      },
      "source": [
        "## Freezing all layers"
      ],
      "id": "c8beab81-78a0-450a-9483-3b2bc2a5c2c2"
    },
    {
      "cell_type": "code",
      "metadata": {
        "id": "74d920c5-a92d-4222-9fd6-193d3615a89d"
      },
      "source": [
        "# Freezing all layers we don't want to train\n",
        "def unfreeze_layers(model, n=0, unfreeze_all = False):\n",
        "    ''' n : number of layers to freeze'''\n",
        "    for layer in model.layers:\n",
        "        layer.trainable = True\n",
        "    \n",
        "    # if unfreeze_all == 1 then skip this step\n",
        "    if unfreeze_all == False:\n",
        "\n",
        "        # Unfreeze layers as defined by n\n",
        "        for layer in model.layers[:len(model.layers)-n]:\n",
        "            layer.trainable = False\n",
        "    layers = [] \n",
        "    for i, layer in enumerate(model.layers): \n",
        "            layers.append([layer.name, layer.trainable])\n",
        "    print (layers)"
      ],
      "id": "74d920c5-a92d-4222-9fd6-193d3615a89d",
      "execution_count": 11,
      "outputs": []
    },
    {
      "cell_type": "markdown",
      "metadata": {
        "id": "cb59e57f-00a4-4e06-80f3-98197247d6e7"
      },
      "source": [
        "## Add Fully Connected End Layers"
      ],
      "id": "cb59e57f-00a4-4e06-80f3-98197247d6e7"
    },
    {
      "cell_type": "code",
      "metadata": {
        "id": "742d0991-05af-4b7f-a6e6-a53317950076"
      },
      "source": [
        "# Adding custom layers to create a new model \n",
        "# one with 256 nodes using ‘relu’ activation and output layer with 5 nodes and ‘softmax’ activation)\n",
        "# model\n",
        "def model_custom(model, lr =0.01):\n",
        "    \n",
        "    model1 = Sequential([\n",
        "        model,\n",
        "        Flatten(name='flatten'),\n",
        "        Dense(256, activation='relu', name='new_fc1', \n",
        "              kernel_initializer=\"HeNormal\", \n",
        "              kernel_regularizer = regularizers.l2(0.01)),\n",
        "        Dense(5, activation='softmax', \n",
        "              name='new_predictions')\n",
        "    ])\n",
        "\n",
        "    print (model1.summary())\n",
        "\n",
        "    optimizer = tf.keras.optimizers.Adam(learning_rate=lr,)\n",
        "\n",
        "    model1.compile(\n",
        "        loss = tf.keras.losses.SparseCategoricalCrossentropy(from_logits=True), \n",
        "        optimizer = optimizer, \n",
        "        metrics=[\"accuracy\"])\n",
        "\n",
        "    return model1"
      ],
      "id": "742d0991-05af-4b7f-a6e6-a53317950076",
      "execution_count": 12,
      "outputs": []
    },
    {
      "cell_type": "markdown",
      "metadata": {
        "id": "6b95614b-a9dd-4510-a9a2-11676ec66910"
      },
      "source": [
        "# First Model - No Layers Trainable"
      ],
      "id": "6b95614b-a9dd-4510-a9a2-11676ec66910"
    },
    {
      "cell_type": "code",
      "metadata": {
        "colab": {
          "base_uri": "https://localhost:8080/"
        },
        "id": "4c0335b8-b3b7-49cf-b665-db489ee3b4fa",
        "outputId": "7edfbd4a-76d5-4736-d3e0-f8f3b622a554"
      },
      "source": [
        "%%time\n",
        "modelvgg = model_vgg()\n",
        "unfreeze_layers(modelvgg, 0)\n",
        "model1 = model_custom(modelvgg, 0.001)\n",
        "\n",
        "# Basically tune the weights of the newly added fully connected layers\n",
        "history1 = model1.fit(\n",
        "    train_generator,\n",
        "    steps_per_epoch=nb_train_samples // batch_size,\n",
        "    epochs=30,\n",
        "    validation_data=validation_generator,\n",
        "    validation_steps=nb_validation_samples // batch_size)"
      ],
      "id": "4c0335b8-b3b7-49cf-b665-db489ee3b4fa",
      "execution_count": 13,
      "outputs": [
        {
          "output_type": "stream",
          "name": "stdout",
          "text": [
            "[['input_2', False], ['block1_conv1', False], ['block1_conv2', False], ['block1_pool', False], ['block2_conv1', False], ['block2_conv2', False], ['block2_pool', False], ['block3_conv1', False], ['block3_conv2', False], ['block3_conv3', False], ['block3_pool', False], ['block4_conv1', False], ['block4_conv2', False], ['block4_conv3', False], ['block4_pool', False], ['block5_conv1', False], ['block5_conv2', False], ['block5_conv3', False], ['block5_pool', False]]\n",
            "Model: \"sequential\"\n",
            "_________________________________________________________________\n",
            "Layer (type)                 Output Shape              Param #   \n",
            "=================================================================\n",
            "vgg16 (Functional)           (None, 4, 4, 512)         14714688  \n",
            "_________________________________________________________________\n",
            "flatten (Flatten)            (None, 8192)              0         \n",
            "_________________________________________________________________\n",
            "new_fc1 (Dense)              (None, 256)               2097408   \n",
            "_________________________________________________________________\n",
            "new_predictions (Dense)      (None, 5)                 1285      \n",
            "=================================================================\n",
            "Total params: 16,813,381\n",
            "Trainable params: 2,098,693\n",
            "Non-trainable params: 14,714,688\n",
            "_________________________________________________________________\n",
            "None\n",
            "Epoch 1/30\n",
            "12/12 [==============================] - 33s 198ms/step - loss: 5.7856 - accuracy: 0.4500 - val_loss: 4.8807 - val_accuracy: 0.3833\n",
            "Epoch 2/30\n",
            "12/12 [==============================] - 2s 175ms/step - loss: 3.9604 - accuracy: 0.5167 - val_loss: 3.2922 - val_accuracy: 0.5250\n",
            "Epoch 3/30\n",
            "12/12 [==============================] - 2s 174ms/step - loss: 3.1770 - accuracy: 0.5417 - val_loss: 2.5805 - val_accuracy: 0.7500\n",
            "Epoch 4/30\n",
            "12/12 [==============================] - 2s 173ms/step - loss: 2.5426 - accuracy: 0.6417 - val_loss: 2.3412 - val_accuracy: 0.6833\n",
            "Epoch 5/30\n",
            "12/12 [==============================] - 2s 171ms/step - loss: 2.4191 - accuracy: 0.6083 - val_loss: 2.3404 - val_accuracy: 0.6167\n",
            "Epoch 6/30\n",
            "12/12 [==============================] - 2s 172ms/step - loss: 2.2810 - accuracy: 0.6833 - val_loss: 2.2639 - val_accuracy: 0.6167\n",
            "Epoch 7/30\n",
            "12/12 [==============================] - 2s 173ms/step - loss: 2.0700 - accuracy: 0.6750 - val_loss: 1.8531 - val_accuracy: 0.7167\n",
            "Epoch 8/30\n",
            "12/12 [==============================] - 3s 268ms/step - loss: 1.9187 - accuracy: 0.6018 - val_loss: 1.6907 - val_accuracy: 0.7417\n",
            "Epoch 9/30\n",
            "12/12 [==============================] - 2s 171ms/step - loss: 1.8023 - accuracy: 0.7083 - val_loss: 1.7136 - val_accuracy: 0.6333\n",
            "Epoch 10/30\n",
            "12/12 [==============================] - 2s 170ms/step - loss: 1.7653 - accuracy: 0.7167 - val_loss: 1.7002 - val_accuracy: 0.6583\n",
            "Epoch 11/30\n",
            "12/12 [==============================] - 2s 174ms/step - loss: 1.6529 - accuracy: 0.6903 - val_loss: 1.5618 - val_accuracy: 0.7500\n",
            "Epoch 12/30\n",
            "12/12 [==============================] - 2s 172ms/step - loss: 1.5359 - accuracy: 0.6917 - val_loss: 1.3407 - val_accuracy: 0.7917\n",
            "Epoch 13/30\n",
            "12/12 [==============================] - 2s 172ms/step - loss: 1.4756 - accuracy: 0.7000 - val_loss: 1.3653 - val_accuracy: 0.7583\n",
            "Epoch 14/30\n",
            "12/12 [==============================] - 2s 176ms/step - loss: 1.4496 - accuracy: 0.7333 - val_loss: 1.5049 - val_accuracy: 0.7167\n",
            "Epoch 15/30\n",
            "12/12 [==============================] - 2s 173ms/step - loss: 1.4152 - accuracy: 0.6833 - val_loss: 1.4583 - val_accuracy: 0.6917\n",
            "Epoch 16/30\n",
            "12/12 [==============================] - 2s 174ms/step - loss: 1.3218 - accuracy: 0.7250 - val_loss: 1.5717 - val_accuracy: 0.6500\n",
            "Epoch 17/30\n",
            "12/12 [==============================] - 2s 172ms/step - loss: 1.4437 - accuracy: 0.6750 - val_loss: 1.2102 - val_accuracy: 0.7833\n",
            "Epoch 18/30\n",
            "12/12 [==============================] - 2s 173ms/step - loss: 1.2496 - accuracy: 0.7500 - val_loss: 1.1620 - val_accuracy: 0.7583\n",
            "Epoch 19/30\n",
            "12/12 [==============================] - 2s 173ms/step - loss: 1.3008 - accuracy: 0.7167 - val_loss: 1.3518 - val_accuracy: 0.7083\n",
            "Epoch 20/30\n",
            "12/12 [==============================] - 2s 174ms/step - loss: 1.2998 - accuracy: 0.7167 - val_loss: 1.3897 - val_accuracy: 0.6667\n",
            "Epoch 21/30\n",
            "12/12 [==============================] - 2s 176ms/step - loss: 1.3488 - accuracy: 0.6833 - val_loss: 1.1051 - val_accuracy: 0.7833\n",
            "Epoch 22/30\n",
            "12/12 [==============================] - 2s 172ms/step - loss: 1.2860 - accuracy: 0.7750 - val_loss: 1.1857 - val_accuracy: 0.7750\n",
            "Epoch 23/30\n",
            "12/12 [==============================] - 2s 172ms/step - loss: 1.4735 - accuracy: 0.6083 - val_loss: 1.2648 - val_accuracy: 0.7000\n",
            "Epoch 24/30\n",
            "12/12 [==============================] - 2s 176ms/step - loss: 1.4039 - accuracy: 0.6583 - val_loss: 1.2170 - val_accuracy: 0.7000\n",
            "Epoch 25/30\n",
            "12/12 [==============================] - 2s 171ms/step - loss: 1.3445 - accuracy: 0.6750 - val_loss: 1.1033 - val_accuracy: 0.7833\n",
            "Epoch 26/30\n",
            "12/12 [==============================] - 2s 173ms/step - loss: 1.2591 - accuracy: 0.7333 - val_loss: 1.0410 - val_accuracy: 0.8083\n",
            "Epoch 27/30\n",
            "12/12 [==============================] - 2s 176ms/step - loss: 1.0880 - accuracy: 0.7833 - val_loss: 1.3342 - val_accuracy: 0.6750\n",
            "Epoch 28/30\n",
            "12/12 [==============================] - 2s 180ms/step - loss: 1.2557 - accuracy: 0.7000 - val_loss: 1.0837 - val_accuracy: 0.8167\n",
            "Epoch 29/30\n",
            "12/12 [==============================] - 2s 175ms/step - loss: 0.9614 - accuracy: 0.8000 - val_loss: 1.1940 - val_accuracy: 0.7750\n",
            "Epoch 30/30\n",
            "12/12 [==============================] - 2s 174ms/step - loss: 1.0455 - accuracy: 0.7583 - val_loss: 1.0628 - val_accuracy: 0.8000\n",
            "CPU times: user 58 s, sys: 3.88 s, total: 1min 1s\n",
            "Wall time: 1min 52s\n"
          ]
        }
      ]
    },
    {
      "cell_type": "markdown",
      "metadata": {
        "id": "7032009d-a7e0-466d-b8df-76d39a51f1ba"
      },
      "source": [
        "## Evaluate Model\n",
        "- the accuracy on the test model is high compared to the accuracy on the validation set. This indicates significant overfit of the model. "
      ],
      "id": "7032009d-a7e0-466d-b8df-76d39a51f1ba"
    },
    {
      "cell_type": "markdown",
      "metadata": {
        "id": "97a7918e-9395-4aeb-ba3b-da12674d4bfa"
      },
      "source": [
        "# Second Model - Last Layer Trainable"
      ],
      "id": "97a7918e-9395-4aeb-ba3b-da12674d4bfa"
    },
    {
      "cell_type": "markdown",
      "metadata": {
        "id": "48b6a8d2-3915-4239-bf8d-d2442e6d366d"
      },
      "source": [
        "## Unfreeze Last Layer"
      ],
      "id": "48b6a8d2-3915-4239-bf8d-d2442e6d366d"
    },
    {
      "cell_type": "code",
      "metadata": {
        "colab": {
          "base_uri": "https://localhost:8080/"
        },
        "id": "872b390a-a347-446d-a80b-477ed3ed2193",
        "outputId": "11f4c614-38db-443e-d7c7-175d7958092d"
      },
      "source": [
        "%%time\n",
        "modelvgg = model_vgg()\n",
        "unfreeze_layers(modelvgg, 4)\n",
        "model2 = model_custom(modelvgg, lr = 0.001)\n",
        "# Basically tune the weights of the newly added fully connected layers\n",
        "history2 = model2.fit(\n",
        "    train_generator,\n",
        "    steps_per_epoch=nb_train_samples // batch_size,\n",
        "    epochs=30,\n",
        "    validation_data=validation_generator,\n",
        "    validation_steps=nb_validation_samples // batch_size)"
      ],
      "id": "872b390a-a347-446d-a80b-477ed3ed2193",
      "execution_count": 14,
      "outputs": [
        {
          "output_type": "stream",
          "name": "stdout",
          "text": [
            "[['input_3', False], ['block1_conv1', False], ['block1_conv2', False], ['block1_pool', False], ['block2_conv1', False], ['block2_conv2', False], ['block2_pool', False], ['block3_conv1', False], ['block3_conv2', False], ['block3_conv3', False], ['block3_pool', False], ['block4_conv1', False], ['block4_conv2', False], ['block4_conv3', False], ['block4_pool', False], ['block5_conv1', True], ['block5_conv2', True], ['block5_conv3', True], ['block5_pool', True]]\n",
            "Model: \"sequential_1\"\n",
            "_________________________________________________________________\n",
            "Layer (type)                 Output Shape              Param #   \n",
            "=================================================================\n",
            "vgg16 (Functional)           (None, 4, 4, 512)         14714688  \n",
            "_________________________________________________________________\n",
            "flatten (Flatten)            (None, 8192)              0         \n",
            "_________________________________________________________________\n",
            "new_fc1 (Dense)              (None, 256)               2097408   \n",
            "_________________________________________________________________\n",
            "new_predictions (Dense)      (None, 5)                 1285      \n",
            "=================================================================\n",
            "Total params: 16,813,381\n",
            "Trainable params: 9,178,117\n",
            "Non-trainable params: 7,635,264\n",
            "_________________________________________________________________\n",
            "None\n",
            "Epoch 1/30\n",
            "12/12 [==============================] - 5s 206ms/step - loss: 5.7866 - accuracy: 0.1833 - val_loss: 4.1128 - val_accuracy: 0.1750\n",
            "Epoch 2/30\n",
            "12/12 [==============================] - 2s 181ms/step - loss: 3.6678 - accuracy: 0.2000 - val_loss: 3.0282 - val_accuracy: 0.2083\n",
            "Epoch 3/30\n",
            "12/12 [==============================] - 2s 180ms/step - loss: 2.7896 - accuracy: 0.2083 - val_loss: 2.5628 - val_accuracy: 0.2917\n",
            "Epoch 4/30\n",
            "12/12 [==============================] - 2s 180ms/step - loss: 2.4338 - accuracy: 0.3250 - val_loss: 2.3074 - val_accuracy: 0.2000\n",
            "Epoch 5/30\n",
            "12/12 [==============================] - 2s 182ms/step - loss: 2.2225 - accuracy: 0.2250 - val_loss: 2.1369 - val_accuracy: 0.2167\n",
            "Epoch 6/30\n",
            "12/12 [==============================] - 2s 181ms/step - loss: 2.0771 - accuracy: 0.2750 - val_loss: 2.0173 - val_accuracy: 0.2750\n",
            "Epoch 7/30\n",
            "12/12 [==============================] - 2s 182ms/step - loss: 1.9843 - accuracy: 0.1417 - val_loss: 1.9283 - val_accuracy: 0.3333\n",
            "Epoch 8/30\n",
            "12/12 [==============================] - 2s 181ms/step - loss: 1.9037 - accuracy: 0.2667 - val_loss: 1.8779 - val_accuracy: 0.2167\n",
            "Epoch 9/30\n",
            "12/12 [==============================] - 2s 188ms/step - loss: 1.8574 - accuracy: 0.2301 - val_loss: 1.8284 - val_accuracy: 0.2000\n",
            "Epoch 10/30\n",
            "12/12 [==============================] - 2s 183ms/step - loss: 1.8102 - accuracy: 0.2667 - val_loss: 1.7956 - val_accuracy: 0.2333\n",
            "Epoch 11/30\n",
            "12/12 [==============================] - 2s 182ms/step - loss: 1.7735 - accuracy: 0.2417 - val_loss: 1.7590 - val_accuracy: 0.2667\n",
            "Epoch 12/30\n",
            "12/12 [==============================] - 2s 181ms/step - loss: 1.7547 - accuracy: 0.2417 - val_loss: 1.7286 - val_accuracy: 0.3083\n",
            "Epoch 13/30\n",
            "12/12 [==============================] - 2s 181ms/step - loss: 1.7332 - accuracy: 0.2083 - val_loss: 1.7289 - val_accuracy: 0.1667\n",
            "Epoch 14/30\n",
            "12/12 [==============================] - 2s 184ms/step - loss: 1.7110 - accuracy: 0.3083 - val_loss: 1.7101 - val_accuracy: 0.2417\n",
            "Epoch 15/30\n",
            "12/12 [==============================] - 2s 181ms/step - loss: 1.6782 - accuracy: 0.3417 - val_loss: 1.6945 - val_accuracy: 0.2417\n",
            "Epoch 16/30\n",
            "12/12 [==============================] - 2s 180ms/step - loss: 1.6770 - accuracy: 0.2917 - val_loss: 1.6867 - val_accuracy: 0.2417\n",
            "Epoch 17/30\n",
            "12/12 [==============================] - 2s 182ms/step - loss: 1.6828 - accuracy: 0.1833 - val_loss: 1.6771 - val_accuracy: 0.1917\n",
            "Epoch 18/30\n",
            "12/12 [==============================] - 2s 181ms/step - loss: 1.6587 - accuracy: 0.2583 - val_loss: 1.6671 - val_accuracy: 0.2583\n",
            "Epoch 19/30\n",
            "12/12 [==============================] - 2s 181ms/step - loss: 1.6665 - accuracy: 0.2250 - val_loss: 1.6813 - val_accuracy: 0.2167\n",
            "Epoch 20/30\n",
            "12/12 [==============================] - 2s 181ms/step - loss: 1.6704 - accuracy: 0.2083 - val_loss: 1.6539 - val_accuracy: 0.2333\n",
            "Epoch 21/30\n",
            "12/12 [==============================] - 2s 180ms/step - loss: 1.6668 - accuracy: 0.2250 - val_loss: 1.6496 - val_accuracy: 0.2667\n",
            "Epoch 22/30\n",
            "12/12 [==============================] - 2s 181ms/step - loss: 1.6689 - accuracy: 0.1833 - val_loss: 1.6422 - val_accuracy: 0.2333\n",
            "Epoch 23/30\n",
            "12/12 [==============================] - 2s 182ms/step - loss: 1.6561 - accuracy: 0.2083 - val_loss: 1.6488 - val_accuracy: 0.2417\n",
            "Epoch 24/30\n",
            "12/12 [==============================] - 2s 181ms/step - loss: 1.6311 - accuracy: 0.3083 - val_loss: 1.6311 - val_accuracy: 0.3083\n",
            "Epoch 25/30\n",
            "12/12 [==============================] - 2s 177ms/step - loss: 1.6480 - accuracy: 0.2083 - val_loss: 1.6346 - val_accuracy: 0.2500\n",
            "Epoch 26/30\n",
            "12/12 [==============================] - 2s 179ms/step - loss: 1.6346 - accuracy: 0.2500 - val_loss: 1.6432 - val_accuracy: 0.1917\n",
            "Epoch 27/30\n",
            "12/12 [==============================] - 2s 184ms/step - loss: 1.6345 - accuracy: 0.2083 - val_loss: 1.6331 - val_accuracy: 0.2000\n",
            "Epoch 28/30\n",
            "12/12 [==============================] - 2s 180ms/step - loss: 1.6430 - accuracy: 0.2167 - val_loss: 1.6333 - val_accuracy: 0.2250\n",
            "Epoch 29/30\n",
            "12/12 [==============================] - 2s 180ms/step - loss: 1.6441 - accuracy: 0.1750 - val_loss: 1.6296 - val_accuracy: 0.2083\n",
            "Epoch 30/30\n",
            "12/12 [==============================] - 2s 181ms/step - loss: 1.6264 - accuracy: 0.2583 - val_loss: 1.6180 - val_accuracy: 0.3167\n",
            "CPU times: user 1min 1s, sys: 3.17 s, total: 1min 4s\n",
            "Wall time: 1min 15s\n"
          ]
        }
      ]
    },
    {
      "cell_type": "markdown",
      "metadata": {
        "id": "6aff3db8-3462-4871-beee-1d478fb1a39c"
      },
      "source": [
        "## Evaluate Model"
      ],
      "id": "6aff3db8-3462-4871-beee-1d478fb1a39c"
    },
    {
      "cell_type": "markdown",
      "metadata": {
        "id": "00319aef-9b07-452a-937d-454d543b788f"
      },
      "source": [
        "# Third Model - All Layers Trainable"
      ],
      "id": "00319aef-9b07-452a-937d-454d543b788f"
    },
    {
      "cell_type": "markdown",
      "metadata": {
        "id": "d4c15344-df50-4ec8-b0ae-02d43108d88e"
      },
      "source": [
        "## Unfreeze All Layers"
      ],
      "id": "d4c15344-df50-4ec8-b0ae-02d43108d88e"
    },
    {
      "cell_type": "code",
      "metadata": {
        "colab": {
          "base_uri": "https://localhost:8080/"
        },
        "id": "8bdfe9b0-946a-4412-a907-0abd2f125b09",
        "outputId": "929c86b8-879b-462b-a649-83b6f374ca65"
      },
      "source": [
        "%%time\n",
        "modelvgg = model_vgg()\n",
        "# unfreeze all block\n",
        "unfreeze_layers(modelvgg, unfreeze_all=True)\n",
        "model3 = model_custom(modelvgg, 0.1)\n",
        "\n",
        "# Basically tune the weights of the newly added fully connected layers\n",
        "history3 = model3.fit(\n",
        "    train_generator,\n",
        "    steps_per_epoch=nb_train_samples // batch_size,\n",
        "    epochs=50,\n",
        "    validation_data=validation_generator,\n",
        "    validation_steps=nb_validation_samples // batch_size)"
      ],
      "id": "8bdfe9b0-946a-4412-a907-0abd2f125b09",
      "execution_count": 15,
      "outputs": [
        {
          "output_type": "stream",
          "name": "stdout",
          "text": [
            "[['input_4', True], ['block1_conv1', True], ['block1_conv2', True], ['block1_pool', True], ['block2_conv1', True], ['block2_conv2', True], ['block2_pool', True], ['block3_conv1', True], ['block3_conv2', True], ['block3_conv3', True], ['block3_pool', True], ['block4_conv1', True], ['block4_conv2', True], ['block4_conv3', True], ['block4_pool', True], ['block5_conv1', True], ['block5_conv2', True], ['block5_conv3', True], ['block5_pool', True]]\n",
            "Model: \"sequential_2\"\n",
            "_________________________________________________________________\n",
            "Layer (type)                 Output Shape              Param #   \n",
            "=================================================================\n",
            "vgg16 (Functional)           (None, 4, 4, 512)         14714688  \n",
            "_________________________________________________________________\n",
            "flatten (Flatten)            (None, 8192)              0         \n",
            "_________________________________________________________________\n",
            "new_fc1 (Dense)              (None, 256)               2097408   \n",
            "_________________________________________________________________\n",
            "new_predictions (Dense)      (None, 5)                 1285      \n",
            "=================================================================\n",
            "Total params: 16,813,381\n",
            "Trainable params: 16,813,381\n",
            "Non-trainable params: 0\n",
            "_________________________________________________________________\n",
            "None\n",
            "Epoch 1/50\n",
            "12/12 [==============================] - 6s 303ms/step - loss: nan - accuracy: 0.1583 - val_loss: nan - val_accuracy: 0.1167\n",
            "Epoch 2/50\n",
            "12/12 [==============================] - 3s 280ms/step - loss: nan - accuracy: 0.1833 - val_loss: nan - val_accuracy: 0.1667\n",
            "Epoch 3/50\n",
            "12/12 [==============================] - 3s 279ms/step - loss: nan - accuracy: 0.1583 - val_loss: nan - val_accuracy: 0.2083\n",
            "Epoch 4/50\n",
            "12/12 [==============================] - 3s 279ms/step - loss: nan - accuracy: 0.1833 - val_loss: nan - val_accuracy: 0.1417\n",
            "Epoch 5/50\n",
            "12/12 [==============================] - 3s 281ms/step - loss: nan - accuracy: 0.1583 - val_loss: nan - val_accuracy: 0.1333\n",
            "Epoch 6/50\n",
            "12/12 [==============================] - 3s 281ms/step - loss: nan - accuracy: 0.1667 - val_loss: nan - val_accuracy: 0.0917\n",
            "Epoch 7/50\n",
            "12/12 [==============================] - 3s 279ms/step - loss: nan - accuracy: 0.1500 - val_loss: nan - val_accuracy: 0.1833\n",
            "Epoch 8/50\n",
            "12/12 [==============================] - 3s 279ms/step - loss: nan - accuracy: 0.2083 - val_loss: nan - val_accuracy: 0.1167\n",
            "Epoch 9/50\n",
            "12/12 [==============================] - 3s 278ms/step - loss: nan - accuracy: 0.2167 - val_loss: nan - val_accuracy: 0.1667\n",
            "Epoch 10/50\n",
            "12/12 [==============================] - 3s 280ms/step - loss: nan - accuracy: 0.1417 - val_loss: nan - val_accuracy: 0.2083\n",
            "Epoch 11/50\n",
            "12/12 [==============================] - 3s 277ms/step - loss: nan - accuracy: 0.1833 - val_loss: nan - val_accuracy: 0.2083\n",
            "Epoch 12/50\n",
            "12/12 [==============================] - 3s 278ms/step - loss: nan - accuracy: 0.2000 - val_loss: nan - val_accuracy: 0.2000\n",
            "Epoch 13/50\n",
            "12/12 [==============================] - 3s 279ms/step - loss: nan - accuracy: 0.1667 - val_loss: nan - val_accuracy: 0.1167\n",
            "Epoch 14/50\n",
            "12/12 [==============================] - 3s 279ms/step - loss: nan - accuracy: 0.1250 - val_loss: nan - val_accuracy: 0.2083\n",
            "Epoch 15/50\n",
            "12/12 [==============================] - 3s 278ms/step - loss: nan - accuracy: 0.1750 - val_loss: nan - val_accuracy: 0.1500\n",
            "Epoch 16/50\n",
            "12/12 [==============================] - 3s 277ms/step - loss: nan - accuracy: 0.2250 - val_loss: nan - val_accuracy: 0.2167\n",
            "Epoch 17/50\n",
            "12/12 [==============================] - 3s 278ms/step - loss: nan - accuracy: 0.2417 - val_loss: nan - val_accuracy: 0.1167\n",
            "Epoch 18/50\n",
            "12/12 [==============================] - 3s 279ms/step - loss: nan - accuracy: 0.2083 - val_loss: nan - val_accuracy: 0.1333\n",
            "Epoch 19/50\n",
            "12/12 [==============================] - 3s 279ms/step - loss: nan - accuracy: 0.1417 - val_loss: nan - val_accuracy: 0.1250\n",
            "Epoch 20/50\n",
            "12/12 [==============================] - 3s 280ms/step - loss: nan - accuracy: 0.1500 - val_loss: nan - val_accuracy: 0.2083\n",
            "Epoch 21/50\n",
            "12/12 [==============================] - 3s 277ms/step - loss: nan - accuracy: 0.0917 - val_loss: nan - val_accuracy: 0.1833\n",
            "Epoch 22/50\n",
            "12/12 [==============================] - 3s 278ms/step - loss: nan - accuracy: 0.1667 - val_loss: nan - val_accuracy: 0.2250\n",
            "Epoch 23/50\n",
            "12/12 [==============================] - 3s 278ms/step - loss: nan - accuracy: 0.1583 - val_loss: nan - val_accuracy: 0.1583\n",
            "Epoch 24/50\n",
            "12/12 [==============================] - 3s 277ms/step - loss: nan - accuracy: 0.1333 - val_loss: nan - val_accuracy: 0.1583\n",
            "Epoch 25/50\n",
            "12/12 [==============================] - 3s 276ms/step - loss: nan - accuracy: 0.1250 - val_loss: nan - val_accuracy: 0.1667\n",
            "Epoch 26/50\n",
            "12/12 [==============================] - 3s 278ms/step - loss: nan - accuracy: 0.1250 - val_loss: nan - val_accuracy: 0.1583\n",
            "Epoch 27/50\n",
            "12/12 [==============================] - 3s 279ms/step - loss: nan - accuracy: 0.1500 - val_loss: nan - val_accuracy: 0.2167\n",
            "Epoch 28/50\n",
            "12/12 [==============================] - 4s 360ms/step - loss: nan - accuracy: 0.1416 - val_loss: nan - val_accuracy: 0.1750\n",
            "Epoch 29/50\n",
            "12/12 [==============================] - 3s 277ms/step - loss: nan - accuracy: 0.1917 - val_loss: nan - val_accuracy: 0.1250\n",
            "Epoch 30/50\n",
            "12/12 [==============================] - 3s 275ms/step - loss: nan - accuracy: 0.1833 - val_loss: nan - val_accuracy: 0.2000\n",
            "Epoch 31/50\n",
            "12/12 [==============================] - 3s 278ms/step - loss: nan - accuracy: 0.1667 - val_loss: nan - val_accuracy: 0.1250\n",
            "Epoch 32/50\n",
            "12/12 [==============================] - 3s 276ms/step - loss: nan - accuracy: 0.2083 - val_loss: nan - val_accuracy: 0.2167\n",
            "Epoch 33/50\n",
            "12/12 [==============================] - 3s 270ms/step - loss: nan - accuracy: 0.0796 - val_loss: nan - val_accuracy: 0.2167\n",
            "Epoch 34/50\n",
            "12/12 [==============================] - 3s 279ms/step - loss: nan - accuracy: 0.1833 - val_loss: nan - val_accuracy: 0.1583\n",
            "Epoch 35/50\n",
            "12/12 [==============================] - 3s 276ms/step - loss: nan - accuracy: 0.1667 - val_loss: nan - val_accuracy: 0.1667\n",
            "Epoch 36/50\n",
            "12/12 [==============================] - 3s 278ms/step - loss: nan - accuracy: 0.2000 - val_loss: nan - val_accuracy: 0.1750\n",
            "Epoch 37/50\n",
            "12/12 [==============================] - 3s 278ms/step - loss: nan - accuracy: 0.2167 - val_loss: nan - val_accuracy: 0.1333\n",
            "Epoch 38/50\n",
            "12/12 [==============================] - 3s 271ms/step - loss: nan - accuracy: 0.1593 - val_loss: nan - val_accuracy: 0.2083\n",
            "Epoch 39/50\n",
            "12/12 [==============================] - 3s 269ms/step - loss: nan - accuracy: 0.1858 - val_loss: nan - val_accuracy: 0.1667\n",
            "Epoch 40/50\n",
            "12/12 [==============================] - 3s 278ms/step - loss: nan - accuracy: 0.1333 - val_loss: nan - val_accuracy: 0.2000\n",
            "Epoch 41/50\n",
            "12/12 [==============================] - 3s 277ms/step - loss: nan - accuracy: 0.1417 - val_loss: nan - val_accuracy: 0.0917\n",
            "Epoch 42/50\n",
            "12/12 [==============================] - 3s 276ms/step - loss: nan - accuracy: 0.1417 - val_loss: nan - val_accuracy: 0.1750\n",
            "Epoch 43/50\n",
            "12/12 [==============================] - 3s 279ms/step - loss: nan - accuracy: 0.1417 - val_loss: nan - val_accuracy: 0.1667\n",
            "Epoch 44/50\n",
            "12/12 [==============================] - 3s 278ms/step - loss: nan - accuracy: 0.1333 - val_loss: nan - val_accuracy: 0.1417\n",
            "Epoch 45/50\n",
            "12/12 [==============================] - 3s 278ms/step - loss: nan - accuracy: 0.2083 - val_loss: nan - val_accuracy: 0.1750\n",
            "Epoch 46/50\n",
            "12/12 [==============================] - 3s 279ms/step - loss: nan - accuracy: 0.1333 - val_loss: nan - val_accuracy: 0.1250\n",
            "Epoch 47/50\n",
            "12/12 [==============================] - 3s 279ms/step - loss: nan - accuracy: 0.2167 - val_loss: nan - val_accuracy: 0.1833\n",
            "Epoch 48/50\n",
            "12/12 [==============================] - 3s 279ms/step - loss: nan - accuracy: 0.1917 - val_loss: nan - val_accuracy: 0.1833\n",
            "Epoch 49/50\n",
            "12/12 [==============================] - 3s 277ms/step - loss: nan - accuracy: 0.2000 - val_loss: nan - val_accuracy: 0.2000\n",
            "Epoch 50/50\n",
            "12/12 [==============================] - 3s 276ms/step - loss: nan - accuracy: 0.2250 - val_loss: nan - val_accuracy: 0.1417\n",
            "CPU times: user 2min 46s, sys: 5.35 s, total: 2min 51s\n",
            "Wall time: 3min 29s\n"
          ]
        }
      ]
    },
    {
      "cell_type": "markdown",
      "metadata": {
        "id": "492c4023-dd51-4dd5-ab8e-bd226950bec7"
      },
      "source": [
        "## Evaluate Model"
      ],
      "id": "492c4023-dd51-4dd5-ab8e-bd226950bec7"
    },
    {
      "cell_type": "code",
      "metadata": {
        "id": "f010463c-ff49-4779-9746-bf32986f0305"
      },
      "source": [
        ""
      ],
      "id": "f010463c-ff49-4779-9746-bf32986f0305",
      "execution_count": null,
      "outputs": []
    }
  ]
}