{
 "cells": [
  {
   "cell_type": "markdown",
   "id": "0362858b-409d-47db-a403-c5e503468e68",
   "metadata": {},
   "source": [
    "# Develop and evaluate neural network models using Keras for a regression problem\n",
    "\n",
    "__Author - Sarthak Kaushik__\n",
    "\n",
    "__Date - October 22, 2021__\n"
   ]
  },
  {
   "cell_type": "code",
   "execution_count": null,
   "id": "7c3d8419-6975-43d0-85ab-3208960757d7",
   "metadata": {},
   "outputs": [],
   "source": [
    "from PIL import Image\n",
    "import glob\n",
    "import os\n",
    "import shutil\n",
    "\n",
    "import pathlib\n",
    "import tensorflow as tf\n",
    "\n",
    "from keras import regularizers\n",
    "from keras.models import Sequential, Model\n",
    "from keras.layers import Dropout, Flatten, Dense, GlobalAveragePooling2D\n",
    "\n",
    "import warnings\n",
    "warnings.simplefilter(\"ignore\")"
   ]
  },
  {
   "cell_type": "markdown",
   "id": "dbfeb1fe-59fa-43d6-b5c9-af397e85012b",
   "metadata": {
    "tags": []
   },
   "source": [
    "# Image Resizing"
   ]
  },
  {
   "cell_type": "code",
   "execution_count": null,
   "id": "e974c06d-adb7-4787-a11e-5973037f058c",
   "metadata": {},
   "outputs": [],
   "source": [
    "def resize_image(img, path, i):\n",
    "    # Resize and save image\n",
    "    image = Image.open(img)\n",
    "    image = image.resize((150,150))\n",
    "    image.save(path+'/'+str(i)+'.jpg')\n",
    "    return\n",
    "        \n",
    "def create_directory(path):\n",
    "    # Create directory for resized images\n",
    "    if os.path.isdir(path) == True:\n",
    "        print (\"directory exists: \" + path)\n",
    "        print ('deleting directory: ' + path)\n",
    "        shutil.rmtree(path)\n",
    "        os.mkdir(path)\n",
    "        print (\"directory created: \" + path)\n",
    "    else :\n",
    "        os.mkdir(path)\n",
    "        print (\"directory created: \" + path)\n",
    "    return\n",
    "\n",
    "def resize_images():\n",
    "    directories = glob.glob('flower_photos/*/')\n",
    "    path = os.path.join('resized')\n",
    "    # shutil.rmtree(path)\n",
    "    create_directory(path)\n",
    "\n",
    "    for directory in directories:\n",
    "        flower_type = str.split(directory,'/')[1]    \n",
    "       # path = os.path.join(path1,'resized',flower_type)\n",
    "        path2 = os.path.join('resized',flower_type)\n",
    "        create_directory(path2)\n",
    "        i = 0\n",
    "        images= glob.glob(directory+'/*.jpg')\n",
    "        for image in images:\n",
    "            resize_image(image, path2 , i)\n",
    "            i += 1\n",
    "    shutil.rmtree('flower_photos')\n",
    "    return"
   ]
  },
  {
   "cell_type": "raw",
   "id": "59ff82ed-23bf-442c-8831-492d5191ff56",
   "metadata": {},
   "source": [
    "# Download Images\n",
    "%%time\n",
    "!curl -O http://download.tensorflow.org/example_images/flower_photos.tgz\n",
    "!tar -xf flower_photos.tgz\n",
    "os.remove(\"flower_photos.tgz\") \n",
    "resize_images()"
   ]
  },
  {
   "cell_type": "markdown",
   "id": "cea0fef6-6042-4296-a3eb-5809a09ce472",
   "metadata": {},
   "source": [
    "# Split Images Train-Test"
   ]
  },
  {
   "cell_type": "code",
   "execution_count": null,
   "id": "1f550d92-9930-4643-875f-2a68083b5b96",
   "metadata": {},
   "outputs": [],
   "source": [
    "directories = glob.glob('resized/*/')"
   ]
  },
  {
   "cell_type": "raw",
   "id": "08e1be33-b707-444d-b1a5-198b0b433fc8",
   "metadata": {},
   "source": [
    "tr_ratio = 0.75\n",
    "trainDict = {'dandelion':[],'daisy':[],'tulips':[],'sunflowers':[],'roses':[]}\n",
    "\n",
    "for directory in directories:\n",
    "    images= glob.glob(directory+'/*.jpg')\n",
    "    print(directory,\": \", len(images))\n",
    "    tr_idx = round (tr_ratio * len(images))\n",
    "    train = images[:tr_idx]\n",
    "    \n",
    "    flower_type = str.split(directory,'/')[1] \n",
    "\n",
    "    for item in train:\n",
    "        trainDict[flower_type].append(train)\n",
    "\n",
    "#     test = images[tr_idx:]\n",
    "#     print(len(test)+len(train))"
   ]
  },
  {
   "cell_type": "code",
   "execution_count": null,
   "id": "bf49ac3a-2d56-4194-be65-15e0d745b8f9",
   "metadata": {},
   "outputs": [],
   "source": [
    "data_dir = 'resized'\n",
    "# data_dir = pathlib.Path(data_dir)\n",
    "train_ds = tf.keras.preprocessing.image_dataset_from_directory(\n",
    "    data_dir,\n",
    "    labels='inferred',\n",
    "    validation_split=0.25,\n",
    "    subset=\"training\",\n",
    "    seed=123,\n",
    "    image_size=(150, 150),\n",
    "    batch_size=32)\n",
    "\n",
    "val_ds = tf.keras.preprocessing.image_dataset_from_directory(\n",
    "    data_dir,\n",
    "    labels='inferred',\n",
    "    validation_split=0.25,\n",
    "    subset=\"validation\",\n",
    "    seed=123,\n",
    "    image_size=(150, 150),\n",
    "    batch_size=32)"
   ]
  },
  {
   "cell_type": "code",
   "execution_count": null,
   "id": "f955fada-caf8-4ec9-8cca-bfb40673e817",
   "metadata": {},
   "outputs": [],
   "source": [
    "class_names = train_ds.class_names\n",
    "print(class_names)"
   ]
  },
  {
   "cell_type": "markdown",
   "id": "f18c1de8-61b6-4cb8-9b35-eabf935ee070",
   "metadata": {
    "tags": []
   },
   "source": [
    "# Model VGG16 - Top Layer Removed"
   ]
  },
  {
   "cell_type": "raw",
   "id": "f624e2f0-2ac1-4f91-bf8c-c2a46f870ccf",
   "metadata": {},
   "source": [
    "model = tf.keras.applications.VGG16(\n",
    "    include_top=False,\n",
    "    weights=\"imagenet\",\n",
    "    input_tensor=None,\n",
    "    input_shape=None,\n",
    "    pooling=None,\n",
    "    classes=5,\n",
    "    classifier_activation=\"softmax\",\n",
    ")\n",
    "\n",
    "model = tf.keras.applications.VGG16(\n",
    "    include_top=True,\n",
    "    weights=\"imagenet\",\n",
    "    classifier_activation=\"softmax\",\n",
    ")\n"
   ]
  },
  {
   "cell_type": "code",
   "execution_count": null,
   "id": "dc7aa8d3-3e6b-4e8a-b3a8-f3e96aa48d32",
   "metadata": {},
   "outputs": [],
   "source": [
    "image_w, image_h = 150, 150\n",
    "# VGG16 pre-trained model without fully connected layers and with different input dimensions\n",
    "modelvgg = tf.keras.applications.VGG16(\n",
    "    weights = \"imagenet\", \n",
    "    include_top=False, \n",
    "    input_shape = (image_w, image_h, 3)\n",
    ")\n",
    "modelvgg.summary()"
   ]
  },
  {
   "cell_type": "markdown",
   "id": "edf00252-c9b2-43c8-8532-ae747bce12ab",
   "metadata": {},
   "source": [
    "# Functions"
   ]
  },
  {
   "cell_type": "markdown",
   "id": "c8beab81-78a0-450a-9483-3b2bc2a5c2c2",
   "metadata": {},
   "source": [
    "## Freezing all layers"
   ]
  },
  {
   "cell_type": "code",
   "execution_count": null,
   "id": "74d920c5-a92d-4222-9fd6-193d3615a89d",
   "metadata": {},
   "outputs": [],
   "source": [
    "# Freezing all layers we don't want to train\n",
    "def unfreeze_layers(model, n=0, unfreeze_all = False):\n",
    "    ''' n : number of layers to freeze'''\n",
    "    for layer in model.layers:\n",
    "        layer.trainable = True\n",
    "    \n",
    "    # if unfreeze_all == 1 then skip this step\n",
    "    if unfreeze_all == False:\n",
    "\n",
    "        # Unfreeze layers as defined by n\n",
    "        for layer in model.layers[:len(model.layers)-n]:\n",
    "            layer.trainable = False\n",
    "    layers = [] \n",
    "    for i, layer in enumerate(model.layers): \n",
    "            layers.append([layer.name, layer.trainable])\n",
    "    print (layers)"
   ]
  },
  {
   "cell_type": "markdown",
   "id": "cb59e57f-00a4-4e06-80f3-98197247d6e7",
   "metadata": {},
   "source": [
    "## Add Fully Connected End Layers"
   ]
  },
  {
   "cell_type": "code",
   "execution_count": null,
   "id": "742d0991-05af-4b7f-a6e6-a53317950076",
   "metadata": {},
   "outputs": [],
   "source": [
    "# Adding custom layers to create a new model \n",
    "# one with 256 nodes using ‘relu’ activation and output layer with 5 nodes and ‘softmax’ activation)\n",
    "# model\n",
    "def model_custom(model):\n",
    "    \n",
    "    model1 = Sequential([\n",
    "        model,\n",
    "        Flatten(name='flatten'),\n",
    "        Dense(256, activation='relu', name='new_fc1', \n",
    "              kernel_initializer=\"HeNormal\", \n",
    "              kernel_regularizer = regularizers.l2(0.01)),\n",
    "        Dense(5, activation='softmax', \n",
    "              name='new_predictions')\n",
    "    ])\n",
    "\n",
    "    print (model1.summary())\n",
    "\n",
    "    optimizer = tf.keras.optimizers.Adam(learning_rate=0.0001,)\n",
    "\n",
    "    model1.compile(\n",
    "        loss = tf.keras.losses.SparseCategoricalCrossentropy(from_logits=True), \n",
    "        optimizer = optimizer, \n",
    "        metrics=[\"accuracy\"])\n",
    "\n",
    "    return model1"
   ]
  },
  {
   "cell_type": "markdown",
   "id": "6b95614b-a9dd-4510-a9a2-11676ec66910",
   "metadata": {
    "tags": []
   },
   "source": [
    "# First Model - No Layers Trainable"
   ]
  },
  {
   "cell_type": "code",
   "execution_count": null,
   "id": "4c0335b8-b3b7-49cf-b665-db489ee3b4fa",
   "metadata": {},
   "outputs": [],
   "source": [
    "unfreeze_layers(modelvgg, 0)\n",
    "model1 = model_custom(modelvgg)"
   ]
  },
  {
   "cell_type": "code",
   "execution_count": null,
   "id": "3d6c55ee-26d5-4b9c-bf9d-6c7851c4c3e0",
   "metadata": {},
   "outputs": [],
   "source": [
    "%%time\n",
    "# Basically tune the weights of the newly added fully connected layers\n",
    "history = model1.fit(train_ds, validation_data=val_ds, epochs=5)"
   ]
  },
  {
   "cell_type": "markdown",
   "id": "7032009d-a7e0-466d-b8df-76d39a51f1ba",
   "metadata": {},
   "source": [
    "## Evaluate Model"
   ]
  },
  {
   "cell_type": "code",
   "execution_count": null,
   "id": "fbb78142-7029-43d5-84a7-ed1fa7956e1a",
   "metadata": {},
   "outputs": [],
   "source": []
  },
  {
   "cell_type": "markdown",
   "id": "97a7918e-9395-4aeb-ba3b-da12674d4bfa",
   "metadata": {
    "tags": []
   },
   "source": [
    "# Second Model - Last Layer Trainable"
   ]
  },
  {
   "cell_type": "markdown",
   "id": "48b6a8d2-3915-4239-bf8d-d2442e6d366d",
   "metadata": {},
   "source": [
    "## Unfreeze Last Layer"
   ]
  },
  {
   "cell_type": "code",
   "execution_count": null,
   "id": "872b390a-a347-446d-a80b-477ed3ed2193",
   "metadata": {},
   "outputs": [],
   "source": [
    "unfreeze_layers(modelvgg, 4)\n",
    "model2 = model_custom(modelvgg)"
   ]
  },
  {
   "cell_type": "code",
   "execution_count": null,
   "id": "1dea38c4-dc5f-489c-9f79-7f4642bb12ac",
   "metadata": {},
   "outputs": [],
   "source": [
    "%%time\n",
    "# Basically tune the weights of the newly added fully connected layers\n",
    "history = model2.fit(train_ds, validation_data=val_ds, epochs=5)"
   ]
  },
  {
   "cell_type": "markdown",
   "id": "6aff3db8-3462-4871-beee-1d478fb1a39c",
   "metadata": {},
   "source": [
    "## Evaluate Model"
   ]
  },
  {
   "cell_type": "code",
   "execution_count": null,
   "id": "0fab3772-36ae-4f99-853f-5d47c5e6260f",
   "metadata": {},
   "outputs": [],
   "source": []
  },
  {
   "cell_type": "markdown",
   "id": "00319aef-9b07-452a-937d-454d543b788f",
   "metadata": {
    "tags": []
   },
   "source": [
    "# Second Model - All Layers Trainable"
   ]
  },
  {
   "cell_type": "markdown",
   "id": "d4c15344-df50-4ec8-b0ae-02d43108d88e",
   "metadata": {},
   "source": [
    "## Unfreeze All Layers"
   ]
  },
  {
   "cell_type": "code",
   "execution_count": null,
   "id": "8bdfe9b0-946a-4412-a907-0abd2f125b09",
   "metadata": {},
   "outputs": [],
   "source": [
    "# unfreeze all block\n",
    "unfreeze_layers(modelvgg, unfreeze_all=True)\n",
    "model3 = model_custom(modelvgg)"
   ]
  },
  {
   "cell_type": "code",
   "execution_count": null,
   "id": "c7e53d79-c7ac-4261-a2f9-bacd9847ada7",
   "metadata": {},
   "outputs": [],
   "source": [
    "%%time\n",
    "# Basically tune the weights of the newly added fully connected layers\n",
    "history = model3.fit(train_ds, validation_data=val_ds, epochs=5)"
   ]
  },
  {
   "cell_type": "markdown",
   "id": "492c4023-dd51-4dd5-ab8e-bd226950bec7",
   "metadata": {},
   "source": [
    "## Evaluate Model"
   ]
  },
  {
   "cell_type": "code",
   "execution_count": null,
   "id": "f010463c-ff49-4779-9746-bf32986f0305",
   "metadata": {},
   "outputs": [],
   "source": []
  }
 ],
 "metadata": {
  "kernelspec": {
   "display_name": "Python 3 (ipykernel)",
   "language": "python",
   "name": "python3"
  },
  "language_info": {
   "codemirror_mode": {
    "name": "ipython",
    "version": 3
   },
   "file_extension": ".py",
   "mimetype": "text/x-python",
   "name": "python",
   "nbconvert_exporter": "python",
   "pygments_lexer": "ipython3",
   "version": "3.9.7"
  }
 },
 "nbformat": 4,
 "nbformat_minor": 5
}
