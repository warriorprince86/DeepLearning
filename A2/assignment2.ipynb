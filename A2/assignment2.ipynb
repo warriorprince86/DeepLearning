{
  "nbformat": 4,
  "nbformat_minor": 5,
  "metadata": {
    "accelerator": "GPU",
    "colab": {
      "name": "assignment2.ipynb",
      "provenance": [],
      "collapsed_sections": [
        "7032009d-a7e0-466d-b8df-76d39a51f1ba",
        "6aff3db8-3462-4871-beee-1d478fb1a39c"
      ],
      "toc_visible": true
    },
    "kernelspec": {
      "display_name": "Python 3 (ipykernel)",
      "language": "python",
      "name": "python3"
    },
    "language_info": {
      "codemirror_mode": {
        "name": "ipython",
        "version": 3
      },
      "file_extension": ".py",
      "mimetype": "text/x-python",
      "name": "python",
      "nbconvert_exporter": "python",
      "pygments_lexer": "ipython3",
      "version": "3.9.7"
    }
  },
  "cells": [
    {
      "cell_type": "markdown",
      "metadata": {
        "id": "0362858b-409d-47db-a403-c5e503468e68"
      },
      "source": [
        "# Develop and evaluate neural network models using Keras for a regression problem\n",
        "\n",
        "__Author - Sarthak Kaushik__\n",
        "\n",
        "__Date - October 26, 2021__\n"
      ],
      "id": "0362858b-409d-47db-a403-c5e503468e68"
    },
    {
      "cell_type": "code",
      "metadata": {
        "id": "7c3d8419-6975-43d0-85ab-3208960757d7"
      },
      "source": [
        "from PIL import Image\n",
        "import glob\n",
        "import os\n",
        "import shutil\n",
        "\n",
        "import random\n",
        "\n",
        "import pathlib\n",
        "import tensorflow as tf\n",
        "\n",
        "from keras import regularizers\n",
        "from keras.models import Sequential, Model\n",
        "from keras.layers import Dropout, Flatten, Dense, GlobalAveragePooling2D\n",
        "from keras.preprocessing.image import ImageDataGenerator\n",
        "\n",
        "import warnings\n",
        "warnings.simplefilter(\"ignore\")"
      ],
      "id": "7c3d8419-6975-43d0-85ab-3208960757d7",
      "execution_count": null,
      "outputs": []
    },
    {
      "cell_type": "markdown",
      "metadata": {
        "id": "dbfeb1fe-59fa-43d6-b5c9-af397e85012b"
      },
      "source": [
        "# Image Resizing"
      ],
      "id": "dbfeb1fe-59fa-43d6-b5c9-af397e85012b"
    },
    {
      "cell_type": "code",
      "metadata": {
        "id": "e974c06d-adb7-4787-a11e-5973037f058c"
      },
      "source": [
        "def resize_image(img, path, i):\n",
        "    # Resize and save image\n",
        "    image = Image.open(img)\n",
        "    image = image.resize((150,150))\n",
        "    image.save(path+'/'+str(i)+'.jpg')\n",
        "    return\n",
        "        \n",
        "def create_directory(path):\n",
        "    # Create directory for resized images\n",
        "    if os.path.isdir(path) == True:\n",
        "        print (\"directory exists: \" + path)\n",
        "#         print ('deleting directory: ' + path)\n",
        "        shutil.rmtree(path)\n",
        "        os.mkdir(path)\n",
        "        print (\"directory created: \" + path)\n",
        "    else :\n",
        "        os.mkdir(path)\n",
        "        print (\"directory created: \" + path)\n",
        "    return\n",
        "\n",
        "def resize_images():\n",
        "    directories = glob.glob('flower_photos/*/')\n",
        "    path = os.path.join('resized')\n",
        "    # shutil.rmtree(path)\n",
        "    create_directory(path)\n",
        "\n",
        "    for directory in directories:\n",
        "        flower_type = str.split(directory,'/')[1]    \n",
        "       # path = os.path.join(path1,'resized',flower_type)\n",
        "        path2 = os.path.join('resized',flower_type)\n",
        "        create_directory(path2)\n",
        "        i = 0\n",
        "        images= glob.glob(directory+'/*.jpg')\n",
        "        for image in images:\n",
        "            resize_image(image, path2 , i)\n",
        "            i += 1\n",
        "    shutil.rmtree('flower_photos')\n",
        "    return"
      ],
      "id": "e974c06d-adb7-4787-a11e-5973037f058c",
      "execution_count": null,
      "outputs": []
    },
    {
      "cell_type": "code",
      "metadata": {
        "colab": {
          "base_uri": "https://localhost:8080/"
        },
        "id": "0s8c8Xc1cQvk",
        "outputId": "bd1c3af8-d64a-4833-e8ec-65cd51717d80"
      },
      "source": [
        "%%time\n",
        "# Download Images\n",
        "!curl -O http://download.tensorflow.org/example_images/flower_photos.tgz\n",
        "!tar -xf flower_photos.tgz\n",
        "os.remove(\"flower_photos.tgz\") \n",
        "resize_images()"
      ],
      "id": "0s8c8Xc1cQvk",
      "execution_count": null,
      "outputs": [
        {
          "output_type": "stream",
          "name": "stdout",
          "text": [
            "  % Total    % Received % Xferd  Average Speed   Time    Time     Time  Current\n",
            "                                 Dload  Upload   Total   Spent    Left  Speed\n",
            "100  218M  100  218M    0     0   212M      0  0:00:01  0:00:01 --:--:--  212M\n",
            "directory created: resized\n",
            "directory created: resized/tulips\n",
            "directory created: resized/daisy\n",
            "directory created: resized/dandelion\n",
            "directory created: resized/roses\n",
            "directory created: resized/sunflowers\n",
            "CPU times: user 19.8 s, sys: 781 ms, total: 20.5 s\n",
            "Wall time: 24.4 s\n"
          ]
        }
      ]
    },
    {
      "cell_type": "markdown",
      "metadata": {
        "id": "cea0fef6-6042-4296-a3eb-5809a09ce472"
      },
      "source": [
        "# Split Images Train-Test"
      ],
      "id": "cea0fef6-6042-4296-a3eb-5809a09ce472"
    },
    {
      "cell_type": "code",
      "metadata": {
        "id": "1f550d92-9930-4643-875f-2a68083b5b96"
      },
      "source": [
        "def move_file(original_folder, list_files ,  target_folder) :\n",
        "#     files = glob.glob(original_folder+'/*.jpg')\n",
        "#     print(original_folder)\n",
        "    for image in list_files:\n",
        "        # print(image)\n",
        "        # Get file name\n",
        "        image_name = image.split(\"/\")[2]\n",
        "\n",
        "        # Move File to Folder\n",
        "        shutil.move(image, target_folder+\"/\"+image_name)"
      ],
      "id": "1f550d92-9930-4643-875f-2a68083b5b96",
      "execution_count": null,
      "outputs": []
    },
    {
      "cell_type": "code",
      "metadata": {
        "colab": {
          "base_uri": "https://localhost:8080/"
        },
        "id": "bf49ac3a-2d56-4194-be65-15e0d745b8f9",
        "outputId": "4897f056-bdb4-4acb-cdfb-9660c88d0a4d"
      },
      "source": [
        "seed = 100\n",
        "random.seed(seed)\n",
        "\n",
        "directories = glob.glob('resized/*/')\n",
        "tr_ratio = 0.75\n",
        "\n",
        "# Create directories\n",
        "create_directory('train')\n",
        "create_directory('validation')\n",
        "\n",
        "for directory in directories :\n",
        "    # Split directory to get flower class\n",
        "    flower_class = directory.split(\"/\")[1]\n",
        "    flower_name = directory.split(\"/\")[2]\n",
        "\n",
        "    # Get number files in train and test\n",
        "    files = glob.glob(directory+'/*.jpg')\n",
        "    tr_idx = round (tr_ratio * len(files))\n",
        "    \n",
        "    # random shuffle images in files\n",
        "    random.shuffle(files)\n",
        "    \n",
        "    #split files into test and train\n",
        "    train = files[:tr_idx]\n",
        "    test = files[tr_idx:]\n",
        "\n",
        "    # Create directory for flower_class under train and test\n",
        "    train_folder = 'train/'+flower_class\n",
        "    create_directory(train_folder)\n",
        "    \n",
        "    validation_folder = 'validation/'+flower_class\n",
        "    create_directory(validation_folder)\n",
        "    \n",
        "    #move files to train and validation\n",
        "    move_file(directory, train , train_folder)\n",
        "    move_file(directory, test ,validation_folder)\n",
        "\n",
        "shutil.rmtree(\"resized/\")\n"
      ],
      "id": "bf49ac3a-2d56-4194-be65-15e0d745b8f9",
      "execution_count": null,
      "outputs": [
        {
          "output_type": "stream",
          "name": "stdout",
          "text": [
            "directory created: train\n",
            "directory created: validation\n",
            "directory created: train/tulips\n",
            "directory created: validation/tulips\n",
            "directory created: train/daisy\n",
            "directory created: validation/daisy\n",
            "directory created: train/dandelion\n",
            "directory created: validation/dandelion\n",
            "directory created: train/roses\n",
            "directory created: validation/roses\n",
            "directory created: train/sunflowers\n",
            "directory created: validation/sunflowers\n"
          ]
        }
      ]
    },
    {
      "cell_type": "markdown",
      "metadata": {
        "id": "wOTg64aFy8Ei"
      },
      "source": [
        "# Train-Validation Configuration"
      ],
      "id": "wOTg64aFy8Ei"
    },
    {
      "cell_type": "code",
      "metadata": {
        "colab": {
          "base_uri": "https://localhost:8080/"
        },
        "id": "PGtcHegdy7Rc",
        "outputId": "d9670a05-cda7-49f2-b7de-268b45f8f934"
      },
      "source": [
        "train_data_dir = 'train/'\n",
        "validation_data_dir = 'validation/'\n",
        "\n",
        "image_w, image_h = 150, 150\n",
        "\n",
        "# set the following parameters as per your preference\n",
        "batch_size = 30\n",
        "\n",
        "# Data augmentation \n",
        "train_datagen = ImageDataGenerator(\n",
        "    rescale=1. / 255,\n",
        "    rotation_range = 40,\n",
        "    shear_range=0.2,\n",
        "    zoom_range=0.3,\n",
        "    horizontal_flip=True,\n",
        "    fill_mode = 'nearest')\n",
        "\n",
        "train_generator = train_datagen.flow_from_directory(\n",
        "    train_data_dir,\n",
        "    target_size=(image_w, image_h),\n",
        "    color_mode ='rgb', \n",
        "    batch_size=batch_size,\n",
        "    class_mode='binary',\n",
        "    seed = 42,)\n",
        "\n",
        "# rescaling\n",
        "validation_datagen = ImageDataGenerator(rescale=1. / 255)\n",
        "\n",
        "validation_generator = validation_datagen.flow_from_directory(\n",
        "    validation_data_dir,\n",
        "    target_size=(image_w, image_h),\n",
        "    color_mode ='rgb', \n",
        "    batch_size=batch_size,\n",
        "    class_mode='binary',\n",
        "    seed = 42,)"
      ],
      "id": "PGtcHegdy7Rc",
      "execution_count": null,
      "outputs": [
        {
          "output_type": "stream",
          "name": "stdout",
          "text": [
            "Found 2753 images belonging to 5 classes.\n",
            "Found 917 images belonging to 5 classes.\n"
          ]
        }
      ]
    },
    {
      "cell_type": "markdown",
      "metadata": {
        "id": "f18c1de8-61b6-4cb8-9b35-eabf935ee070"
      },
      "source": [
        "# Model VGG16 - Top Layer Removed"
      ],
      "id": "f18c1de8-61b6-4cb8-9b35-eabf935ee070"
    },
    {
      "cell_type": "code",
      "metadata": {
        "id": "dc7aa8d3-3e6b-4e8a-b3a8-f3e96aa48d32"
      },
      "source": [
        "# VGG16 pre-trained model without fully connected layers and with different input dimensions\n",
        "def model_vgg():\n",
        "    modelvgg = tf.keras.applications.VGG16(\n",
        "        weights = \"imagenet\", \n",
        "        include_top=False, \n",
        "        input_shape = (image_w, image_h, 3)\n",
        "    )\n",
        "    return modelvgg\n",
        "\n",
        "#model_vgg().summary()"
      ],
      "id": "dc7aa8d3-3e6b-4e8a-b3a8-f3e96aa48d32",
      "execution_count": null,
      "outputs": []
    },
    {
      "cell_type": "markdown",
      "metadata": {
        "id": "edf00252-c9b2-43c8-8532-ae747bce12ab"
      },
      "source": [
        "# Functions"
      ],
      "id": "edf00252-c9b2-43c8-8532-ae747bce12ab"
    },
    {
      "cell_type": "markdown",
      "metadata": {
        "id": "c8beab81-78a0-450a-9483-3b2bc2a5c2c2"
      },
      "source": [
        "## Freezing all layers"
      ],
      "id": "c8beab81-78a0-450a-9483-3b2bc2a5c2c2"
    },
    {
      "cell_type": "code",
      "metadata": {
        "id": "74d920c5-a92d-4222-9fd6-193d3615a89d"
      },
      "source": [
        "# Freezing all layers we don't want to train\n",
        "def unfreeze_layers(model, n=0, unfreeze_all = False):\n",
        "    ''' n : number of layers to freeze'''\n",
        "    for layer in model.layers:\n",
        "        layer.trainable = True\n",
        "    \n",
        "    # if unfreeze_all == 1 then skip this step\n",
        "    if unfreeze_all == False:\n",
        "\n",
        "        # Unfreeze layers as defined by n\n",
        "        for layer in model.layers[:len(model.layers)-n]:\n",
        "            layer.trainable = False\n",
        "    layers = [] \n",
        "    for i, layer in enumerate(model.layers): \n",
        "            layers.append([layer.name, layer.trainable])\n",
        "    print (layers)"
      ],
      "id": "74d920c5-a92d-4222-9fd6-193d3615a89d",
      "execution_count": null,
      "outputs": []
    },
    {
      "cell_type": "markdown",
      "metadata": {
        "id": "cb59e57f-00a4-4e06-80f3-98197247d6e7"
      },
      "source": [
        "## Add Fully Connected End Layers"
      ],
      "id": "cb59e57f-00a4-4e06-80f3-98197247d6e7"
    },
    {
      "cell_type": "code",
      "metadata": {
        "id": "742d0991-05af-4b7f-a6e6-a53317950076"
      },
      "source": [
        "# Adding custom layers to create a new model \n",
        "# one with 256 nodes using ‘relu’ activation and output layer with 5 nodes and ‘softmax’ activation)\n",
        "# model\n",
        "def model_custom(frozenLayers = 0,unfreeze_all = False, lr =0.01, dropoutRatio = 0.2, l2Regularizer = 0.01):\n",
        "    model = model_vgg()\n",
        "    unfreeze_layers(model, frozenLayers, unfreeze_all)\n",
        "    model1 = Sequential([\n",
        "        model,\n",
        "        Flatten(name='flatten'),\n",
        "        Dense(256, activation='relu', name='new_fc1', \n",
        "              kernel_initializer=\"HeNormal\", \n",
        "              kernel_regularizer = regularizers.l2(l2Regularizer)),\n",
        "        Dropout(dropoutRatio),\n",
        "        Dense(5, activation='softmax', \n",
        "              name='new_predictions')\n",
        "    ])\n",
        "\n",
        "    print (model1.summary())\n",
        "\n",
        "    optimizer = tf.keras.optimizers.Adam(learning_rate=lr,)\n",
        "\n",
        "    model1.compile(\n",
        "        loss = tf.keras.losses.SparseCategoricalCrossentropy(from_logits=True), \n",
        "        optimizer = optimizer, \n",
        "        metrics=[\"accuracy\"])\n",
        "\n",
        "    return model1"
      ],
      "id": "742d0991-05af-4b7f-a6e6-a53317950076",
      "execution_count": null,
      "outputs": []
    },
    {
      "cell_type": "markdown",
      "metadata": {
        "id": "C_Poj89aCscG"
      },
      "source": [
        "## Plot Loss"
      ],
      "id": "C_Poj89aCscG"
    },
    {
      "cell_type": "code",
      "metadata": {
        "id": "E5w1YHxQCujr"
      },
      "source": [
        "import matplotlib.pyplot as plt\n",
        "def plot_loss(history):\n",
        "  # Get training and test loss histories\n",
        "  training_loss = history.history['loss']\n",
        "  test_loss = history.history['val_loss']\n",
        "\n",
        "  # Create count of the number of epochs\n",
        "  epoch_count = range(1, len(training_loss) + 1)\n",
        "\n",
        "  # Visualize loss history\n",
        "  plt.plot(epoch_count, training_loss, 'r--')\n",
        "  plt.plot(epoch_count, test_loss, 'b-')\n",
        "  plt.legend(['Training Loss', 'Test Loss'])\n",
        "  plt.xlabel('Epoch')\n",
        "  plt.ylabel('Loss')\n",
        "  plt.show()\n",
        "\n",
        "def plot_accuracy(history):\n",
        "  # Get training and test loss histories\n",
        "  training_loss = history.history['accuracy']\n",
        "  test_loss = history.history['val_accuracy']\n",
        "\n",
        "  # Create count of the number of epochs\n",
        "  epoch_count = range(1, len(training_loss) + 1)\n",
        "\n",
        "  # Visualize loss history\n",
        "  plt.plot(epoch_count, training_loss, 'r--')\n",
        "  plt.plot(epoch_count, test_loss, 'b-')\n",
        "  plt.legend(['Training Accuracy', 'Test Accuracy'])\n",
        "  plt.xlabel('Epoch')\n",
        "  plt.ylabel('Accuracy')\n",
        "  plt.show()"
      ],
      "id": "E5w1YHxQCujr",
      "execution_count": null,
      "outputs": []
    },
    {
      "cell_type": "code",
      "metadata": {
        "id": "G5uu9CA141i8"
      },
      "source": [
        "nb_train_samples = 1000\n",
        "nb_validation_samples = 600"
      ],
      "id": "G5uu9CA141i8",
      "execution_count": null,
      "outputs": []
    },
    {
      "cell_type": "markdown",
      "metadata": {
        "id": "6b95614b-a9dd-4510-a9a2-11676ec66910"
      },
      "source": [
        "# First Model - No Layers Trainable"
      ],
      "id": "6b95614b-a9dd-4510-a9a2-11676ec66910"
    },
    {
      "cell_type": "code",
      "metadata": {
        "colab": {
          "base_uri": "https://localhost:8080/"
        },
        "id": "4c0335b8-b3b7-49cf-b665-db489ee3b4fa",
        "outputId": "344db9fe-fbe0-41e2-96c5-c734c115fb86"
      },
      "source": [
        "%%time\n",
        "model1 = model_custom(frozenLayers = 0,unfreeze_all = False,\n",
        "                      lr = 0.00001, dropoutRatio = 0.2, l2Regularizer = 0.01)\n",
        "\n",
        "# Basically tune the weights of the newly added fully connected layers\n",
        "history1 = model1.fit_generator(\n",
        "    train_generator,\n",
        "    steps_per_epoch=nb_train_samples // batch_size,\n",
        "    epochs=100,\n",
        "    validation_data=validation_generator,\n",
        "    validation_steps=nb_validation_samples // batch_size)"
      ],
      "id": "4c0335b8-b3b7-49cf-b665-db489ee3b4fa",
      "execution_count": null,
      "outputs": [
        {
          "output_type": "stream",
          "name": "stdout",
          "text": [
            "[['input_4', False], ['block1_conv1', False], ['block1_conv2', False], ['block1_pool', False], ['block2_conv1', False], ['block2_conv2', False], ['block2_pool', False], ['block3_conv1', False], ['block3_conv2', False], ['block3_conv3', False], ['block3_pool', False], ['block4_conv1', False], ['block4_conv2', False], ['block4_conv3', False], ['block4_pool', False], ['block5_conv1', False], ['block5_conv2', False], ['block5_conv3', False], ['block5_pool', False]]\n",
            "Model: \"sequential_3\"\n",
            "_________________________________________________________________\n",
            "Layer (type)                 Output Shape              Param #   \n",
            "=================================================================\n",
            "vgg16 (Functional)           (None, 4, 4, 512)         14714688  \n",
            "_________________________________________________________________\n",
            "flatten (Flatten)            (None, 8192)              0         \n",
            "_________________________________________________________________\n",
            "new_fc1 (Dense)              (None, 256)               2097408   \n",
            "_________________________________________________________________\n",
            "dropout_3 (Dropout)          (None, 256)               0         \n",
            "_________________________________________________________________\n",
            "new_predictions (Dense)      (None, 5)                 1285      \n",
            "=================================================================\n",
            "Total params: 16,813,381\n",
            "Trainable params: 2,098,693\n",
            "Non-trainable params: 14,714,688\n",
            "_________________________________________________________________\n",
            "None\n",
            "Epoch 1/100\n",
            "33/33 [==============================] - 12s 323ms/step - loss: 6.7497 - accuracy: 0.2677 - val_loss: 6.5901 - val_accuracy: 0.3183\n",
            "Epoch 2/100\n",
            "33/33 [==============================] - 10s 314ms/step - loss: 6.5648 - accuracy: 0.3030 - val_loss: 6.4158 - val_accuracy: 0.4317\n",
            "Epoch 3/100\n",
            "33/33 [==============================] - 10s 314ms/step - loss: 6.3814 - accuracy: 0.4020 - val_loss: 6.2638 - val_accuracy: 0.4950\n",
            "Epoch 4/100\n",
            "33/33 [==============================] - 10s 314ms/step - loss: 6.2328 - accuracy: 0.4619 - val_loss: 6.1150 - val_accuracy: 0.5500\n",
            "Epoch 5/100\n",
            "33/33 [==============================] - 10s 314ms/step - loss: 6.1224 - accuracy: 0.4899 - val_loss: 5.9682 - val_accuracy: 0.5883\n",
            "Epoch 6/100\n",
            "33/33 [==============================] - 10s 316ms/step - loss: 5.9943 - accuracy: 0.5030 - val_loss: 5.8476 - val_accuracy: 0.6283\n",
            "Epoch 7/100\n",
            "33/33 [==============================] - 10s 314ms/step - loss: 5.8377 - accuracy: 0.5738 - val_loss: 5.7400 - val_accuracy: 0.6300\n",
            "Epoch 8/100\n",
            "33/33 [==============================] - 10s 314ms/step - loss: 5.7431 - accuracy: 0.5808 - val_loss: 5.6333 - val_accuracy: 0.6450\n",
            "Epoch 9/100\n",
            "33/33 [==============================] - 10s 313ms/step - loss: 5.6514 - accuracy: 0.5910 - val_loss: 5.5383 - val_accuracy: 0.6733\n",
            "Epoch 10/100\n",
            "33/33 [==============================] - 10s 312ms/step - loss: 5.5474 - accuracy: 0.6104 - val_loss: 5.4202 - val_accuracy: 0.6833\n",
            "Epoch 11/100\n",
            "33/33 [==============================] - 10s 313ms/step - loss: 5.4969 - accuracy: 0.5848 - val_loss: 5.3894 - val_accuracy: 0.6467\n",
            "Epoch 12/100\n",
            "33/33 [==============================] - 10s 311ms/step - loss: 5.3760 - accuracy: 0.6256 - val_loss: 5.2775 - val_accuracy: 0.6850\n",
            "Epoch 13/100\n",
            "33/33 [==============================] - 10s 314ms/step - loss: 5.2766 - accuracy: 0.6485 - val_loss: 5.2027 - val_accuracy: 0.6733\n",
            "Epoch 14/100\n",
            "33/33 [==============================] - 10s 314ms/step - loss: 5.2105 - accuracy: 0.6667 - val_loss: 5.0929 - val_accuracy: 0.7233\n",
            "Epoch 15/100\n",
            "33/33 [==============================] - 10s 314ms/step - loss: 5.1377 - accuracy: 0.6737 - val_loss: 5.0173 - val_accuracy: 0.7167\n",
            "Epoch 16/100\n",
            "33/33 [==============================] - 10s 314ms/step - loss: 5.0615 - accuracy: 0.6677 - val_loss: 4.9565 - val_accuracy: 0.7317\n",
            "Epoch 17/100\n",
            "33/33 [==============================] - 10s 314ms/step - loss: 4.9732 - accuracy: 0.6928 - val_loss: 4.9002 - val_accuracy: 0.7350\n",
            "Epoch 18/100\n",
            "33/33 [==============================] - 10s 316ms/step - loss: 4.9402 - accuracy: 0.6889 - val_loss: 4.8302 - val_accuracy: 0.7367\n",
            "Epoch 19/100\n",
            "33/33 [==============================] - 10s 313ms/step - loss: 4.8438 - accuracy: 0.6879 - val_loss: 4.7960 - val_accuracy: 0.7367\n",
            "Epoch 20/100\n",
            "33/33 [==============================] - 10s 313ms/step - loss: 4.8112 - accuracy: 0.6897 - val_loss: 4.6977 - val_accuracy: 0.7500\n",
            "Epoch 21/100\n",
            "33/33 [==============================] - 10s 312ms/step - loss: 4.7515 - accuracy: 0.6918 - val_loss: 4.6403 - val_accuracy: 0.7650\n",
            "Epoch 22/100\n",
            "33/33 [==============================] - 10s 314ms/step - loss: 4.6786 - accuracy: 0.7141 - val_loss: 4.5933 - val_accuracy: 0.7533\n",
            "Epoch 23/100\n",
            "33/33 [==============================] - 10s 315ms/step - loss: 4.6354 - accuracy: 0.7131 - val_loss: 4.5377 - val_accuracy: 0.7633\n",
            "Epoch 24/100\n",
            "33/33 [==============================] - 10s 313ms/step - loss: 4.5717 - accuracy: 0.7121 - val_loss: 4.4813 - val_accuracy: 0.7533\n",
            "Epoch 25/100\n",
            "33/33 [==============================] - 10s 313ms/step - loss: 4.5219 - accuracy: 0.7213 - val_loss: 4.4543 - val_accuracy: 0.7467\n",
            "Epoch 26/100\n",
            "33/33 [==============================] - 10s 316ms/step - loss: 4.4675 - accuracy: 0.7212 - val_loss: 4.3951 - val_accuracy: 0.7717\n",
            "Epoch 27/100\n",
            "33/33 [==============================] - 10s 316ms/step - loss: 4.4092 - accuracy: 0.7343 - val_loss: 4.3267 - val_accuracy: 0.7717\n",
            "Epoch 28/100\n",
            "33/33 [==============================] - 10s 315ms/step - loss: 4.3708 - accuracy: 0.7345 - val_loss: 4.2947 - val_accuracy: 0.7667\n",
            "Epoch 29/100\n",
            "33/33 [==============================] - 10s 317ms/step - loss: 4.3610 - accuracy: 0.7010 - val_loss: 4.2429 - val_accuracy: 0.7633\n",
            "Epoch 30/100\n",
            "33/33 [==============================] - 10s 314ms/step - loss: 4.2567 - accuracy: 0.7447 - val_loss: 4.1912 - val_accuracy: 0.7617\n",
            "Epoch 31/100\n",
            "33/33 [==============================] - 10s 315ms/step - loss: 4.2690 - accuracy: 0.7050 - val_loss: 4.1276 - val_accuracy: 0.7783\n",
            "Epoch 32/100\n",
            "33/33 [==============================] - 10s 317ms/step - loss: 4.1790 - accuracy: 0.7396 - val_loss: 4.1463 - val_accuracy: 0.7650\n",
            "Epoch 33/100\n",
            "33/33 [==============================] - 10s 316ms/step - loss: 4.1389 - accuracy: 0.7465 - val_loss: 4.0604 - val_accuracy: 0.7767\n",
            "Epoch 34/100\n",
            "33/33 [==============================] - 10s 317ms/step - loss: 4.1423 - accuracy: 0.7141 - val_loss: 4.0515 - val_accuracy: 0.7733\n",
            "Epoch 35/100\n",
            "33/33 [==============================] - 10s 316ms/step - loss: 4.0739 - accuracy: 0.7566 - val_loss: 3.9987 - val_accuracy: 0.7650\n",
            "Epoch 36/100\n",
            "33/33 [==============================] - 10s 315ms/step - loss: 4.0203 - accuracy: 0.7495 - val_loss: 3.9555 - val_accuracy: 0.7717\n",
            "Epoch 37/100\n",
            "33/33 [==============================] - 10s 316ms/step - loss: 3.9543 - accuracy: 0.7630 - val_loss: 3.9057 - val_accuracy: 0.7833\n",
            "Epoch 38/100\n",
            "33/33 [==============================] - 10s 316ms/step - loss: 3.9290 - accuracy: 0.7586 - val_loss: 3.8554 - val_accuracy: 0.7767\n",
            "Epoch 39/100\n",
            "33/33 [==============================] - 10s 315ms/step - loss: 3.9302 - accuracy: 0.7455 - val_loss: 3.8343 - val_accuracy: 0.7883\n",
            "Epoch 40/100\n",
            "33/33 [==============================] - 10s 315ms/step - loss: 3.8601 - accuracy: 0.7758 - val_loss: 3.8037 - val_accuracy: 0.7683\n",
            "Epoch 41/100\n",
            "33/33 [==============================] - 10s 313ms/step - loss: 3.8065 - accuracy: 0.7497 - val_loss: 3.7414 - val_accuracy: 0.8017\n",
            "Epoch 42/100\n",
            "33/33 [==============================] - 10s 314ms/step - loss: 3.8122 - accuracy: 0.7495 - val_loss: 3.7251 - val_accuracy: 0.7833\n",
            "Epoch 43/100\n",
            "33/33 [==============================] - 10s 316ms/step - loss: 3.7987 - accuracy: 0.7485 - val_loss: 3.7040 - val_accuracy: 0.7750\n",
            "Epoch 44/100\n",
            "33/33 [==============================] - 10s 316ms/step - loss: 3.7173 - accuracy: 0.7616 - val_loss: 3.6805 - val_accuracy: 0.7733\n",
            "Epoch 45/100\n",
            "33/33 [==============================] - 10s 316ms/step - loss: 3.6734 - accuracy: 0.7727 - val_loss: 3.6144 - val_accuracy: 0.7850\n",
            "Epoch 46/100\n",
            "33/33 [==============================] - 10s 315ms/step - loss: 3.5808 - accuracy: 0.7970 - val_loss: 3.5810 - val_accuracy: 0.7783\n",
            "Epoch 47/100\n",
            "33/33 [==============================] - 10s 315ms/step - loss: 3.6155 - accuracy: 0.7640 - val_loss: 3.5671 - val_accuracy: 0.7767\n",
            "Epoch 48/100\n",
            "33/33 [==============================] - 10s 316ms/step - loss: 3.5917 - accuracy: 0.7758 - val_loss: 3.5347 - val_accuracy: 0.7850\n",
            "Epoch 49/100\n",
            "33/33 [==============================] - 10s 315ms/step - loss: 3.5245 - accuracy: 0.7874 - val_loss: 3.4832 - val_accuracy: 0.7933\n",
            "Epoch 50/100\n",
            "33/33 [==============================] - 10s 314ms/step - loss: 3.4797 - accuracy: 0.7884 - val_loss: 3.4487 - val_accuracy: 0.8083\n",
            "Epoch 51/100\n",
            "33/33 [==============================] - 10s 316ms/step - loss: 3.4944 - accuracy: 0.7721 - val_loss: 3.4578 - val_accuracy: 0.7700\n",
            "Epoch 52/100\n",
            "33/33 [==============================] - 10s 317ms/step - loss: 3.4598 - accuracy: 0.7721 - val_loss: 3.4247 - val_accuracy: 0.7900\n",
            "Epoch 53/100\n",
            "33/33 [==============================] - 10s 314ms/step - loss: 3.4310 - accuracy: 0.7762 - val_loss: 3.3987 - val_accuracy: 0.7683\n",
            "Epoch 54/100\n",
            "33/33 [==============================] - 10s 315ms/step - loss: 3.4355 - accuracy: 0.7545 - val_loss: 3.3439 - val_accuracy: 0.8033\n",
            "Epoch 55/100\n",
            "33/33 [==============================] - 10s 315ms/step - loss: 3.3966 - accuracy: 0.7701 - val_loss: 3.3055 - val_accuracy: 0.7950\n",
            "Epoch 56/100\n",
            "33/33 [==============================] - 10s 315ms/step - loss: 3.3703 - accuracy: 0.7742 - val_loss: 3.3020 - val_accuracy: 0.7883\n",
            "Epoch 57/100\n",
            "33/33 [==============================] - 10s 317ms/step - loss: 3.3234 - accuracy: 0.7657 - val_loss: 3.2656 - val_accuracy: 0.8017\n",
            "Epoch 58/100\n",
            "33/33 [==============================] - 10s 316ms/step - loss: 3.2750 - accuracy: 0.7828 - val_loss: 3.2587 - val_accuracy: 0.7833\n",
            "Epoch 59/100\n",
            "33/33 [==============================] - 10s 316ms/step - loss: 3.2279 - accuracy: 0.8010 - val_loss: 3.2477 - val_accuracy: 0.7783\n",
            "Epoch 60/100\n",
            "33/33 [==============================] - 10s 315ms/step - loss: 3.2084 - accuracy: 0.7939 - val_loss: 3.1815 - val_accuracy: 0.8033\n",
            "Epoch 61/100\n",
            "33/33 [==============================] - 10s 314ms/step - loss: 3.2378 - accuracy: 0.7711 - val_loss: 3.1320 - val_accuracy: 0.7950\n",
            "Epoch 62/100\n",
            "33/33 [==============================] - 10s 316ms/step - loss: 3.2046 - accuracy: 0.7636 - val_loss: 3.1318 - val_accuracy: 0.8000\n",
            "Epoch 63/100\n",
            "33/33 [==============================] - 10s 315ms/step - loss: 3.1771 - accuracy: 0.7640 - val_loss: 3.1144 - val_accuracy: 0.8017\n",
            "Epoch 64/100\n",
            "33/33 [==============================] - 10s 316ms/step - loss: 3.1437 - accuracy: 0.7758 - val_loss: 3.0866 - val_accuracy: 0.8083\n",
            "Epoch 65/100\n",
            "33/33 [==============================] - 10s 314ms/step - loss: 3.1037 - accuracy: 0.7970 - val_loss: 3.0855 - val_accuracy: 0.7883\n",
            "Epoch 66/100\n",
            "33/33 [==============================] - 10s 317ms/step - loss: 3.0936 - accuracy: 0.7838 - val_loss: 3.0726 - val_accuracy: 0.7933\n",
            "Epoch 67/100\n",
            "33/33 [==============================] - 10s 314ms/step - loss: 3.0537 - accuracy: 0.7859 - val_loss: 3.0415 - val_accuracy: 0.8000\n",
            "Epoch 68/100\n",
            "33/33 [==============================] - 10s 312ms/step - loss: 3.0753 - accuracy: 0.7798 - val_loss: 3.0092 - val_accuracy: 0.8117\n",
            "Epoch 69/100\n",
            "33/33 [==============================] - 10s 313ms/step - loss: 3.0091 - accuracy: 0.7869 - val_loss: 3.0010 - val_accuracy: 0.7950\n",
            "Epoch 70/100\n",
            "33/33 [==============================] - 10s 312ms/step - loss: 2.9897 - accuracy: 0.7915 - val_loss: 2.9420 - val_accuracy: 0.8133\n",
            "Epoch 71/100\n",
            "33/33 [==============================] - 10s 314ms/step - loss: 2.9954 - accuracy: 0.7798 - val_loss: 2.9598 - val_accuracy: 0.8067\n",
            "Epoch 72/100\n",
            "33/33 [==============================] - 10s 315ms/step - loss: 2.9209 - accuracy: 0.8152 - val_loss: 2.9414 - val_accuracy: 0.7967\n",
            "Epoch 73/100\n",
            "33/33 [==============================] - 10s 313ms/step - loss: 2.9544 - accuracy: 0.7859 - val_loss: 2.9144 - val_accuracy: 0.7950\n",
            "Epoch 74/100\n",
            "33/33 [==============================] - 10s 313ms/step - loss: 2.8681 - accuracy: 0.8152 - val_loss: 2.9324 - val_accuracy: 0.7767\n",
            "Epoch 75/100\n",
            "33/33 [==============================] - 11s 319ms/step - loss: 2.8663 - accuracy: 0.8020 - val_loss: 2.8748 - val_accuracy: 0.7983\n",
            "Epoch 76/100\n",
            "33/33 [==============================] - 10s 318ms/step - loss: 2.8796 - accuracy: 0.7899 - val_loss: 2.8688 - val_accuracy: 0.7917\n",
            "Epoch 77/100\n",
            "33/33 [==============================] - 11s 318ms/step - loss: 2.8790 - accuracy: 0.7737 - val_loss: 2.8447 - val_accuracy: 0.7833\n",
            "Epoch 78/100\n",
            "33/33 [==============================] - 10s 318ms/step - loss: 2.8117 - accuracy: 0.8061 - val_loss: 2.8332 - val_accuracy: 0.7817\n",
            "Epoch 79/100\n",
            "33/33 [==============================] - 11s 319ms/step - loss: 2.8344 - accuracy: 0.7949 - val_loss: 2.7686 - val_accuracy: 0.7983\n",
            "Epoch 80/100\n",
            "33/33 [==============================] - 11s 317ms/step - loss: 2.8595 - accuracy: 0.7697 - val_loss: 2.7698 - val_accuracy: 0.8083\n",
            "Epoch 81/100\n",
            "33/33 [==============================] - 10s 317ms/step - loss: 2.8019 - accuracy: 0.7828 - val_loss: 2.7611 - val_accuracy: 0.8000\n",
            "Epoch 82/100\n",
            "33/33 [==============================] - 10s 316ms/step - loss: 2.7687 - accuracy: 0.8010 - val_loss: 2.7437 - val_accuracy: 0.8067\n",
            "Epoch 83/100\n",
            "33/33 [==============================] - 10s 316ms/step - loss: 2.7817 - accuracy: 0.7879 - val_loss: 2.7087 - val_accuracy: 0.8100\n",
            "Epoch 84/100\n",
            "33/33 [==============================] - 10s 316ms/step - loss: 2.7129 - accuracy: 0.8030 - val_loss: 2.7062 - val_accuracy: 0.8000\n",
            "Epoch 85/100\n",
            "33/33 [==============================] - 11s 318ms/step - loss: 2.7208 - accuracy: 0.7919 - val_loss: 2.6995 - val_accuracy: 0.8017\n",
            "Epoch 86/100\n",
            "33/33 [==============================] - 10s 315ms/step - loss: 2.6849 - accuracy: 0.8087 - val_loss: 2.6730 - val_accuracy: 0.8117\n",
            "Epoch 87/100\n",
            "33/33 [==============================] - 10s 318ms/step - loss: 2.6637 - accuracy: 0.7949 - val_loss: 2.6543 - val_accuracy: 0.8083\n",
            "Epoch 88/100\n",
            "33/33 [==============================] - 11s 318ms/step - loss: 2.6532 - accuracy: 0.8000 - val_loss: 2.6530 - val_accuracy: 0.7967\n",
            "Epoch 89/100\n",
            "33/33 [==============================] - 10s 316ms/step - loss: 2.6366 - accuracy: 0.7996 - val_loss: 2.6003 - val_accuracy: 0.8050\n",
            "Epoch 90/100\n",
            "33/33 [==============================] - 10s 315ms/step - loss: 2.5977 - accuracy: 0.8179 - val_loss: 2.6319 - val_accuracy: 0.7983\n",
            "Epoch 91/100\n",
            "33/33 [==============================] - 10s 317ms/step - loss: 2.5960 - accuracy: 0.8182 - val_loss: 2.5940 - val_accuracy: 0.8050\n",
            "Epoch 92/100\n",
            "33/33 [==============================] - 10s 315ms/step - loss: 2.5552 - accuracy: 0.8210 - val_loss: 2.5489 - val_accuracy: 0.8167\n",
            "Epoch 93/100\n",
            "33/33 [==============================] - 11s 318ms/step - loss: 2.5991 - accuracy: 0.7909 - val_loss: 2.5518 - val_accuracy: 0.8067\n",
            "Epoch 94/100\n",
            "33/33 [==============================] - 10s 316ms/step - loss: 2.5784 - accuracy: 0.7955 - val_loss: 2.5406 - val_accuracy: 0.8117\n",
            "Epoch 95/100\n",
            "33/33 [==============================] - 10s 317ms/step - loss: 2.5429 - accuracy: 0.8128 - val_loss: 2.5166 - val_accuracy: 0.8100\n",
            "Epoch 96/100\n",
            "33/33 [==============================] - 11s 318ms/step - loss: 2.5200 - accuracy: 0.8081 - val_loss: 2.5108 - val_accuracy: 0.8050\n",
            "Epoch 97/100\n",
            "33/33 [==============================] - 11s 317ms/step - loss: 2.4917 - accuracy: 0.8182 - val_loss: 2.5332 - val_accuracy: 0.7967\n",
            "Epoch 98/100\n",
            "33/33 [==============================] - 11s 319ms/step - loss: 2.5199 - accuracy: 0.7970 - val_loss: 2.4868 - val_accuracy: 0.8150\n",
            "Epoch 99/100\n",
            "33/33 [==============================] - 10s 316ms/step - loss: 2.4777 - accuracy: 0.8047 - val_loss: 2.4952 - val_accuracy: 0.8100\n",
            "Epoch 100/100\n",
            "33/33 [==============================] - 10s 317ms/step - loss: 2.4722 - accuracy: 0.8189 - val_loss: 2.4644 - val_accuracy: 0.8117\n",
            "CPU times: user 16min 57s, sys: 47 s, total: 17min 44s\n",
            "Wall time: 26min 36s\n"
          ]
        }
      ]
    },
    {
      "cell_type": "markdown",
      "metadata": {
        "id": "FWoQQmOVJnZr"
      },
      "source": [
        "## Loss Evaluation"
      ],
      "id": "FWoQQmOVJnZr"
    },
    {
      "cell_type": "code",
      "metadata": {
        "colab": {
          "base_uri": "https://localhost:8080/",
          "height": 541
        },
        "id": "csYrmCOfJlDc",
        "outputId": "4922f179-1f6e-4bc4-9c0a-785d047711ae"
      },
      "source": [
        "plot_loss(history1)\n",
        "plot_accuracy(history1)"
      ],
      "id": "csYrmCOfJlDc",
      "execution_count": null,
      "outputs": [
        {
          "output_type": "display_data",
          "data": {
            "image/png": "[encoded data removed]",
            "text/plain": [
              "<Figure size 432x288 with 1 Axes>"
            ]
          },
          "metadata": {
            "needs_background": "light"
          }
        },
        {
          "output_type": "display_data",
          "data": {
            "image/png": "[encoded data removed]",
            "text/plain": [
              "<Figure size 432x288 with 1 Axes>"
            ]
          },
          "metadata": {
            "needs_background": "light"
          }
        }
      ]
    },
    {
      "cell_type": "markdown",
      "metadata": {
        "id": "7032009d-a7e0-466d-b8df-76d39a51f1ba"
      },
      "source": [
        "## Evaluate Model\n",
        "- the accuracy on the test model is high compared to the accuracy on the validation set. This indicates significant overfit of the model. "
      ],
      "id": "7032009d-a7e0-466d-b8df-76d39a51f1ba"
    },
    {
      "cell_type": "markdown",
      "metadata": {
        "id": "97a7918e-9395-4aeb-ba3b-da12674d4bfa"
      },
      "source": [
        "# Second Model - Last Layer Trainable"
      ],
      "id": "97a7918e-9395-4aeb-ba3b-da12674d4bfa"
    },
    {
      "cell_type": "markdown",
      "metadata": {
        "id": "48b6a8d2-3915-4239-bf8d-d2442e6d366d"
      },
      "source": [
        "## Unfreeze Last Layer (Batch5)"
      ],
      "id": "48b6a8d2-3915-4239-bf8d-d2442e6d366d"
    },
    {
      "cell_type": "code",
      "metadata": {
        "id": "872b390a-a347-446d-a80b-477ed3ed2193",
        "colab": {
          "base_uri": "https://localhost:8080/"
        },
        "outputId": "d1f3d516-cf46-4003-a030-1070800fdbed"
      },
      "source": [
        "%%time\n",
        "model2 = model_custom(frozenLayers = 4,unfreeze_all = False,\n",
        "                      lr = 0.00001, dropoutRatio = 0.2, l2Regularizer = 0.01)\n",
        "\n",
        "# Basically tune the weights of the newly added fully connected layers along with the last layer\n",
        "history2 = model2.fit(\n",
        "    train_generator,\n",
        "    steps_per_epoch=nb_train_samples // batch_size,\n",
        "    epochs=100,\n",
        "    validation_data=validation_generator,\n",
        "    validation_steps=nb_validation_samples // batch_size)"
      ],
      "id": "872b390a-a347-446d-a80b-477ed3ed2193",
      "execution_count": null,
      "outputs": [
        {
          "output_type": "stream",
          "name": "stdout",
          "text": [
            "[['input_5', False], ['block1_conv1', False], ['block1_conv2', False], ['block1_pool', False], ['block2_conv1', False], ['block2_conv2', False], ['block2_pool', False], ['block3_conv1', False], ['block3_conv2', False], ['block3_conv3', False], ['block3_pool', False], ['block4_conv1', False], ['block4_conv2', False], ['block4_conv3', False], ['block4_pool', False], ['block5_conv1', True], ['block5_conv2', True], ['block5_conv3', True], ['block5_pool', True]]\n",
            "Model: \"sequential_4\"\n",
            "_________________________________________________________________\n",
            "Layer (type)                 Output Shape              Param #   \n",
            "=================================================================\n",
            "vgg16 (Functional)           (None, 4, 4, 512)         14714688  \n",
            "_________________________________________________________________\n",
            "flatten (Flatten)            (None, 8192)              0         \n",
            "_________________________________________________________________\n",
            "new_fc1 (Dense)              (None, 256)               2097408   \n",
            "_________________________________________________________________\n",
            "dropout_4 (Dropout)          (None, 256)               0         \n",
            "_________________________________________________________________\n",
            "new_predictions (Dense)      (None, 5)                 1285      \n",
            "=================================================================\n",
            "Total params: 16,813,381\n",
            "Trainable params: 9,178,117\n",
            "Non-trainable params: 7,635,264\n",
            "_________________________________________________________________\n",
            "None\n",
            "Epoch 1/100\n",
            "33/33 [==============================] - 13s 332ms/step - loss: 6.6973 - accuracy: 0.3051 - val_loss: 6.3838 - val_accuracy: 0.5250\n",
            "Epoch 2/100\n",
            "33/33 [==============================] - 11s 326ms/step - loss: 6.2746 - accuracy: 0.5061 - val_loss: 6.0159 - val_accuracy: 0.6450\n",
            "Epoch 3/100\n",
            "33/33 [==============================] - 11s 325ms/step - loss: 6.0025 - accuracy: 0.6051 - val_loss: 5.7533 - val_accuracy: 0.7050\n",
            "Epoch 4/100\n",
            "33/33 [==============================] - 11s 318ms/step - loss: 5.7422 - accuracy: 0.6897 - val_loss: 5.5452 - val_accuracy: 0.7483\n",
            "Epoch 5/100\n",
            "33/33 [==============================] - 11s 318ms/step - loss: 5.6116 - accuracy: 0.7162 - val_loss: 5.4077 - val_accuracy: 0.7717\n",
            "Epoch 6/100\n",
            "33/33 [==============================] - 10s 312ms/step - loss: 5.4741 - accuracy: 0.7242 - val_loss: 5.3332 - val_accuracy: 0.7817\n",
            "Epoch 7/100\n",
            "33/33 [==============================] - 10s 313ms/step - loss: 5.3702 - accuracy: 0.7596 - val_loss: 5.2523 - val_accuracy: 0.7783\n",
            "Epoch 8/100\n",
            "33/33 [==============================] - 10s 313ms/step - loss: 5.2615 - accuracy: 0.7768 - val_loss: 5.1593 - val_accuracy: 0.8067\n",
            "Epoch 9/100\n",
            "33/33 [==============================] - 10s 309ms/step - loss: 5.1688 - accuracy: 0.7838 - val_loss: 5.0660 - val_accuracy: 0.8150\n",
            "Epoch 10/100\n",
            "33/33 [==============================] - 10s 311ms/step - loss: 5.0787 - accuracy: 0.8026 - val_loss: 5.0213 - val_accuracy: 0.8233\n",
            "Epoch 11/100\n",
            "33/33 [==============================] - 10s 313ms/step - loss: 5.0129 - accuracy: 0.8202 - val_loss: 4.9778 - val_accuracy: 0.8217\n",
            "Epoch 12/100\n",
            "33/33 [==============================] - 10s 312ms/step - loss: 4.9632 - accuracy: 0.8131 - val_loss: 4.8646 - val_accuracy: 0.8467\n",
            "Epoch 13/100\n",
            "33/33 [==============================] - 11s 322ms/step - loss: 4.9197 - accuracy: 0.8192 - val_loss: 4.8203 - val_accuracy: 0.8483\n",
            "Epoch 14/100\n",
            "33/33 [==============================] - 11s 322ms/step - loss: 4.8504 - accuracy: 0.8384 - val_loss: 4.7532 - val_accuracy: 0.8633\n",
            "Epoch 15/100\n",
            "33/33 [==============================] - 11s 324ms/step - loss: 4.7489 - accuracy: 0.8414 - val_loss: 4.7387 - val_accuracy: 0.8500\n",
            "Epoch 16/100\n",
            "33/33 [==============================] - 11s 325ms/step - loss: 4.7283 - accuracy: 0.8414 - val_loss: 4.6967 - val_accuracy: 0.8417\n",
            "Epoch 17/100\n",
            "33/33 [==============================] - 11s 322ms/step - loss: 4.6418 - accuracy: 0.8596 - val_loss: 4.6531 - val_accuracy: 0.8383\n",
            "Epoch 18/100\n",
            "33/33 [==============================] - 11s 323ms/step - loss: 4.5864 - accuracy: 0.8596 - val_loss: 4.5954 - val_accuracy: 0.8483\n",
            "Epoch 19/100\n",
            "33/33 [==============================] - 11s 324ms/step - loss: 4.5780 - accuracy: 0.8474 - val_loss: 4.5746 - val_accuracy: 0.8517\n",
            "Epoch 20/100\n",
            "33/33 [==============================] - 11s 322ms/step - loss: 4.5051 - accuracy: 0.8505 - val_loss: 4.4698 - val_accuracy: 0.8633\n",
            "Epoch 21/100\n",
            "33/33 [==============================] - 11s 323ms/step - loss: 4.4773 - accuracy: 0.8535 - val_loss: 4.4625 - val_accuracy: 0.8617\n",
            "Epoch 22/100\n",
            "33/33 [==============================] - 11s 324ms/step - loss: 4.4055 - accuracy: 0.8798 - val_loss: 4.4067 - val_accuracy: 0.8533\n",
            "Epoch 23/100\n",
            "33/33 [==============================] - 11s 324ms/step - loss: 4.3735 - accuracy: 0.8768 - val_loss: 4.3907 - val_accuracy: 0.8617\n",
            "Epoch 24/100\n",
            "33/33 [==============================] - 11s 321ms/step - loss: 4.3109 - accuracy: 0.8718 - val_loss: 4.3266 - val_accuracy: 0.8683\n",
            "Epoch 25/100\n",
            "33/33 [==============================] - 11s 321ms/step - loss: 4.2753 - accuracy: 0.8778 - val_loss: 4.2949 - val_accuracy: 0.8567\n",
            "Epoch 26/100\n",
            "33/33 [==============================] - 11s 322ms/step - loss: 4.2643 - accuracy: 0.8646 - val_loss: 4.2942 - val_accuracy: 0.8633\n",
            "Epoch 27/100\n",
            "33/33 [==============================] - 11s 321ms/step - loss: 4.1740 - accuracy: 0.8952 - val_loss: 4.2194 - val_accuracy: 0.8800\n",
            "Epoch 28/100\n",
            "33/33 [==============================] - 11s 323ms/step - loss: 4.1983 - accuracy: 0.8657 - val_loss: 4.1676 - val_accuracy: 0.8700\n",
            "Epoch 29/100\n",
            "33/33 [==============================] - 11s 322ms/step - loss: 4.1094 - accuracy: 0.8909 - val_loss: 4.1319 - val_accuracy: 0.8833\n",
            "Epoch 30/100\n",
            "33/33 [==============================] - 11s 322ms/step - loss: 4.0781 - accuracy: 0.8848 - val_loss: 4.1417 - val_accuracy: 0.8683\n",
            "Epoch 31/100\n",
            "33/33 [==============================] - 11s 322ms/step - loss: 4.0593 - accuracy: 0.8859 - val_loss: 4.0702 - val_accuracy: 0.8867\n",
            "Epoch 32/100\n",
            "33/33 [==============================] - 10s 316ms/step - loss: 3.9802 - accuracy: 0.8980 - val_loss: 4.0478 - val_accuracy: 0.8700\n",
            "Epoch 33/100\n",
            "33/33 [==============================] - 11s 322ms/step - loss: 3.9352 - accuracy: 0.9061 - val_loss: 3.9990 - val_accuracy: 0.8800\n",
            "Epoch 34/100\n",
            "33/33 [==============================] - 11s 321ms/step - loss: 3.9506 - accuracy: 0.8840 - val_loss: 3.9726 - val_accuracy: 0.8867\n",
            "Epoch 35/100\n",
            "33/33 [==============================] - 11s 323ms/step - loss: 3.8993 - accuracy: 0.8980 - val_loss: 3.9489 - val_accuracy: 0.8783\n",
            "Epoch 36/100\n",
            "33/33 [==============================] - 11s 323ms/step - loss: 3.8614 - accuracy: 0.8939 - val_loss: 3.9213 - val_accuracy: 0.8933\n",
            "Epoch 37/100\n",
            "33/33 [==============================] - 11s 327ms/step - loss: 3.8657 - accuracy: 0.8949 - val_loss: 3.9215 - val_accuracy: 0.8600\n",
            "Epoch 38/100\n",
            "33/33 [==============================] - 11s 323ms/step - loss: 3.7680 - accuracy: 0.9237 - val_loss: 3.8361 - val_accuracy: 0.8883\n",
            "Epoch 39/100\n",
            "33/33 [==============================] - 11s 324ms/step - loss: 3.7938 - accuracy: 0.9020 - val_loss: 3.8325 - val_accuracy: 0.8800\n",
            "Epoch 40/100\n",
            "33/33 [==============================] - 11s 319ms/step - loss: 3.7179 - accuracy: 0.9135 - val_loss: 3.8023 - val_accuracy: 0.8950\n",
            "Epoch 41/100\n",
            "33/33 [==============================] - 11s 321ms/step - loss: 3.7199 - accuracy: 0.9000 - val_loss: 3.8084 - val_accuracy: 0.8833\n",
            "Epoch 42/100\n",
            "33/33 [==============================] - 11s 320ms/step - loss: 3.6636 - accuracy: 0.9145 - val_loss: 3.7388 - val_accuracy: 0.8917\n",
            "Epoch 43/100\n",
            "33/33 [==============================] - 11s 320ms/step - loss: 3.6397 - accuracy: 0.9212 - val_loss: 3.7082 - val_accuracy: 0.8883\n",
            "Epoch 44/100\n",
            "33/33 [==============================] - 11s 322ms/step - loss: 3.6303 - accuracy: 0.9141 - val_loss: 3.7048 - val_accuracy: 0.8917\n",
            "Epoch 45/100\n",
            "33/33 [==============================] - 11s 320ms/step - loss: 3.5869 - accuracy: 0.9131 - val_loss: 3.6756 - val_accuracy: 0.8817\n",
            "Epoch 46/100\n",
            "33/33 [==============================] - 11s 318ms/step - loss: 3.5398 - accuracy: 0.9323 - val_loss: 3.6154 - val_accuracy: 0.8967\n",
            "Epoch 47/100\n",
            "33/33 [==============================] - 11s 324ms/step - loss: 3.5005 - accuracy: 0.9293 - val_loss: 3.6214 - val_accuracy: 0.8900\n",
            "Epoch 48/100\n",
            "33/33 [==============================] - 11s 321ms/step - loss: 3.4963 - accuracy: 0.9152 - val_loss: 3.5849 - val_accuracy: 0.9067\n",
            "Epoch 49/100\n",
            "33/33 [==============================] - 11s 321ms/step - loss: 3.4641 - accuracy: 0.9253 - val_loss: 3.5985 - val_accuracy: 0.8800\n",
            "Epoch 50/100\n",
            "33/33 [==============================] - 11s 322ms/step - loss: 3.4583 - accuracy: 0.9121 - val_loss: 3.5213 - val_accuracy: 0.9050\n",
            "Epoch 51/100\n",
            "33/33 [==============================] - 11s 319ms/step - loss: 3.4176 - accuracy: 0.9288 - val_loss: 3.5255 - val_accuracy: 0.9033\n",
            "Epoch 52/100\n",
            "33/33 [==============================] - 11s 319ms/step - loss: 3.3824 - accuracy: 0.9329 - val_loss: 3.5169 - val_accuracy: 0.8883\n",
            "Epoch 53/100\n",
            "33/33 [==============================] - 10s 316ms/step - loss: 3.3706 - accuracy: 0.9374 - val_loss: 3.5059 - val_accuracy: 0.8900\n",
            "Epoch 54/100\n",
            "33/33 [==============================] - 11s 318ms/step - loss: 3.3432 - accuracy: 0.9293 - val_loss: 3.4735 - val_accuracy: 0.9050\n",
            "Epoch 55/100\n",
            "33/33 [==============================] - 11s 319ms/step - loss: 3.2881 - accuracy: 0.9410 - val_loss: 3.4326 - val_accuracy: 0.9017\n",
            "Epoch 56/100\n",
            "33/33 [==============================] - 11s 320ms/step - loss: 3.2721 - accuracy: 0.9420 - val_loss: 3.4401 - val_accuracy: 0.8950\n",
            "Epoch 57/100\n",
            "33/33 [==============================] - 11s 321ms/step - loss: 3.2669 - accuracy: 0.9339 - val_loss: 3.4019 - val_accuracy: 0.8950\n",
            "Epoch 58/100\n",
            "33/33 [==============================] - 11s 322ms/step - loss: 3.2469 - accuracy: 0.9339 - val_loss: 3.4452 - val_accuracy: 0.8583\n",
            "Epoch 59/100\n",
            "33/33 [==============================] - 11s 324ms/step - loss: 3.2456 - accuracy: 0.9196 - val_loss: 3.3694 - val_accuracy: 0.8817\n",
            "Epoch 60/100\n",
            "33/33 [==============================] - 11s 323ms/step - loss: 3.1686 - accuracy: 0.9485 - val_loss: 3.3425 - val_accuracy: 0.8983\n",
            "Epoch 61/100\n",
            "33/33 [==============================] - 11s 323ms/step - loss: 3.1703 - accuracy: 0.9394 - val_loss: 3.3163 - val_accuracy: 0.8933\n",
            "Epoch 62/100\n",
            "33/33 [==============================] - 11s 323ms/step - loss: 3.1567 - accuracy: 0.9491 - val_loss: 3.2520 - val_accuracy: 0.9150\n",
            "Epoch 63/100\n",
            "33/33 [==============================] - 11s 326ms/step - loss: 3.1070 - accuracy: 0.9525 - val_loss: 3.2523 - val_accuracy: 0.9050\n",
            "Epoch 64/100\n",
            "33/33 [==============================] - 13s 405ms/step - loss: 3.0842 - accuracy: 0.9505 - val_loss: 3.2958 - val_accuracy: 0.9000\n",
            "Epoch 65/100\n",
            "33/33 [==============================] - 11s 325ms/step - loss: 3.0741 - accuracy: 0.9475 - val_loss: 3.2573 - val_accuracy: 0.8967\n",
            "Epoch 66/100\n",
            "33/33 [==============================] - 11s 325ms/step - loss: 3.0612 - accuracy: 0.9481 - val_loss: 3.2469 - val_accuracy: 0.9000\n",
            "Epoch 67/100\n",
            "33/33 [==============================] - 11s 327ms/step - loss: 3.0298 - accuracy: 0.9495 - val_loss: 3.2216 - val_accuracy: 0.8917\n",
            "Epoch 68/100\n",
            "33/33 [==============================] - 11s 325ms/step - loss: 3.0215 - accuracy: 0.9455 - val_loss: 3.2002 - val_accuracy: 0.8900\n",
            "Epoch 69/100\n",
            "33/33 [==============================] - 11s 326ms/step - loss: 2.9771 - accuracy: 0.9545 - val_loss: 3.1680 - val_accuracy: 0.9100\n",
            "Epoch 70/100\n",
            "33/33 [==============================] - 11s 326ms/step - loss: 2.9733 - accuracy: 0.9495 - val_loss: 3.2162 - val_accuracy: 0.8783\n",
            "Epoch 71/100\n",
            "33/33 [==============================] - 11s 326ms/step - loss: 2.9590 - accuracy: 0.9481 - val_loss: 3.1802 - val_accuracy: 0.8783\n",
            "Epoch 72/100\n",
            "33/33 [==============================] - 11s 326ms/step - loss: 2.9250 - accuracy: 0.9616 - val_loss: 3.0805 - val_accuracy: 0.9083\n",
            "Epoch 73/100\n",
            "33/33 [==============================] - 11s 325ms/step - loss: 2.9427 - accuracy: 0.9404 - val_loss: 3.1118 - val_accuracy: 0.9083\n",
            "Epoch 74/100\n",
            "33/33 [==============================] - 11s 326ms/step - loss: 2.8686 - accuracy: 0.9657 - val_loss: 3.0607 - val_accuracy: 0.9067\n",
            "Epoch 75/100\n",
            "33/33 [==============================] - 11s 327ms/step - loss: 2.8643 - accuracy: 0.9525 - val_loss: 3.0563 - val_accuracy: 0.8983\n",
            "Epoch 76/100\n",
            "33/33 [==============================] - 11s 325ms/step - loss: 2.8641 - accuracy: 0.9644 - val_loss: 3.0653 - val_accuracy: 0.9017\n",
            "Epoch 77/100\n",
            "33/33 [==============================] - 11s 323ms/step - loss: 2.8211 - accuracy: 0.9634 - val_loss: 3.0993 - val_accuracy: 0.8883\n",
            "Epoch 78/100\n",
            "33/33 [==============================] - 11s 326ms/step - loss: 2.8074 - accuracy: 0.9634 - val_loss: 3.0290 - val_accuracy: 0.9050\n",
            "Epoch 79/100\n",
            "33/33 [==============================] - 11s 324ms/step - loss: 2.8086 - accuracy: 0.9586 - val_loss: 2.9879 - val_accuracy: 0.9017\n",
            "Epoch 80/100\n",
            "33/33 [==============================] - 11s 328ms/step - loss: 2.7847 - accuracy: 0.9626 - val_loss: 2.9218 - val_accuracy: 0.9233\n",
            "Epoch 81/100\n",
            "33/33 [==============================] - 11s 327ms/step - loss: 2.7681 - accuracy: 0.9626 - val_loss: 2.9201 - val_accuracy: 0.9217\n",
            "Epoch 82/100\n",
            "33/33 [==============================] - 11s 326ms/step - loss: 2.7204 - accuracy: 0.9717 - val_loss: 2.9312 - val_accuracy: 0.8983\n",
            "Epoch 83/100\n",
            "33/33 [==============================] - 11s 326ms/step - loss: 2.7261 - accuracy: 0.9667 - val_loss: 2.9570 - val_accuracy: 0.8967\n",
            "Epoch 84/100\n",
            "33/33 [==============================] - 11s 325ms/step - loss: 2.7104 - accuracy: 0.9646 - val_loss: 2.9172 - val_accuracy: 0.8983\n",
            "Epoch 85/100\n",
            "33/33 [==============================] - 11s 326ms/step - loss: 2.6870 - accuracy: 0.9707 - val_loss: 2.9204 - val_accuracy: 0.8967\n",
            "Epoch 86/100\n",
            "33/33 [==============================] - 11s 324ms/step - loss: 2.6876 - accuracy: 0.9634 - val_loss: 2.8926 - val_accuracy: 0.9017\n",
            "Epoch 87/100\n",
            "33/33 [==============================] - 11s 325ms/step - loss: 2.6635 - accuracy: 0.9654 - val_loss: 2.8196 - val_accuracy: 0.9083\n",
            "Epoch 88/100\n",
            "33/33 [==============================] - 11s 327ms/step - loss: 2.6275 - accuracy: 0.9747 - val_loss: 2.8395 - val_accuracy: 0.9033\n",
            "Epoch 89/100\n",
            "33/33 [==============================] - 11s 326ms/step - loss: 2.6398 - accuracy: 0.9606 - val_loss: 2.8831 - val_accuracy: 0.8967\n",
            "Epoch 90/100\n",
            "33/33 [==============================] - 11s 323ms/step - loss: 2.6052 - accuracy: 0.9746 - val_loss: 2.8308 - val_accuracy: 0.8917\n",
            "Epoch 91/100\n",
            "33/33 [==============================] - 11s 324ms/step - loss: 2.5966 - accuracy: 0.9654 - val_loss: 2.8268 - val_accuracy: 0.8983\n",
            "Epoch 92/100\n",
            "33/33 [==============================] - 11s 324ms/step - loss: 2.5893 - accuracy: 0.9654 - val_loss: 2.8522 - val_accuracy: 0.9017\n",
            "Epoch 93/100\n",
            "33/33 [==============================] - 11s 323ms/step - loss: 2.5553 - accuracy: 0.9766 - val_loss: 2.7969 - val_accuracy: 0.9000\n",
            "Epoch 94/100\n",
            "33/33 [==============================] - 11s 325ms/step - loss: 2.5391 - accuracy: 0.9715 - val_loss: 2.7597 - val_accuracy: 0.8983\n",
            "Epoch 95/100\n",
            "33/33 [==============================] - 11s 325ms/step - loss: 2.5410 - accuracy: 0.9697 - val_loss: 2.7222 - val_accuracy: 0.9133\n",
            "Epoch 96/100\n",
            "33/33 [==============================] - 11s 326ms/step - loss: 2.5171 - accuracy: 0.9697 - val_loss: 2.7093 - val_accuracy: 0.9133\n",
            "Epoch 97/100\n",
            "33/33 [==============================] - 11s 324ms/step - loss: 2.4794 - accuracy: 0.9817 - val_loss: 2.7497 - val_accuracy: 0.9000\n",
            "Epoch 98/100\n",
            "33/33 [==============================] - 11s 327ms/step - loss: 2.4893 - accuracy: 0.9646 - val_loss: 2.7776 - val_accuracy: 0.9000\n",
            "Epoch 99/100\n",
            "33/33 [==============================] - 11s 328ms/step - loss: 2.4823 - accuracy: 0.9677 - val_loss: 2.6962 - val_accuracy: 0.9033\n",
            "Epoch 100/100\n",
            "33/33 [==============================] - 11s 323ms/step - loss: 2.4416 - accuracy: 0.9797 - val_loss: 2.7145 - val_accuracy: 0.9100\n",
            "CPU times: user 18min 30s, sys: 48.6 s, total: 19min 19s\n",
            "Wall time: 26min 49s\n"
          ]
        }
      ]
    },
    {
      "cell_type": "markdown",
      "metadata": {
        "id": "amDZGpJiJx7p"
      },
      "source": [
        "## Loss Evaluation"
      ],
      "id": "amDZGpJiJx7p"
    },
    {
      "cell_type": "code",
      "metadata": {
        "colab": {
          "base_uri": "https://localhost:8080/",
          "height": 541
        },
        "id": "isLqDD-wAuW5",
        "outputId": "ea24af4b-8e15-42b3-bf44-85550d1630e5"
      },
      "source": [
        "plot_loss(history2)\n",
        "plot_accuracy(history2)"
      ],
      "id": "isLqDD-wAuW5",
      "execution_count": null,
      "outputs": [
        {
          "output_type": "display_data",
          "data": {
            "image/png": "[encoded data removed]",
            "text/plain": [
              "<Figure size 432x288 with 1 Axes>"
            ]
          },
          "metadata": {
            "needs_background": "light"
          }
        },
        {
          "output_type": "display_data",
          "data": {
            "image/png": "[encoded data removed]",
            "text/plain": [
              "<Figure size 432x288 with 1 Axes>"
            ]
          },
          "metadata": {
            "needs_background": "light"
          }
        }
      ]
    },
    {
      "cell_type": "markdown",
      "metadata": {
        "id": "6aff3db8-3462-4871-beee-1d478fb1a39c"
      },
      "source": [
        "## Evaluate Model"
      ],
      "id": "6aff3db8-3462-4871-beee-1d478fb1a39c"
    },
    {
      "cell_type": "markdown",
      "metadata": {
        "id": "00319aef-9b07-452a-937d-454d543b788f"
      },
      "source": [
        "# Third Model - All Layers Trainable"
      ],
      "id": "00319aef-9b07-452a-937d-454d543b788f"
    },
    {
      "cell_type": "markdown",
      "metadata": {
        "id": "d4c15344-df50-4ec8-b0ae-02d43108d88e"
      },
      "source": [
        "## Unfreeze All Layers"
      ],
      "id": "d4c15344-df50-4ec8-b0ae-02d43108d88e"
    },
    {
      "cell_type": "code",
      "metadata": {
        "id": "8bdfe9b0-946a-4412-a907-0abd2f125b09",
        "colab": {
          "base_uri": "https://localhost:8080/"
        },
        "outputId": "784a89ea-3b21-43c6-f81b-379323e3b046"
      },
      "source": [
        "%%time\n",
        "model3 = model_custom(unfreeze_all = True,\n",
        "                      lr = 0.00001, dropoutRatio = 0.2, l2Regularizer = 0.01)\n",
        "\n",
        "# Basically tune the weights of the newly added fully connected layers\n",
        "history3 = model3.fit(\n",
        "    train_generator,\n",
        "    steps_per_epoch=nb_train_samples // batch_size,\n",
        "    epochs=100,\n",
        "    validation_data=validation_generator,\n",
        "    validation_steps=nb_validation_samples // batch_size,\n",
        "    verbose = True)"
      ],
      "id": "8bdfe9b0-946a-4412-a907-0abd2f125b09",
      "execution_count": null,
      "outputs": [
        {
          "output_type": "stream",
          "name": "stdout",
          "text": [
            "[['input_6', True], ['block1_conv1', True], ['block1_conv2', True], ['block1_pool', True], ['block2_conv1', True], ['block2_conv2', True], ['block2_pool', True], ['block3_conv1', True], ['block3_conv2', True], ['block3_conv3', True], ['block3_pool', True], ['block4_conv1', True], ['block4_conv2', True], ['block4_conv3', True], ['block4_pool', True], ['block5_conv1', True], ['block5_conv2', True], ['block5_conv3', True], ['block5_pool', True]]\n",
            "Model: \"sequential_5\"\n",
            "_________________________________________________________________\n",
            "Layer (type)                 Output Shape              Param #   \n",
            "=================================================================\n",
            "vgg16 (Functional)           (None, 4, 4, 512)         14714688  \n",
            "_________________________________________________________________\n",
            "flatten (Flatten)            (None, 8192)              0         \n",
            "_________________________________________________________________\n",
            "new_fc1 (Dense)              (None, 256)               2097408   \n",
            "_________________________________________________________________\n",
            "dropout_5 (Dropout)          (None, 256)               0         \n",
            "_________________________________________________________________\n",
            "new_predictions (Dense)      (None, 5)                 1285      \n",
            "=================================================================\n",
            "Total params: 16,813,381\n",
            "Trainable params: 16,813,381\n",
            "Non-trainable params: 0\n",
            "_________________________________________________________________\n",
            "None\n",
            "Epoch 1/100\n",
            "33/33 [==============================] - 39s 487ms/step - loss: 6.5694 - accuracy: 0.3869 - val_loss: 6.2397 - val_accuracy: 0.5800\n",
            "Epoch 2/100\n",
            "33/33 [==============================] - 16s 480ms/step - loss: 6.1238 - accuracy: 0.5737 - val_loss: 5.8026 - val_accuracy: 0.7083\n",
            "Epoch 3/100\n",
            "33/33 [==============================] - 18s 545ms/step - loss: 5.7447 - accuracy: 0.6979 - val_loss: 5.5095 - val_accuracy: 0.7950\n",
            "Epoch 4/100\n",
            "33/33 [==============================] - 16s 482ms/step - loss: 5.5588 - accuracy: 0.7455 - val_loss: 5.4093 - val_accuracy: 0.7917\n",
            "Epoch 5/100\n",
            "33/33 [==============================] - 16s 481ms/step - loss: 5.5015 - accuracy: 0.7548 - val_loss: 5.2797 - val_accuracy: 0.8233\n",
            "Epoch 6/100\n",
            "33/33 [==============================] - 16s 483ms/step - loss: 5.3042 - accuracy: 0.8057 - val_loss: 5.1972 - val_accuracy: 0.8283\n",
            "Epoch 7/100\n",
            "33/33 [==============================] - 16s 483ms/step - loss: 5.2187 - accuracy: 0.8152 - val_loss: 5.1065 - val_accuracy: 0.8600\n",
            "Epoch 8/100\n",
            "33/33 [==============================] - 16s 483ms/step - loss: 5.1224 - accuracy: 0.8293 - val_loss: 5.0345 - val_accuracy: 0.8600\n",
            "Epoch 9/100\n",
            "33/33 [==============================] - 16s 485ms/step - loss: 5.0571 - accuracy: 0.8525 - val_loss: 5.0102 - val_accuracy: 0.8617\n",
            "Epoch 10/100\n",
            "33/33 [==============================] - 16s 481ms/step - loss: 4.9694 - accuracy: 0.8475 - val_loss: 4.9317 - val_accuracy: 0.8717\n",
            "Epoch 11/100\n",
            "33/33 [==============================] - 16s 483ms/step - loss: 4.9165 - accuracy: 0.8545 - val_loss: 4.8794 - val_accuracy: 0.8600\n",
            "Epoch 12/100\n",
            "33/33 [==============================] - 16s 482ms/step - loss: 4.8724 - accuracy: 0.8637 - val_loss: 4.8197 - val_accuracy: 0.8617\n",
            "Epoch 13/100\n",
            "33/33 [==============================] - 16s 482ms/step - loss: 4.8223 - accuracy: 0.8475 - val_loss: 4.8122 - val_accuracy: 0.8550\n",
            "Epoch 14/100\n",
            "33/33 [==============================] - 16s 485ms/step - loss: 4.7324 - accuracy: 0.8747 - val_loss: 4.7238 - val_accuracy: 0.8733\n",
            "Epoch 15/100\n",
            "33/33 [==============================] - 16s 482ms/step - loss: 4.7172 - accuracy: 0.8606 - val_loss: 4.6789 - val_accuracy: 0.8850\n",
            "Epoch 16/100\n",
            "33/33 [==============================] - 16s 482ms/step - loss: 4.6246 - accuracy: 0.8800 - val_loss: 4.6222 - val_accuracy: 0.8733\n",
            "Epoch 17/100\n",
            "33/33 [==============================] - 16s 483ms/step - loss: 4.5704 - accuracy: 0.8949 - val_loss: 4.5335 - val_accuracy: 0.8867\n",
            "Epoch 18/100\n",
            "33/33 [==============================] - 16s 481ms/step - loss: 4.5504 - accuracy: 0.8810 - val_loss: 4.5225 - val_accuracy: 0.8917\n",
            "Epoch 19/100\n",
            "33/33 [==============================] - 16s 484ms/step - loss: 4.4433 - accuracy: 0.9121 - val_loss: 4.4909 - val_accuracy: 0.8800\n",
            "Epoch 20/100\n",
            "33/33 [==============================] - 16s 481ms/step - loss: 4.3932 - accuracy: 0.9101 - val_loss: 4.4843 - val_accuracy: 0.8850\n",
            "Epoch 21/100\n",
            "33/33 [==============================] - 16s 483ms/step - loss: 4.3472 - accuracy: 0.9131 - val_loss: 4.3641 - val_accuracy: 0.9050\n",
            "Epoch 22/100\n",
            "33/33 [==============================] - 16s 483ms/step - loss: 4.2654 - accuracy: 0.9283 - val_loss: 4.3703 - val_accuracy: 0.8933\n",
            "Epoch 23/100\n",
            "33/33 [==============================] - 16s 485ms/step - loss: 4.2898 - accuracy: 0.9061 - val_loss: 4.2730 - val_accuracy: 0.9050\n",
            "Epoch 24/100\n",
            "33/33 [==============================] - 16s 482ms/step - loss: 4.2178 - accuracy: 0.9182 - val_loss: 4.2578 - val_accuracy: 0.9050\n",
            "Epoch 25/100\n",
            "33/33 [==============================] - 16s 481ms/step - loss: 4.1640 - accuracy: 0.9166 - val_loss: 4.1846 - val_accuracy: 0.9117\n",
            "Epoch 26/100\n",
            "33/33 [==============================] - 16s 485ms/step - loss: 4.1425 - accuracy: 0.9253 - val_loss: 4.1596 - val_accuracy: 0.9083\n",
            "Epoch 27/100\n",
            "33/33 [==============================] - 16s 484ms/step - loss: 4.0897 - accuracy: 0.9232 - val_loss: 4.1122 - val_accuracy: 0.9117\n",
            "Epoch 28/100\n",
            "33/33 [==============================] - 16s 483ms/step - loss: 4.0381 - accuracy: 0.9343 - val_loss: 4.1666 - val_accuracy: 0.8800\n",
            "Epoch 29/100\n",
            "33/33 [==============================] - 16s 482ms/step - loss: 3.9950 - accuracy: 0.9303 - val_loss: 4.0940 - val_accuracy: 0.9133\n",
            "Epoch 30/100\n",
            "33/33 [==============================] - 16s 480ms/step - loss: 3.9320 - accuracy: 0.9369 - val_loss: 3.9788 - val_accuracy: 0.9133\n",
            "Epoch 31/100\n",
            "33/33 [==============================] - 16s 485ms/step - loss: 3.8968 - accuracy: 0.9485 - val_loss: 3.9792 - val_accuracy: 0.9117\n",
            "Epoch 32/100\n",
            "33/33 [==============================] - 16s 483ms/step - loss: 3.8784 - accuracy: 0.9354 - val_loss: 3.9544 - val_accuracy: 0.9000\n",
            "Epoch 33/100\n",
            "33/33 [==============================] - 16s 482ms/step - loss: 3.8492 - accuracy: 0.9349 - val_loss: 3.9185 - val_accuracy: 0.9017\n",
            "Epoch 34/100\n",
            "33/33 [==============================] - 16s 481ms/step - loss: 3.8047 - accuracy: 0.9268 - val_loss: 3.9905 - val_accuracy: 0.8950\n",
            "Epoch 35/100\n",
            "33/33 [==============================] - 16s 483ms/step - loss: 3.7580 - accuracy: 0.9532 - val_loss: 3.9070 - val_accuracy: 0.9000\n",
            "Epoch 36/100\n",
            "33/33 [==============================] - 16s 482ms/step - loss: 3.7123 - accuracy: 0.9522 - val_loss: 3.8386 - val_accuracy: 0.9100\n",
            "Epoch 37/100\n",
            "33/33 [==============================] - 16s 481ms/step - loss: 3.6581 - accuracy: 0.9613 - val_loss: 3.8112 - val_accuracy: 0.9033\n",
            "Epoch 38/100\n",
            "33/33 [==============================] - 16s 483ms/step - loss: 3.6535 - accuracy: 0.9525 - val_loss: 3.7659 - val_accuracy: 0.9167\n",
            "Epoch 39/100\n",
            "33/33 [==============================] - 16s 484ms/step - loss: 3.6068 - accuracy: 0.9573 - val_loss: 3.7499 - val_accuracy: 0.9117\n",
            "Epoch 40/100\n",
            "33/33 [==============================] - 16s 483ms/step - loss: 3.5995 - accuracy: 0.9475 - val_loss: 3.7717 - val_accuracy: 0.8883\n",
            "Epoch 41/100\n",
            "33/33 [==============================] - 16s 482ms/step - loss: 3.5450 - accuracy: 0.9583 - val_loss: 3.6615 - val_accuracy: 0.9317\n",
            "Epoch 42/100\n",
            "33/33 [==============================] - 16s 483ms/step - loss: 3.5272 - accuracy: 0.9552 - val_loss: 3.6352 - val_accuracy: 0.9183\n",
            "Epoch 43/100\n",
            "33/33 [==============================] - 16s 483ms/step - loss: 3.4646 - accuracy: 0.9687 - val_loss: 3.6654 - val_accuracy: 0.9000\n",
            "Epoch 44/100\n",
            "33/33 [==============================] - 16s 481ms/step - loss: 3.4499 - accuracy: 0.9583 - val_loss: 3.6470 - val_accuracy: 0.8933\n",
            "Epoch 45/100\n",
            "33/33 [==============================] - 16s 483ms/step - loss: 3.4033 - accuracy: 0.9677 - val_loss: 3.5727 - val_accuracy: 0.9150\n",
            "Epoch 46/100\n",
            "33/33 [==============================] - 16s 482ms/step - loss: 3.3915 - accuracy: 0.9542 - val_loss: 3.5476 - val_accuracy: 0.9100\n",
            "Epoch 47/100\n",
            "33/33 [==============================] - 16s 486ms/step - loss: 3.3780 - accuracy: 0.9556 - val_loss: 3.5246 - val_accuracy: 0.8917\n",
            "Epoch 48/100\n",
            "33/33 [==============================] - 16s 482ms/step - loss: 3.3280 - accuracy: 0.9613 - val_loss: 3.4942 - val_accuracy: 0.9000\n",
            "Epoch 49/100\n",
            "33/33 [==============================] - 16s 483ms/step - loss: 3.3031 - accuracy: 0.9717 - val_loss: 3.4855 - val_accuracy: 0.9100\n",
            "Epoch 50/100\n",
            "33/33 [==============================] - 16s 483ms/step - loss: 3.2750 - accuracy: 0.9707 - val_loss: 3.4096 - val_accuracy: 0.9250\n",
            "Epoch 51/100\n",
            "33/33 [==============================] - 16s 482ms/step - loss: 3.2512 - accuracy: 0.9624 - val_loss: 3.4784 - val_accuracy: 0.8883\n",
            "Epoch 52/100\n",
            "33/33 [==============================] - 16s 482ms/step - loss: 3.2189 - accuracy: 0.9644 - val_loss: 3.4797 - val_accuracy: 0.8900\n",
            "Epoch 53/100\n",
            "33/33 [==============================] - 16s 484ms/step - loss: 3.2141 - accuracy: 0.9603 - val_loss: 3.3656 - val_accuracy: 0.9117\n",
            "Epoch 54/100\n",
            "33/33 [==============================] - 16s 482ms/step - loss: 3.1457 - accuracy: 0.9808 - val_loss: 3.3327 - val_accuracy: 0.9150\n",
            "Epoch 55/100\n",
            "33/33 [==============================] - 16s 482ms/step - loss: 3.1171 - accuracy: 0.9747 - val_loss: 3.3479 - val_accuracy: 0.9117\n",
            "Epoch 56/100\n",
            "33/33 [==============================] - 16s 485ms/step - loss: 3.1226 - accuracy: 0.9664 - val_loss: 3.2797 - val_accuracy: 0.9133\n",
            "Epoch 57/100\n",
            "33/33 [==============================] - 16s 482ms/step - loss: 3.0731 - accuracy: 0.9778 - val_loss: 3.3095 - val_accuracy: 0.9017\n",
            "Epoch 58/100\n",
            "33/33 [==============================] - 16s 483ms/step - loss: 3.0636 - accuracy: 0.9697 - val_loss: 3.2678 - val_accuracy: 0.9150\n",
            "Epoch 59/100\n",
            "33/33 [==============================] - 16s 483ms/step - loss: 3.0310 - accuracy: 0.9727 - val_loss: 3.2687 - val_accuracy: 0.9200\n",
            "Epoch 60/100\n",
            "33/33 [==============================] - 16s 482ms/step - loss: 3.0173 - accuracy: 0.9705 - val_loss: 3.2646 - val_accuracy: 0.8983\n",
            "Epoch 61/100\n",
            "33/33 [==============================] - 16s 483ms/step - loss: 2.9738 - accuracy: 0.9797 - val_loss: 3.2092 - val_accuracy: 0.9100\n",
            "Epoch 62/100\n",
            "33/33 [==============================] - 16s 485ms/step - loss: 2.9421 - accuracy: 0.9827 - val_loss: 3.1880 - val_accuracy: 0.9100\n",
            "Epoch 63/100\n",
            "33/33 [==============================] - 16s 483ms/step - loss: 2.9342 - accuracy: 0.9778 - val_loss: 3.3134 - val_accuracy: 0.8800\n",
            "Epoch 64/100\n",
            "33/33 [==============================] - 16s 483ms/step - loss: 2.9090 - accuracy: 0.9788 - val_loss: 3.0838 - val_accuracy: 0.9133\n",
            "Epoch 65/100\n",
            "33/33 [==============================] - 16s 483ms/step - loss: 2.8764 - accuracy: 0.9797 - val_loss: 3.1772 - val_accuracy: 0.9100\n",
            "Epoch 66/100\n",
            "33/33 [==============================] - 16s 481ms/step - loss: 2.8862 - accuracy: 0.9715 - val_loss: 3.1776 - val_accuracy: 0.9117\n",
            "Epoch 67/100\n",
            "33/33 [==============================] - 16s 484ms/step - loss: 2.8454 - accuracy: 0.9778 - val_loss: 3.0647 - val_accuracy: 0.9150\n",
            "Epoch 68/100\n",
            "33/33 [==============================] - 16s 483ms/step - loss: 2.8032 - accuracy: 0.9848 - val_loss: 3.0682 - val_accuracy: 0.8967\n",
            "Epoch 69/100\n",
            "33/33 [==============================] - 16s 485ms/step - loss: 2.7858 - accuracy: 0.9828 - val_loss: 3.0164 - val_accuracy: 0.9283\n",
            "Epoch 70/100\n",
            "33/33 [==============================] - 16s 481ms/step - loss: 2.7659 - accuracy: 0.9858 - val_loss: 2.9163 - val_accuracy: 0.9300\n",
            "Epoch 71/100\n",
            "33/33 [==============================] - 16s 484ms/step - loss: 2.7382 - accuracy: 0.9879 - val_loss: 3.0036 - val_accuracy: 0.9150\n",
            "Epoch 72/100\n",
            "33/33 [==============================] - 16s 483ms/step - loss: 2.7350 - accuracy: 0.9737 - val_loss: 3.0758 - val_accuracy: 0.8917\n",
            "Epoch 73/100\n",
            "33/33 [==============================] - 16s 485ms/step - loss: 2.7332 - accuracy: 0.9687 - val_loss: 3.1280 - val_accuracy: 0.8833\n",
            "Epoch 74/100\n",
            "33/33 [==============================] - 16s 481ms/step - loss: 2.7014 - accuracy: 0.9797 - val_loss: 2.9662 - val_accuracy: 0.8967\n",
            "Epoch 75/100\n",
            "33/33 [==============================] - 16s 482ms/step - loss: 2.6530 - accuracy: 0.9889 - val_loss: 2.9823 - val_accuracy: 0.9050\n",
            "Epoch 76/100\n",
            "33/33 [==============================] - 16s 485ms/step - loss: 2.6636 - accuracy: 0.9798 - val_loss: 2.8977 - val_accuracy: 0.9083\n",
            "Epoch 77/100\n",
            "33/33 [==============================] - 16s 484ms/step - loss: 2.6390 - accuracy: 0.9788 - val_loss: 2.9369 - val_accuracy: 0.9017\n",
            "Epoch 78/100\n",
            "33/33 [==============================] - 16s 483ms/step - loss: 2.6057 - accuracy: 0.9869 - val_loss: 2.8546 - val_accuracy: 0.9233\n",
            "Epoch 79/100\n",
            "33/33 [==============================] - 16s 485ms/step - loss: 2.6000 - accuracy: 0.9807 - val_loss: 2.8074 - val_accuracy: 0.9233\n",
            "Epoch 80/100\n",
            "33/33 [==============================] - 16s 482ms/step - loss: 2.5689 - accuracy: 0.9859 - val_loss: 2.8183 - val_accuracy: 0.9217\n",
            "Epoch 81/100\n",
            "33/33 [==============================] - 16s 484ms/step - loss: 2.5284 - accuracy: 0.9939 - val_loss: 2.8514 - val_accuracy: 0.9100\n",
            "Epoch 82/100\n",
            "33/33 [==============================] - 16s 483ms/step - loss: 2.5176 - accuracy: 0.9909 - val_loss: 2.8029 - val_accuracy: 0.9183\n",
            "Epoch 83/100\n",
            "33/33 [==============================] - 16s 485ms/step - loss: 2.5068 - accuracy: 0.9808 - val_loss: 2.8237 - val_accuracy: 0.9050\n",
            "Epoch 84/100\n",
            "33/33 [==============================] - 16s 484ms/step - loss: 2.4744 - accuracy: 0.9929 - val_loss: 2.7927 - val_accuracy: 0.9067\n",
            "Epoch 85/100\n",
            "33/33 [==============================] - 16s 483ms/step - loss: 2.4583 - accuracy: 0.9909 - val_loss: 2.8617 - val_accuracy: 0.8817\n",
            "Epoch 86/100\n",
            "33/33 [==============================] - 16s 483ms/step - loss: 2.4764 - accuracy: 0.9797 - val_loss: 2.7302 - val_accuracy: 0.9150\n",
            "Epoch 87/100\n",
            "33/33 [==============================] - 16s 483ms/step - loss: 2.4372 - accuracy: 0.9858 - val_loss: 2.7735 - val_accuracy: 0.9000\n",
            "Epoch 88/100\n",
            "33/33 [==============================] - 16s 482ms/step - loss: 2.4359 - accuracy: 0.9756 - val_loss: 2.7857 - val_accuracy: 0.8933\n",
            "Epoch 89/100\n",
            "33/33 [==============================] - 16s 481ms/step - loss: 2.4049 - accuracy: 0.9868 - val_loss: 2.6810 - val_accuracy: 0.9067\n",
            "Epoch 90/100\n",
            "33/33 [==============================] - 16s 483ms/step - loss: 2.3813 - accuracy: 0.9879 - val_loss: 2.7349 - val_accuracy: 0.8850\n",
            "Epoch 91/100\n",
            "33/33 [==============================] - 16s 486ms/step - loss: 2.3542 - accuracy: 0.9909 - val_loss: 2.6918 - val_accuracy: 0.9067\n",
            "Epoch 92/100\n",
            "33/33 [==============================] - 16s 482ms/step - loss: 2.3468 - accuracy: 0.9879 - val_loss: 2.6675 - val_accuracy: 0.9000\n",
            "Epoch 93/100\n",
            "33/33 [==============================] - 16s 482ms/step - loss: 2.3379 - accuracy: 0.9847 - val_loss: 2.6009 - val_accuracy: 0.9083\n",
            "Epoch 94/100\n",
            "33/33 [==============================] - 16s 484ms/step - loss: 2.3065 - accuracy: 0.9888 - val_loss: 2.6654 - val_accuracy: 0.9133\n",
            "Epoch 95/100\n",
            "33/33 [==============================] - 16s 482ms/step - loss: 2.2841 - accuracy: 0.9919 - val_loss: 2.6788 - val_accuracy: 0.8950\n",
            "Epoch 96/100\n",
            "33/33 [==============================] - 16s 483ms/step - loss: 2.2917 - accuracy: 0.9808 - val_loss: 2.5296 - val_accuracy: 0.9067\n",
            "Epoch 97/100\n",
            "33/33 [==============================] - 16s 484ms/step - loss: 2.2776 - accuracy: 0.9818 - val_loss: 2.5824 - val_accuracy: 0.8967\n",
            "Epoch 98/100\n",
            "33/33 [==============================] - 16s 481ms/step - loss: 2.2328 - accuracy: 0.9908 - val_loss: 2.5186 - val_accuracy: 0.9183\n",
            "Epoch 99/100\n",
            "33/33 [==============================] - 16s 484ms/step - loss: 2.2110 - accuracy: 0.9970 - val_loss: 2.6638 - val_accuracy: 0.8950\n",
            "Epoch 100/100\n",
            "33/33 [==============================] - 16s 484ms/step - loss: 2.2028 - accuracy: 0.9909 - val_loss: 2.5038 - val_accuracy: 0.9133\n",
            "CPU times: user 34min 27s, sys: 1min 1s, total: 35min 28s\n",
            "Wall time: 30min 47s\n"
          ]
        }
      ]
    },
    {
      "cell_type": "markdown",
      "metadata": {
        "id": "UDFen9FRJ1Hz"
      },
      "source": [
        "## Loss Evaluation"
      ],
      "id": "UDFen9FRJ1Hz"
    },
    {
      "cell_type": "code",
      "metadata": {
        "colab": {
          "base_uri": "https://localhost:8080/",
          "height": 541
        },
        "id": "Z7awdqL2C2U8",
        "outputId": "526c1e08-f3a7-4e70-eb21-c6a98db1f1fa"
      },
      "source": [
        "plot_loss(history3)\n",
        "plot_accuracy(history3)"
      ],
      "id": "Z7awdqL2C2U8",
      "execution_count": null,
      "outputs": [
        {
          "output_type": "display_data",
          "data": {
            "image/png": "[encoded data removed]",
            "text/plain": [
              "<Figure size 432x288 with 1 Axes>"
            ]
          },
          "metadata": {
            "needs_background": "light"
          }
        },
        {
          "output_type": "display_data",
          "data": {
            "image/png": "[encoded data removed]",
            "text/plain": [
              "<Figure size 432x288 with 1 Axes>"
            ]
          },
          "metadata": {
            "needs_background": "light"
          }
        }
      ]
    },
    {
      "cell_type": "markdown",
      "metadata": {
        "id": "492c4023-dd51-4dd5-ab8e-bd226950bec7"
      },
      "source": [
        "## Evaluate Model"
      ],
      "id": "492c4023-dd51-4dd5-ab8e-bd226950bec7"
    },
    {
      "cell_type": "code",
      "metadata": {
        "id": "f010463c-ff49-4779-9746-bf32986f0305"
      },
      "source": [
        ""
      ],
      "id": "f010463c-ff49-4779-9746-bf32986f0305",
      "execution_count": null,
      "outputs": []
    }
  ]
}