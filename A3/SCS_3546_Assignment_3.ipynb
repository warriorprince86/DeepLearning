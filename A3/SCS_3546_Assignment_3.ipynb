{
 "cells": [
  {
   "cell_type": "markdown",
   "metadata": {
    "id": "9aHEi-CRlKBb"
   },
   "source": [
    "# Calculating similarity measures between queries and sample documents  \n",
    "\n",
    "Objectives are to demonestrate: \n",
    "- How to preprocess text and embedd textual data\n",
    "-  Compare the results of textual similarity between tradditional and dep learning based methods   \n",
    "\n",
    "\n",
    "*** Important consideration: You are not expected to use any particular library or any particular method; the codes below are just meant to provide you with some help so you spend most of your time on the deep learning based model. Feel free to choose your own methods. the evaluation is based on being able to obtain results regardless of which method is being used.  "
   ]
  },
  {
   "cell_type": "markdown",
   "metadata": {
    "id": "DnvVdcQSiKMA"
   },
   "source": [
    "# Set-up and import data "
   ]
  },
  {
   "cell_type": "markdown",
   "metadata": {
    "colab": {
     "base_uri": "https://localhost:8080/",
     "height": 75,
     "resources": {
      "http://localhost:8080/nbextensions/google.colab/files.js": {
       "data": "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",
       "headers": [
        [
         "content-type",
         "application/javascript"
        ]
       ],
       "ok": true,
       "status": 200,
       "status_text": ""
      }
     }
    },
    "id": "XkrMh4W0g4kQ",
    "outputId": "42f55e6b-ded7-4592-dfcb-ef8a7a63ad7c"
   },
   "source": [
    "from google.colab import files\n",
    "uploaded = files.upload()"
   ]
  },
  {
   "cell_type": "code",
   "execution_count": 1,
   "metadata": {
    "id": "0VlWbMwpg4u5"
   },
   "outputs": [],
   "source": [
    "import json \n",
    "\n",
    "import warnings\n",
    "warnings.filterwarnings(\"ignore\")\n",
    "\n",
    "with open('data/sample_repository.json') as in_file:\n",
    "    test_data = json.load(in_file)\n",
    "\n",
    "titles = [item[0] for item in test_data['data']]\n",
    "documents = [item[1] for item in test_data['data']]"
   ]
  },
  {
   "cell_type": "code",
   "execution_count": 2,
   "metadata": {},
   "outputs": [],
   "source": [
    "import pandas as pd\n",
    "df = pd.DataFrame(list(zip(titles, documents)), columns =['titles', 'documents'])"
   ]
  },
  {
   "cell_type": "code",
   "execution_count": 3,
   "metadata": {},
   "outputs": [],
   "source": [
    "# Query for all the models/approaches for semantic similarity\n",
    "query = ['fruits', 'vegetables', 'healthy foods in Canada']"
   ]
  },
  {
   "cell_type": "markdown",
   "metadata": {
    "id": "u1zBu6DIjdtP"
   },
   "source": [
    "# TF-IDF - No Pre-Processing"
   ]
  },
  {
   "cell_type": "code",
   "execution_count": 4,
   "metadata": {
    "colab": {
     "base_uri": "https://localhost:8080/"
    },
    "id": "5XP9_ncYg4yu",
    "outputId": "71eb8310-4ec5-4cce-d466-1069be12ae0d"
   },
   "outputs": [],
   "source": [
    "from sklearn.feature_extraction.text import TfidfVectorizer\n",
    "from sklearn.metrics.pairwise import linear_kernel\n",
    "\n",
    "import nltk\n",
    "nltk.download('stopwords', quiet=True)\n",
    "nltk.download('punkt', quiet=True)\n",
    "\n",
    "from nltk.corpus import stopwords\n",
    "\n",
    "stop_words = set(stopwords.words('english'))"
   ]
  },
  {
   "cell_type": "code",
   "execution_count": 5,
   "metadata": {},
   "outputs": [],
   "source": [
    "# Print Top n (10) results\n",
    "def print_top(scores, df1, query, n=10):\n",
    "#     print(\"\\033[1m\"+query.upper()+\"\\033[0m\")\n",
    "    print_list = []\n",
    "    for i in scores.argsort()[-n:][::-1]:\n",
    "#         print(df1.iloc[i,0])\n",
    "        print_list.append(df1.iloc[i,0])\n",
    "#     print(\"\\n\")\n",
    "    return print_list"
   ]
  },
  {
   "cell_type": "code",
   "execution_count": 6,
   "metadata": {},
   "outputs": [],
   "source": [
    "def tfidf_matching(df1, col, query, n):\n",
    "    # Vectorize using TFIDF vectorizer\n",
    "    vectorizer = TfidfVectorizer()\n",
    "    vectors = vectorizer.fit_transform(df1[col].tolist())\n",
    "\n",
    "    # Calculate the word frequency, and a measure of similarity (whatever you find it to be approperiate) of the search terms with each document\n",
    "    from sklearn.feature_extraction.text import CountVectorizer\n",
    "    cv = CountVectorizer()\n",
    "    cv_fit = cv.fit_transform([query] + df1[col].tolist())\n",
    "    \n",
    "    # Get the word_list (Corpus)\n",
    "    word_list = cv.get_feature_names()\n",
    "    \n",
    "    # Get the word Count_list\n",
    "    count_list = cv_fit.toarray().sum(axis=0)\n",
    "\n",
    "    # Create a dictionary of word_list and count_list\n",
    "    wordcount_dict = dict(zip(word_list,count_list))\n",
    "\n",
    "    # Vectorize the QUERY\n",
    "    query_vec = vectorizer.transform([query])\n",
    "    \n",
    "    # Use linear_kernel to caculate the similarity\n",
    "    results = linear_kernel(vectors,query_vec).reshape((-1,))\n",
    "    \n",
    "    # Output the similarity scores for top 5/10 documents and interpreat the findings and compare the results \n",
    "    results_list = print_top(results, df1, query, n)\n",
    "    \n",
    "    return results_list"
   ]
  },
  {
   "cell_type": "code",
   "execution_count": 7,
   "metadata": {},
   "outputs": [],
   "source": [
    "# Semantic Similarity for all Queries\n",
    "# Create a dictionary to store the results of the qury\n",
    "results_dictionary = {}\n",
    "for item in query:\n",
    "    result = tfidf_matching(df, 'documents', item, n = 5)\n",
    "    results_dictionary[item] = result\n",
    "\n",
    "# print (results_dictionary)\n",
    "\n",
    "df_results_tfidf_raw = pd.DataFrame.from_dict(results_dictionary)"
   ]
  },
  {
   "cell_type": "markdown",
   "metadata": {
    "id": "QqrN27J9mZwb"
   },
   "source": [
    "# TF-IDF Repeat the same task after some preprocessing \n",
    "\n",
    "You are not expected to do any specific type of cleaning/standardizations but at minimum use 2 techniques (e.g. lemmatization, removing punctuations and etc.) "
   ]
  },
  {
   "cell_type": "code",
   "execution_count": 8,
   "metadata": {},
   "outputs": [],
   "source": [
    "from nltk import word_tokenize          \n",
    "from nltk.stem import WordNetLemmatizer\n",
    "\n",
    "nltk.download('words',quiet=True)\n",
    "nltk.download('wordnet',quiet=True)\n",
    "\n",
    "# Function for Pre Processing the text\n",
    "def pre_processing(text):\n",
    "    # Remove Punctuation\n",
    "    import re\n",
    "    text = re.sub(r\"[^a-zA-Z0-9]\", \" \", text)\n",
    "    \n",
    "    # Tokenize Words\n",
    "    words = word_tokenize(text.lower())\n",
    "    \n",
    "    # Remove Stop Words\n",
    "    words = [w for w in words if w not in stopwords.words(\"english\")]\n",
    "    \n",
    "    # Using Lemmetizer to get the simplest form of the word\n",
    "    #words = [PorterStemmer().stem(w) for w in words]\n",
    "    words = [WordNetLemmatizer().lemmatize(w, pos='v') for w in words]\n",
    "    \n",
    "    sentence = \"\"\n",
    "    for word in words:\n",
    "        sentence1 = word + \" \"\n",
    "        sentence = sentence + sentence1\n",
    "    \n",
    "    return sentence"
   ]
  },
  {
   "cell_type": "code",
   "execution_count": 9,
   "metadata": {},
   "outputs": [],
   "source": [
    "# Pre-processing the text and creating a new column 'processed'\n",
    "df['processed'] = df.documents.apply(pre_processing)"
   ]
  },
  {
   "cell_type": "code",
   "execution_count": 10,
   "metadata": {},
   "outputs": [],
   "source": [
    "# Semantic Similarity for all Queries\n",
    "results_dictionary = {}\n",
    "for item in query:\n",
    "    result = tfidf_matching(df, 'processed', item, n = 5)\n",
    "    results_dictionary[item] = result\n",
    "\n",
    "# print (results_dictionary)\n",
    "\n",
    "df_results_tfidf_processed = pd.DataFrame.from_dict(results_dictionary)"
   ]
  },
  {
   "cell_type": "markdown",
   "metadata": {
    "id": "H8V2kx6Epnxq"
   },
   "source": [
    "# Semantic matching using GloVe embeddings"
   ]
  },
  {
   "cell_type": "code",
   "execution_count": 11,
   "metadata": {
    "id": "oaHFkf8tnuJB"
   },
   "outputs": [],
   "source": [
    "#!pip install tfidf"
   ]
  },
  {
   "cell_type": "code",
   "execution_count": 12,
   "metadata": {
    "id": "AGBg_Roo8FvP"
   },
   "outputs": [
    {
     "name": "stdout",
     "output_type": "stream",
     "text": [
      "4.0.1\n"
     ]
    }
   ],
   "source": [
    "#!pip install  gensim==4.0.1 # if you decide to use the gensim library and the sample codes below, you would need gensim version >=4.0.1 to be installed \n",
    "import gensim\n",
    "print(gensim.__version__)"
   ]
  },
  {
   "cell_type": "code",
   "execution_count": 13,
   "metadata": {
    "id": "oywLsqBYrayZ"
   },
   "outputs": [],
   "source": [
    "import logging\n",
    "import json\n",
    "import logging\n",
    "from re import sub\n",
    "from multiprocessing import cpu_count\n",
    "\n",
    "import numpy as np\n",
    "\n",
    "import gensim.downloader as api\n",
    "from gensim.utils import simple_preprocess\n",
    "from gensim.corpora import Dictionary\n",
    "from gensim.models import TfidfModel\n",
    "from gensim.similarities import WordEmbeddingSimilarityIndex\n",
    "from gensim.similarities import SparseTermSimilarityMatrix\n",
    "from gensim.similarities import SoftCosineSimilarity"
   ]
  },
  {
   "cell_type": "code",
   "execution_count": 14,
   "metadata": {
    "id": "Pa0dlD102lbp"
   },
   "outputs": [],
   "source": [
    "import logging\n",
    "# Initialize logging.\n",
    "logging.basicConfig(format='%(asctime)s : %(levelname)s : %(message)s', level=logging.WARNING)"
   ]
  },
  {
   "cell_type": "code",
   "execution_count": 15,
   "metadata": {
    "colab": {
     "base_uri": "https://localhost:8080/"
    },
    "id": "SwQBtaxk5rXS",
    "outputId": "b8f4ad5a-7bc6-4106-9d09-fa454ebf177a"
   },
   "outputs": [],
   "source": [
    "import nltk\n",
    "# Import and download stopwords from NLTK.\n",
    "nltk.download('stopwords', quiet = True)  # Download stopwords list.\n",
    "stopwords = set(nltk.corpus.stopwords.words(\"english\"))"
   ]
  },
  {
   "cell_type": "code",
   "execution_count": 16,
   "metadata": {
    "id": "5mlGyZeZ2Nle"
   },
   "outputs": [],
   "source": [
    "def preprocess(doc):\n",
    "    # Tokenize, clean up input document string\n",
    "    doc = sub(r'<img[^<>]+(>|$)', \" image_token \", doc)\n",
    "    # you may decide to add additional steps here \n",
    "    return [token for token in simple_preprocess(doc, min_len=0, max_len=float(\"inf\")) if token not in stopwords]"
   ]
  },
  {
   "cell_type": "raw",
   "metadata": {
    "colab": {
     "base_uri": "https://localhost:8080/"
    },
    "id": "vP1s_4hMpqAn",
    "outputId": "3160a3a1-f1de-4d39-81b8-a19ab0b83312"
   },
   "source": [
    "# Load test data\n",
    "with open('data/sample_repository.json') as in_file:\n",
    "    test_data = json.load(in_file)\n",
    "\n",
    "titles = [item[0] for item in test_data['data']]\n",
    "documents = [item[1] for item in test_data['data']]"
   ]
  },
  {
   "cell_type": "code",
   "execution_count": 17,
   "metadata": {
    "colab": {
     "base_uri": "https://localhost:8080/"
    },
    "id": "sR_F5zkipqH7",
    "outputId": "4f47c364-0463-40df-83a3-c92bb10605db"
   },
   "outputs": [],
   "source": [
    "# Download and load the GloVe word vector embeddings\n",
    "if 'glove' not in locals():  # only load if not already in memory\n",
    "    glove = api.load(\"glove-wiki-gigaword-50\")\n",
    "\n",
    "similarity_index = WordEmbeddingSimilarityIndex(glove)"
   ]
  },
  {
   "cell_type": "code",
   "execution_count": 18,
   "metadata": {},
   "outputs": [],
   "source": [
    "def glove_matching(similarity_index, df1, col, query_s, n):\n",
    "    corpus = [preprocess(document) for document in df1[col]]\n",
    "    \n",
    "    query = preprocess(query_s)\n",
    "    \n",
    "    # Build the term dictionary, TF-idf model\n",
    "    # Keep in mind that the search query must be in the dictionary as well, in case the terms do not overlap with the documents  \n",
    "    dictionary = Dictionary(corpus+[query])\n",
    "    tfidf = TfidfModel(dictionary=dictionary)\n",
    "    \n",
    "    # Create the term similarity matrix. \n",
    "    # The nonzero_limit enforces sparsity by limiting the number of non-zero terms in each column. \n",
    "    similarity_matrix = SparseTermSimilarityMatrix(similarity_index, dictionary, tfidf)  # , nonzero_limit=None)\n",
    "    \n",
    "    # Compute similarity measure between the query and the documents.\n",
    "    query_tf = tfidf[dictionary.doc2bow(query)]\n",
    "\n",
    "    index = SoftCosineSimilarity(\n",
    "                tfidf[[dictionary.doc2bow(document) for document in corpus]],\n",
    "                similarity_matrix)\n",
    "\n",
    "    doc_similarity_scores = index[query_tf]\n",
    "\n",
    "    # Output the similarity scores for top 5/10 documents and interpreat the findings and compare the results \n",
    "    results_list = print_top(doc_similarity_scores, df1, query_s, n)\n",
    "\n",
    "    return results_list"
   ]
  },
  {
   "cell_type": "code",
   "execution_count": 19,
   "metadata": {},
   "outputs": [
    {
     "name": "stderr",
     "output_type": "stream",
     "text": [
      "100%|█████████████████████████████████████████| 568/568 [00:05<00:00, 96.91it/s]\n",
      "100%|█████████████████████████████████████████| 568/568 [00:05<00:00, 97.83it/s]\n",
      "100%|█████████████████████████████████████████| 568/568 [00:05<00:00, 97.97it/s]\n"
     ]
    }
   ],
   "source": [
    "# Semantic Similarity for all Queries\n",
    "results_dictionary = {}\n",
    "for item in query:\n",
    "    result = glove_matching(similarity_index, df, 'documents', item, 5)\n",
    "    results_dictionary[item] = result\n",
    "\n",
    "# print (results_dictionary)\n",
    "\n",
    "df_results_tfidf_glove = pd.DataFrame.from_dict(results_dictionary)"
   ]
  },
  {
   "cell_type": "markdown",
   "metadata": {
    "id": "8at07gGAI-MH"
   },
   "source": [
    "# BERT\n",
    "Use a bert model to create sentence embeddings and calculate the similarity between queries and documents."
   ]
  },
  {
   "cell_type": "code",
   "execution_count": 20,
   "metadata": {
    "id": "aBSozs_tYFjg"
   },
   "outputs": [],
   "source": [
    "from sentence_transformers import SentenceTransformer, util\n",
    "import torch\n",
    "\n",
    "#using model all-MiniLM-L12-v2 which is an All-round model tuned for many use-cases. \n",
    "# it is trained on a large and diverse dataset of over 1 billion training pairs.\n",
    "embedder = SentenceTransformer('all-MiniLM-L12-v2', )"
   ]
  },
  {
   "cell_type": "code",
   "execution_count": 21,
   "metadata": {},
   "outputs": [],
   "source": [
    "# Function for Semantic Matching using Bert\n",
    "def bert_semantic_matching(embedder, df1, col, query, n):\n",
    "    # Corpus of documents\n",
    "    corpus = df1[col]+[query]\n",
    "    \n",
    "    # Corpus Empeddings\n",
    "    corpus_embeddings = embedder.encode(corpus, convert_to_tensor=True)\n",
    "    \n",
    "    # Queries Embeddings\n",
    "    queries_embeddings = embedder.encode(query, convert_to_tensor=True)\n",
    "    \n",
    "    # Compute cosine-similarities for each sentence with each other sentence\n",
    "    cosine_scores = util.pytorch_cos_sim(corpus_embeddings, queries_embeddings)\n",
    "    \n",
    "    # Reshape to numpy array\n",
    "    cosine_scores = cosine_scores.numpy().reshape(32)\n",
    "    \n",
    "    # Output the similarity scores for top 5/10 documents and interpreat the findings and compare the results \n",
    "    results_list = print_top(cosine_scores, df1, query, n)\n",
    "    \n",
    "    return results_list"
   ]
  },
  {
   "cell_type": "code",
   "execution_count": 22,
   "metadata": {},
   "outputs": [],
   "source": [
    "# Semantic Similarity for all Queries\n",
    "results_dictionary = {}\n",
    "for item in query:\n",
    "    result = bert_semantic_matching(embedder, df, 'documents', item, 5)\n",
    "    results_dictionary[item] = result\n",
    "\n",
    "# print (results_dictionary)\n",
    "\n",
    "df_results_tfidf_bert = pd.DataFrame.from_dict(results_dictionary)"
   ]
  },
  {
   "cell_type": "markdown",
   "metadata": {
    "id": "raaQrNXUKL2o",
    "tags": []
   },
   "source": [
    "# Compare the findings"
   ]
  },
  {
   "cell_type": "code",
   "execution_count": 23,
   "metadata": {},
   "outputs": [],
   "source": [
    "def create_Dataframe(col,df_results_tfidf_raw,df_results_tfidf_processed,df_results_tfidf_glove,df_results_tfidf_bert):\n",
    "    df= pd.DataFrame()\n",
    "    df['raw'] = df_results_tfidf_raw[col]\n",
    "    df['processed'] = df_results_tfidf_processed[col]\n",
    "    df['glove'] = df_results_tfidf_glove[col]\n",
    "    df['bert'] = df_results_tfidf_bert[col]\n",
    "    return df"
   ]
  },
  {
   "cell_type": "code",
   "execution_count": 99,
   "metadata": {},
   "outputs": [],
   "source": [
    "def print_documents(df1):\n",
    "    list_results = set(df1.raw.to_list() + df1.processed.to_list()  + df1.glove.to_list() + df1.bert.to_list())\n",
    "    list_results = list(list_results)\n",
    "    title_list = df.titles[df.titles.isin(list_results)].to_list()\n",
    "    documents_list = df.documents[df.titles.isin(list_results)].to_list()\n",
    "    for i in range (0, len(list_results)):\n",
    "        print (\"\\033[1m\" + title_list[i] + \"\\033[0m\" )\n",
    "        print (documents_list[i])"
   ]
  },
  {
   "cell_type": "markdown",
   "metadata": {},
   "source": [
    "## FRUITS"
   ]
  },
  {
   "cell_type": "code",
   "execution_count": 100,
   "metadata": {},
   "outputs": [
    {
     "name": "stdout",
     "output_type": "stream",
     "text": [
      "\u001b[1mPomegranate Bhagwa\u001b[0m\n",
      "Fresh Pomegranate from Anushka Avni International Bhagwa is a premium Pomegranate variety from India. The Deep Red arils & the pleasing Red but rugged skin enhances the appearance whilst promoting shelf life of the fruit. Bhagwa is widely known for its soft seed, Dark red color and extremely delicious. Packaging: Net weight of box 2.5kg, 3.00kg, 3.5kg. Details: Minimum Weight 180gm, maximum weight 400gm Color of arils: Dark Cherry red. Taste: Sweet Fruit count / carton (3.50 kg net wt.) 9 Numbers packed per carton: 350-400gms\n",
      "\u001b[1mPomegranate Arakta\u001b[0m\n",
      "Fresh Pomegranate Arakta from Anushka Avni International This Pomegranate are bigger in size, sweet with soft seeds, bold red arils. It also possess glossy, attractive, dark red skin. Packaging: Net weight of box 2.5kg, 3.00kg, 3.5kg. Details: Minimum Weight 180gm, maximum weight 400gm Taste: Sweet Fruit count / carton (3.50 kg net wt.) 9 Numbers packed per carton: 350-400gms 10 Numbers packed per carton :290-320gms 12 Numbers packed per carton: 275-325gms 15 Numbers packed per carton: 225-275gms Load ability: 4400 cartons per container 20 pallets with 220 cartons per pallet Load ability: 5500 cartons per container Loading with No pallets Availability: January | February | March | April | July | August | September | October | Nov | Dec READ MORE\n",
      "\u001b[1mAbout Us\u001b[0m\n",
      "About Us Anushka Avni International (AAI) takes pleasure in presenting itself as one of the renowned Suppliers and Exporter. We have huge assortment of agro products available with us. We feel proud when buyers come to us recognizing the standard quality which we offer in the world wide market. We follow the best practices while supplying… Read More..\n",
      "\u001b[1mContact Us\u001b[0m\n",
      "About Us Anushka Avni International (AAI) takes pleasure in presenting itself as one of the renowned Suppliers and Exporter. We have huge assortment of agro products available with us. We feel proud when buyers come to us recognizing the standard quality which we offer in the world wide market. We follow the best practices while supplying… Read More..\n",
      "\u001b[1mFood classes\u001b[0m\n",
      "To a botanist, a fruit is an entity that develops from the fertilized ovary of a flower. This means that tomatoes, squash, pumpkins, cucumbers, peppers, eggplants, corn kernels, and bean and pea pods are all fruits; so are apples, pears, peaches, apricots, melons and mangos\n",
      "\u001b[1mCanada's Food Guide\u001b[0m\n",
      "Canada's Food Guide is a nutrition guide produced by Health Canada to promote Healthy behaviours and habits, and lifestyles in Canada - this is to increase the number of healthy people in Canada. In 2007, it was reported to be the second most requested Canadian government publication, behind the Income Tax Forms. The Health Canada website states: Food guides are basic education tools that are designed to help people follow a healthy diet. The Guide recommends eating a variety of healthy foods each day including plenty of vegetables and fruits, protein foods, and whole grain foods. It recommends choosing protein foods that come from plants more often. It also recommends limiting highly processed foods.\n",
      "\u001b[1mAbout Us\u001b[0m\n",
      "Anushka Avni International (AAI) takes pleasure in presenting itself as one of the renowned Suppliers and Exporter. We have huge assortment of agro products available with us. We feel proud when buyers come to us recognizing the standard quality which we offer in the world wide market. We follow the best practices while supplying and exportingAgro Products. We thoroughly consider the demand and requirement ofthe client till the final destination. The company professionals are aware of the fact that demands of thecustomers keep evolving. We do have strong background in Horticultureand Harvest handling of perishables. Company takes initiatives to deliver the best quality to thecustomers. Moreover, we have established ourselves in the market forproviding the best quality all across the domestic and Internationalmarket.\n",
      "\u001b[1mTomatoes\u001b[0m\n",
      "Fresh Tomatoes from Anushka Avni International We have emerged as one of the reputed organization actively participating in exporting and suppling Red Tomatoes. Product Details: Taste enhancer Free from preservatives Pure Useful for chutney Packing : 6.5 kg, 7.00 kg Cartons.\n",
      "\u001b[1mGrapes Flame / Red Seedless\u001b[0m\n",
      "Flame / Red seedless grapesFlame grapes are one of the most popular varieties along with…\n",
      "\u001b[1mList of fruit dishes\u001b[0m\n",
      "Fruit dishes are those that use fruit as a primary ingredient. Condiments prepared with fruit as a primary ingredient are also included in this list.\n",
      "\u001b[1mNeuro linguistic programming\u001b[0m\n",
      "Neuro linguistic programming (NLP) is a pseudoscientific approach to communication, personal development, and psychotherapy created by Richard Bandler and John Grinder in California, United States, in the 1970s.\n"
     ]
    },
    {
     "data": {
      "text/html": [
       "<div>\n",
       "<style scoped>\n",
       "    .dataframe tbody tr th:only-of-type {\n",
       "        vertical-align: middle;\n",
       "    }\n",
       "\n",
       "    .dataframe tbody tr th {\n",
       "        vertical-align: top;\n",
       "    }\n",
       "\n",
       "    .dataframe thead th {\n",
       "        text-align: right;\n",
       "    }\n",
       "</style>\n",
       "<table border=\"1\" class=\"dataframe\">\n",
       "  <thead>\n",
       "    <tr style=\"text-align: right;\">\n",
       "      <th></th>\n",
       "      <th>raw</th>\n",
       "      <th>processed</th>\n",
       "      <th>glove</th>\n",
       "      <th>bert</th>\n",
       "    </tr>\n",
       "  </thead>\n",
       "  <tbody>\n",
       "    <tr>\n",
       "      <th>0</th>\n",
       "      <td>Food classes</td>\n",
       "      <td>fruit serving bowl</td>\n",
       "      <td>Food classes</td>\n",
       "      <td>Food classes</td>\n",
       "    </tr>\n",
       "    <tr>\n",
       "      <th>1</th>\n",
       "      <td>Canada's Food Guide</td>\n",
       "      <td>Neuro linguistic programming</td>\n",
       "      <td>fruit serving bowl</td>\n",
       "      <td>List of fruit dishes</td>\n",
       "    </tr>\n",
       "    <tr>\n",
       "      <th>2</th>\n",
       "      <td>fruit serving bowl</td>\n",
       "      <td>Pomegranate Arakta</td>\n",
       "      <td>List of fruit dishes</td>\n",
       "      <td>Tomatoes</td>\n",
       "    </tr>\n",
       "    <tr>\n",
       "      <th>3</th>\n",
       "      <td>Neuro linguistic programming</td>\n",
       "      <td>About Us</td>\n",
       "      <td>Pomegranate Bhagwa</td>\n",
       "      <td>Pomegranate Bhagwa</td>\n",
       "    </tr>\n",
       "    <tr>\n",
       "      <th>4</th>\n",
       "      <td>Pomegranate Arakta</td>\n",
       "      <td>Contact Us</td>\n",
       "      <td>Canada's Food Guide</td>\n",
       "      <td>Grapes Flame / Red Seedless</td>\n",
       "    </tr>\n",
       "  </tbody>\n",
       "</table>\n",
       "</div>"
      ],
      "text/plain": [
       "                            raw                     processed  \\\n",
       "0                  Food classes            fruit serving bowl   \n",
       "1           Canada's Food Guide  Neuro linguistic programming   \n",
       "2            fruit serving bowl            Pomegranate Arakta   \n",
       "3  Neuro linguistic programming                      About Us   \n",
       "4            Pomegranate Arakta                    Contact Us   \n",
       "\n",
       "                  glove                         bert  \n",
       "0          Food classes                 Food classes  \n",
       "1    fruit serving bowl         List of fruit dishes  \n",
       "2  List of fruit dishes                     Tomatoes  \n",
       "3    Pomegranate Bhagwa           Pomegranate Bhagwa  \n",
       "4   Canada's Food Guide  Grapes Flame / Red Seedless  "
      ]
     },
     "execution_count": 100,
     "metadata": {},
     "output_type": "execute_result"
    }
   ],
   "source": [
    "df_fruits = create_Dataframe(query[0], df_results_tfidf_raw,df_results_tfidf_processed,df_results_tfidf_glove,df_results_tfidf_bert)\n",
    "print_documents(df_fruits)\n",
    "df_fruits"
   ]
  },
  {
   "cell_type": "markdown",
   "metadata": {},
   "source": [
    "### Comparision\n",
    "for the amount of documents and the corpus available, using raw is better than using processed corpus. This can be seen by selection of NLP, About Us and Contact Us titles in the data model which was developed using processed text. This is most likely due to the loss of context.\n",
    "\n",
    "Both Golve and Bert based models were able to keep provide better semantic matching that simple TF-IDF models. This is because of the developed word and sentence embeddings used a large data set (corpus) for training). Glove used word embeddings while bert used sentence embeddings. \n",
    "\n",
    "Reading though the documents, in my opinion, bert sentence embeddings model was able to better semantics matching than glove model. This is clear from the document titled tomatoes and grapes which do not show up anywhere else."
   ]
  },
  {
   "cell_type": "markdown",
   "metadata": {},
   "source": [
    "## VEGETABLES"
   ]
  },
  {
   "cell_type": "code",
   "execution_count": 103,
   "metadata": {},
   "outputs": [
    {
     "name": "stdout",
     "output_type": "stream",
     "text": [
      "\u001b[1mPomegranate Bhagwa\u001b[0m\n",
      "Fresh Pomegranate from Anushka Avni International Bhagwa is a premium Pomegranate variety from India. The Deep Red arils & the pleasing Red but rugged skin enhances the appearance whilst promoting shelf life of the fruit. Bhagwa is widely known for its soft seed, Dark red color and extremely delicious. Packaging: Net weight of box 2.5kg, 3.00kg, 3.5kg. Details: Minimum Weight 180gm, maximum weight 400gm Color of arils: Dark Cherry red. Taste: Sweet Fruit count / carton (3.50 kg net wt.) 9 Numbers packed per carton: 350-400gms\n",
      "\u001b[1mPomegranate Arakta\u001b[0m\n",
      "Fresh Pomegranate Arakta from Anushka Avni International This Pomegranate are bigger in size, sweet with soft seeds, bold red arils. It also possess glossy, attractive, dark red skin. Packaging: Net weight of box 2.5kg, 3.00kg, 3.5kg. Details: Minimum Weight 180gm, maximum weight 400gm Taste: Sweet Fruit count / carton (3.50 kg net wt.) 9 Numbers packed per carton: 350-400gms 10 Numbers packed per carton :290-320gms 12 Numbers packed per carton: 275-325gms 15 Numbers packed per carton: 225-275gms Load ability: 4400 cartons per container 20 pallets with 220 cartons per pallet Load ability: 5500 cartons per container Loading with No pallets Availability: January | February | March | April | July | August | September | October | Nov | Dec READ MORE\n",
      "\u001b[1mAbout Us\u001b[0m\n",
      "About Us Anushka Avni International (AAI) takes pleasure in presenting itself as one of the renowned Suppliers and Exporter. We have huge assortment of agro products available with us. We feel proud when buyers come to us recognizing the standard quality which we offer in the world wide market. We follow the best practices while supplying… Read More..\n",
      "\u001b[1mFood classes\u001b[0m\n",
      "To a botanist, a fruit is an entity that develops from the fertilized ovary of a flower. This means that tomatoes, squash, pumpkins, cucumbers, peppers, eggplants, corn kernels, and bean and pea pods are all fruits; so are apples, pears, peaches, apricots, melons and mangos\n",
      "\u001b[1mCanada's Food Guide\u001b[0m\n",
      "Canada's Food Guide is a nutrition guide produced by Health Canada to promote Healthy behaviours and habits, and lifestyles in Canada - this is to increase the number of healthy people in Canada. In 2007, it was reported to be the second most requested Canadian government publication, behind the Income Tax Forms. The Health Canada website states: Food guides are basic education tools that are designed to help people follow a healthy diet. The Guide recommends eating a variety of healthy foods each day including plenty of vegetables and fruits, protein foods, and whole grain foods. It recommends choosing protein foods that come from plants more often. It also recommends limiting highly processed foods.\n",
      "\u001b[1mAbout Us\u001b[0m\n",
      "Anushka Avni International (AAI) takes pleasure in presenting itself as one of the renowned Suppliers and Exporter. We have huge assortment of agro products available with us. We feel proud when buyers come to us recognizing the standard quality which we offer in the world wide market. We follow the best practices while supplying and exportingAgro Products. We thoroughly consider the demand and requirement ofthe client till the final destination. The company professionals are aware of the fact that demands of thecustomers keep evolving. We do have strong background in Horticultureand Harvest handling of perishables. Company takes initiatives to deliver the best quality to thecustomers. Moreover, we have established ourselves in the market forproviding the best quality all across the domestic and Internationalmarket.\n",
      "\u001b[1mSmall Onions\u001b[0m\n",
      "We are one of the leading organizations engaged in delivering our customers with Fresh Onions. We manufacture this in bulk requirements for our clients. Malaysia, Singapore, Philippines, Vietnam Quality Product Details:\n",
      "\u001b[1mTomatoes\u001b[0m\n",
      "Fresh Tomatoes from Anushka Avni International We have emerged as one of the reputed organization actively participating in exporting and suppling Red Tomatoes. Product Details: Taste enhancer Free from preservatives Pure Useful for chutney Packing : 6.5 kg, 7.00 kg Cartons.\n",
      "\u001b[1mGrapes Flame / Red Seedless\u001b[0m\n",
      "Flame / Red seedless grapesFlame grapes are one of the most popular varieties along with…\n",
      "\u001b[1mList of fruit dishes\u001b[0m\n",
      "Fruit dishes are those that use fruit as a primary ingredient. Condiments prepared with fruit as a primary ingredient are also included in this list.\n",
      "\u001b[1mNeuro linguistic programming\u001b[0m\n",
      "Neuro linguistic programming (NLP) is a pseudoscientific approach to communication, personal development, and psychotherapy created by Richard Bandler and John Grinder in California, United States, in the 1970s.\n"
     ]
    },
    {
     "data": {
      "text/html": [
       "<div>\n",
       "<style scoped>\n",
       "    .dataframe tbody tr th:only-of-type {\n",
       "        vertical-align: middle;\n",
       "    }\n",
       "\n",
       "    .dataframe tbody tr th {\n",
       "        vertical-align: top;\n",
       "    }\n",
       "\n",
       "    .dataframe thead th {\n",
       "        text-align: right;\n",
       "    }\n",
       "</style>\n",
       "<table border=\"1\" class=\"dataframe\">\n",
       "  <thead>\n",
       "    <tr style=\"text-align: right;\">\n",
       "      <th></th>\n",
       "      <th>raw</th>\n",
       "      <th>processed</th>\n",
       "      <th>glove</th>\n",
       "      <th>bert</th>\n",
       "    </tr>\n",
       "  </thead>\n",
       "  <tbody>\n",
       "    <tr>\n",
       "      <th>0</th>\n",
       "      <td>Canada's Food Guide</td>\n",
       "      <td>Canada's Food Guide</td>\n",
       "      <td>Food classes</td>\n",
       "      <td>Small Onions</td>\n",
       "    </tr>\n",
       "    <tr>\n",
       "      <th>1</th>\n",
       "      <td>fruit serving bowl</td>\n",
       "      <td>fruit serving bowl</td>\n",
       "      <td>Canada's Food Guide</td>\n",
       "      <td>List of fruit dishes</td>\n",
       "    </tr>\n",
       "    <tr>\n",
       "      <th>2</th>\n",
       "      <td>Neuro linguistic programming</td>\n",
       "      <td>Neuro linguistic programming</td>\n",
       "      <td>List of fruit dishes</td>\n",
       "      <td>Tomatoes</td>\n",
       "    </tr>\n",
       "    <tr>\n",
       "      <th>3</th>\n",
       "      <td>Pomegranate Arakta</td>\n",
       "      <td>Pomegranate Arakta</td>\n",
       "      <td>Small Onions</td>\n",
       "      <td>Food classes</td>\n",
       "    </tr>\n",
       "    <tr>\n",
       "      <th>4</th>\n",
       "      <td>About Us</td>\n",
       "      <td>About Us</td>\n",
       "      <td>Pomegranate Bhagwa</td>\n",
       "      <td>Grapes Flame / Red Seedless</td>\n",
       "    </tr>\n",
       "  </tbody>\n",
       "</table>\n",
       "</div>"
      ],
      "text/plain": [
       "                            raw                     processed  \\\n",
       "0           Canada's Food Guide           Canada's Food Guide   \n",
       "1            fruit serving bowl            fruit serving bowl   \n",
       "2  Neuro linguistic programming  Neuro linguistic programming   \n",
       "3            Pomegranate Arakta            Pomegranate Arakta   \n",
       "4                      About Us                      About Us   \n",
       "\n",
       "                  glove                         bert  \n",
       "0          Food classes                 Small Onions  \n",
       "1   Canada's Food Guide         List of fruit dishes  \n",
       "2  List of fruit dishes                     Tomatoes  \n",
       "3          Small Onions                 Food classes  \n",
       "4    Pomegranate Bhagwa  Grapes Flame / Red Seedless  "
      ]
     },
     "execution_count": 103,
     "metadata": {},
     "output_type": "execute_result"
    }
   ],
   "source": [
    "df_vegetables = create_Dataframe(query[1], df_results_tfidf_raw,df_results_tfidf_processed,df_results_tfidf_glove,df_results_tfidf_bert)\n",
    "print_documents(df_vegetables)\n",
    "df_vegetables"
   ]
  },
  {
   "cell_type": "markdown",
   "metadata": {},
   "source": [
    "### Comparision\n",
    "For this query, there was no difference in the top 5 results for the TF-IDF model. This is most likely because of the limited corups and documents.\n",
    "Bert and glove provided better results. Its hard to quantify the accuracy of these two models, but the results are more semantically matching that the TF-IDF models."
   ]
  },
  {
   "cell_type": "markdown",
   "metadata": {},
   "source": [
    "## HEALTHY FOODS IN CANADA"
   ]
  },
  {
   "cell_type": "code",
   "execution_count": 102,
   "metadata": {},
   "outputs": [
    {
     "name": "stdout",
     "output_type": "stream",
     "text": [
      "\u001b[1mPomegranate Bhagwa\u001b[0m\n",
      "Fresh Pomegranate from Anushka Avni International Bhagwa is a premium Pomegranate variety from India. The Deep Red arils & the pleasing Red but rugged skin enhances the appearance whilst promoting shelf life of the fruit. Bhagwa is widely known for its soft seed, Dark red color and extremely delicious. Packaging: Net weight of box 2.5kg, 3.00kg, 3.5kg. Details: Minimum Weight 180gm, maximum weight 400gm Color of arils: Dark Cherry red. Taste: Sweet Fruit count / carton (3.50 kg net wt.) 9 Numbers packed per carton: 350-400gms\n",
      "\u001b[1mAbout Us\u001b[0m\n",
      "About Us Anushka Avni International (AAI) takes pleasure in presenting itself as one of the renowned Suppliers and Exporter. We have huge assortment of agro products available with us. We feel proud when buyers come to us recognizing the standard quality which we offer in the world wide market. We follow the best practices while supplying… Read More..\n",
      "\u001b[1mDiet\u001b[0m\n",
      "In nutrition, the diet of an organism is the sum of foods it eats, which is largely determined by the availability and palatability of foods.\n",
      "\u001b[1mCanada's Food Guide\u001b[0m\n",
      "Canada's Food Guide is a nutrition guide produced by Health Canada to promote Healthy behaviours and habits, and lifestyles in Canada - this is to increase the number of healthy people in Canada. In 2007, it was reported to be the second most requested Canadian government publication, behind the Income Tax Forms. The Health Canada website states: Food guides are basic education tools that are designed to help people follow a healthy diet. The Guide recommends eating a variety of healthy foods each day including plenty of vegetables and fruits, protein foods, and whole grain foods. It recommends choosing protein foods that come from plants more often. It also recommends limiting highly processed foods.\n",
      "\u001b[1mMajor Market\u001b[0m\n",
      "UK, Nether Land, Russia, Canada, HongKong, Malaysia, Singapore, Oman, UAE, Qatar, Bahrain, Saudi Arabia, Mauritius, Maldives, Sri Lanka, Bangladesh\n",
      "\u001b[1mCanadian Industry Statistics\u001b[0m\n",
      "Canadian Industry Statistics (CIS) analyses industry data on many economic indicators in Canada\n",
      "\u001b[1mAbout Us\u001b[0m\n",
      "Anushka Avni International (AAI) takes pleasure in presenting itself as one of the renowned Suppliers and Exporter. We have huge assortment of agro products available with us. We feel proud when buyers come to us recognizing the standard quality which we offer in the world wide market. We follow the best practices while supplying and exportingAgro Products. We thoroughly consider the demand and requirement ofthe client till the final destination. The company professionals are aware of the fact that demands of thecustomers keep evolving. We do have strong background in Horticultureand Harvest handling of perishables. Company takes initiatives to deliver the best quality to thecustomers. Moreover, we have established ourselves in the market forproviding the best quality all across the domestic and Internationalmarket.\n",
      "\u001b[1mGrapes Flame / Red Seedless\u001b[0m\n",
      "Flame / Red seedless grapesFlame grapes are one of the most popular varieties along with…\n",
      "\u001b[1mFord Bronco \u001b[0m\n",
      "The Ford Bronco is a model line of sport utility vehicles manufactured and marketed by Ford. ... The first SUV model developed by the company, five generations of the Bronco were sold from the 1966 to 1996 model years. A sixth generation of the model line is sold from the 2021 model year. the Ford Bronco will be available in Canada, with first deliveries beginning in spring of 2021. The Bronco will come in six versions in Canada: Base, Big Bend, Black Diamond, Outer Banks, Wildtrak and Badlands. \n",
      "\u001b[1mList of fruit dishes\u001b[0m\n",
      "Fruit dishes are those that use fruit as a primary ingredient. Condiments prepared with fruit as a primary ingredient are also included in this list.\n"
     ]
    },
    {
     "data": {
      "text/html": [
       "<div>\n",
       "<style scoped>\n",
       "    .dataframe tbody tr th:only-of-type {\n",
       "        vertical-align: middle;\n",
       "    }\n",
       "\n",
       "    .dataframe tbody tr th {\n",
       "        vertical-align: top;\n",
       "    }\n",
       "\n",
       "    .dataframe thead th {\n",
       "        text-align: right;\n",
       "    }\n",
       "</style>\n",
       "<table border=\"1\" class=\"dataframe\">\n",
       "  <thead>\n",
       "    <tr style=\"text-align: right;\">\n",
       "      <th></th>\n",
       "      <th>raw</th>\n",
       "      <th>processed</th>\n",
       "      <th>glove</th>\n",
       "      <th>bert</th>\n",
       "    </tr>\n",
       "  </thead>\n",
       "  <tbody>\n",
       "    <tr>\n",
       "      <th>0</th>\n",
       "      <td>Canada's Food Guide</td>\n",
       "      <td>Canada's Food Guide</td>\n",
       "      <td>Canada's Food Guide</td>\n",
       "      <td>Canada's Food Guide</td>\n",
       "    </tr>\n",
       "    <tr>\n",
       "      <th>1</th>\n",
       "      <td>Diet</td>\n",
       "      <td>Diet</td>\n",
       "      <td>Diet</td>\n",
       "      <td>Canadian Industry Statistics</td>\n",
       "    </tr>\n",
       "    <tr>\n",
       "      <th>2</th>\n",
       "      <td>Canadian Industry Statistics</td>\n",
       "      <td>Canadian Industry Statistics</td>\n",
       "      <td>fruit serving bowl</td>\n",
       "      <td>List of fruit dishes</td>\n",
       "    </tr>\n",
       "    <tr>\n",
       "      <th>3</th>\n",
       "      <td>Ford Bronco</td>\n",
       "      <td>Major Market</td>\n",
       "      <td>About Us</td>\n",
       "      <td>Major Market</td>\n",
       "    </tr>\n",
       "    <tr>\n",
       "      <th>4</th>\n",
       "      <td>Major Market</td>\n",
       "      <td>Ford Bronco</td>\n",
       "      <td>Pomegranate Bhagwa</td>\n",
       "      <td>Grapes Flame / Red Seedless</td>\n",
       "    </tr>\n",
       "  </tbody>\n",
       "</table>\n",
       "</div>"
      ],
      "text/plain": [
       "                            raw                     processed  \\\n",
       "0           Canada's Food Guide           Canada's Food Guide   \n",
       "1                          Diet                          Diet   \n",
       "2  Canadian Industry Statistics  Canadian Industry Statistics   \n",
       "3                  Ford Bronco                   Major Market   \n",
       "4                  Major Market                  Ford Bronco    \n",
       "\n",
       "                 glove                          bert  \n",
       "0  Canada's Food Guide           Canada's Food Guide  \n",
       "1                 Diet  Canadian Industry Statistics  \n",
       "2   fruit serving bowl          List of fruit dishes  \n",
       "3             About Us                  Major Market  \n",
       "4   Pomegranate Bhagwa   Grapes Flame / Red Seedless  "
      ]
     },
     "execution_count": 102,
     "metadata": {},
     "output_type": "execute_result"
    }
   ],
   "source": [
    "df_health = create_Dataframe(query[2], df_results_tfidf_raw,df_results_tfidf_processed,df_results_tfidf_glove,df_results_tfidf_bert)\n",
    "print_documents(df_health)\n",
    "df_health"
   ]
  },
  {
   "cell_type": "markdown",
   "metadata": {
    "tags": []
   },
   "source": [
    "### Comparison\n",
    "Continuing the comparison of the last query, BERT model clearly has better semantic matching within the available documents. "
   ]
  },
  {
   "cell_type": "code",
   "execution_count": null,
   "metadata": {},
   "outputs": [],
   "source": []
  }
 ],
 "metadata": {
  "colab": {
   "collapsed_sections": [],
   "name": "SCS_3546_Assignment_3.ipynb",
   "provenance": []
  },
  "kernelspec": {
   "display_name": "Python 3 (ipykernel)",
   "language": "python",
   "name": "python3"
  },
  "language_info": {
   "codemirror_mode": {
    "name": "ipython",
    "version": 3
   },
   "file_extension": ".py",
   "mimetype": "text/x-python",
   "name": "python",
   "nbconvert_exporter": "python",
   "pygments_lexer": "ipython3",
   "version": "3.9.7"
  },
  "toc-autonumbering": true,
  "toc-showmarkdowntxt": false
 },
 "nbformat": 4,
 "nbformat_minor": 4
}
